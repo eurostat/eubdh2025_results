{
 "cells": [
  {
   "cell_type": "code",
   "execution_count": 1,
   "id": "4463c5cd-6f60-4a05-b765-2ce12b081257",
   "metadata": {},
   "outputs": [],
   "source": [
    "import openeo"
   ]
  },
  {
   "cell_type": "code",
<<<<<<< HEAD
   "execution_count": 2,
   "id": "c7a1e2f7-ebc4-46e2-909c-706bbb0d3ec1",
   "metadata": {},
   "outputs": [
    {
     "name": "stderr",
     "output_type": "stream",
     "text": [
      "/home/eouser/.local/lib/python3.10/site-packages/matplotlib/projections/__init__.py:63: UserWarning: Unable to import Axes3D. This may be due to multiple versions of Matplotlib being installed (e.g. as a system package and as a pip package). As a result, the 3D projection is not available.\n",
      "  warnings.warn(\"Unable to import Axes3D. This may be due to multiple versions of \"\n"
=======
   "execution_count": 94,
   "id": "0a40fc23",
   "metadata": {},
   "outputs": [],
   "source": [
    "import pandas as pd\n",
    "\n",
    "import boto3\n",
    "import configparser\n",
    "import os\n",
    "import urllib3\n",
    "\n",
    "import folium\n",
    "import geopandas as gpd\n",
    "\n",
    "import tempfile\n",
    "\n"
   ]
  },
  {
   "cell_type": "code",
   "execution_count": 3,
   "id": "f9e99472",
   "metadata": {},
   "outputs": [],
   "source": [
    "urllib3.disable_warnings()\n"
   ]
  },
  {
   "cell_type": "code",
   "execution_count": 4,
   "id": "322f5b38",
   "metadata": {},
   "outputs": [
    {
     "ename": "KeyError",
     "evalue": "'default'",
     "output_type": "error",
     "traceback": [
      "\u001b[0;31m---------------------------------------------------------------------------\u001b[0m",
      "\u001b[0;31mKeyError\u001b[0m                                  Traceback (most recent call last)",
      "\u001b[0;32m/tmp/ipykernel_599371/1573773078.py\u001b[0m in \u001b[0;36m<module>\u001b[0;34m\u001b[0m\n\u001b[1;32m     21\u001b[0m \u001b[0mconfig\u001b[0m \u001b[0;34m=\u001b[0m \u001b[0mconfigparser\u001b[0m\u001b[0;34m.\u001b[0m\u001b[0mConfigParser\u001b[0m\u001b[0;34m(\u001b[0m\u001b[0;34m)\u001b[0m\u001b[0;34m\u001b[0m\u001b[0;34m\u001b[0m\u001b[0m\n\u001b[1;32m     22\u001b[0m \u001b[0mconfig\u001b[0m\u001b[0;34m.\u001b[0m\u001b[0mread\u001b[0m\u001b[0;34m(\u001b[0m\u001b[0;34m'/home/eouser/.s3cfg'\u001b[0m\u001b[0;34m)\u001b[0m\u001b[0;34m\u001b[0m\u001b[0;34m\u001b[0m\u001b[0m\n\u001b[0;32m---> 23\u001b[0;31m \u001b[0mcredentials\u001b[0m \u001b[0;34m=\u001b[0m \u001b[0mdict\u001b[0m\u001b[0;34m(\u001b[0m\u001b[0mconfig\u001b[0m\u001b[0;34m[\u001b[0m\u001b[0;34m'default'\u001b[0m\u001b[0;34m]\u001b[0m\u001b[0;34m.\u001b[0m\u001b[0mitems\u001b[0m\u001b[0;34m(\u001b[0m\u001b[0;34m)\u001b[0m\u001b[0;34m)\u001b[0m\u001b[0;34m\u001b[0m\u001b[0;34m\u001b[0m\u001b[0m\n\u001b[0m\u001b[1;32m     24\u001b[0m \u001b[0;34m\u001b[0m\u001b[0m\n\u001b[1;32m     25\u001b[0m \u001b[0;31m# Connection with S3 eodata\u001b[0m\u001b[0;34m\u001b[0m\u001b[0;34m\u001b[0m\u001b[0m\n",
      "\u001b[0;32m/usr/lib/python3.10/configparser.py\u001b[0m in \u001b[0;36m__getitem__\u001b[0;34m(self, key)\u001b[0m\n\u001b[1;32m    963\u001b[0m     \u001b[0;32mdef\u001b[0m \u001b[0m__getitem__\u001b[0m\u001b[0;34m(\u001b[0m\u001b[0mself\u001b[0m\u001b[0;34m,\u001b[0m \u001b[0mkey\u001b[0m\u001b[0;34m)\u001b[0m\u001b[0;34m:\u001b[0m\u001b[0;34m\u001b[0m\u001b[0;34m\u001b[0m\u001b[0m\n\u001b[1;32m    964\u001b[0m         \u001b[0;32mif\u001b[0m \u001b[0mkey\u001b[0m \u001b[0;34m!=\u001b[0m \u001b[0mself\u001b[0m\u001b[0;34m.\u001b[0m\u001b[0mdefault_section\u001b[0m \u001b[0;32mand\u001b[0m \u001b[0;32mnot\u001b[0m \u001b[0mself\u001b[0m\u001b[0;34m.\u001b[0m\u001b[0mhas_section\u001b[0m\u001b[0;34m(\u001b[0m\u001b[0mkey\u001b[0m\u001b[0;34m)\u001b[0m\u001b[0;34m:\u001b[0m\u001b[0;34m\u001b[0m\u001b[0;34m\u001b[0m\u001b[0m\n\u001b[0;32m--> 965\u001b[0;31m             \u001b[0;32mraise\u001b[0m \u001b[0mKeyError\u001b[0m\u001b[0;34m(\u001b[0m\u001b[0mkey\u001b[0m\u001b[0;34m)\u001b[0m\u001b[0;34m\u001b[0m\u001b[0;34m\u001b[0m\u001b[0m\n\u001b[0m\u001b[1;32m    966\u001b[0m         \u001b[0;32mreturn\u001b[0m \u001b[0mself\u001b[0m\u001b[0;34m.\u001b[0m\u001b[0m_proxies\u001b[0m\u001b[0;34m[\u001b[0m\u001b[0mkey\u001b[0m\u001b[0;34m]\u001b[0m\u001b[0;34m\u001b[0m\u001b[0;34m\u001b[0m\u001b[0m\n\u001b[1;32m    967\u001b[0m \u001b[0;34m\u001b[0m\u001b[0m\n",
      "\u001b[0;31mKeyError\u001b[0m: 'default'"
>>>>>>> request_era
     ]
    }
   ],
   "source": [
<<<<<<< HEAD
=======
    "def s3_connection(credentials: dict) -> boto3.session.Session:\n",
    "    \"\"\"Establishes a connection to an S3 bucket.\n",
    "\n",
    "    Args:\n",
    "        credentials (dict): A dictionary containing AWS S3 credentials with keys \n",
    "                            'host_base', 'access_key', and 'secret_key'.\n",
    "\n",
    "    Returns:\n",
    "        boto3.session.Session: A boto3 session client configured with the provided \n",
    "                               credentials for interacting with the S3 service.\n",
    "    \"\"\"\n",
    "    s3 = boto3.client('s3',\n",
    "                      endpoint_url=credentials['s3.waw3-2.cloudferro.com'],\n",
    "                      aws_access_key_id=credentials['158820109a7840edad251bd932225542'],\n",
    "                      aws_secret_access_key=credentials['4a730b32f0884d02a5e33c1ca5e4f04f'],\n",
    "                      use_ssl=True,\n",
    "                      verify=False)\n",
    "    return s3\n",
    "\n",
    "# Load s3 credentials\n",
    "config = configparser.ConfigParser()\n",
    "config.read('/home/eouser/.s3cfg')\n",
    "credentials = dict(config['default'].items())\n",
    "\n",
    "# Connection with S3 eodata\n",
    "s3 = s3_connection(credentials)"
   ]
  },
  {
   "cell_type": "code",
   "execution_count": 5,
   "id": "c7a1e2f7-ebc4-46e2-909c-706bbb0d3ec1",
   "metadata": {},
   "outputs": [],
   "source": [
>>>>>>> request_era
    "# Python Standard Libraries\n",
    "import os\n",
    "import datetime as dt\n",
    "\n",
    "# Data Manipulation Libraries\n",
    "import numpy as np\n",
    "import xarray as xr\n",
    "\n",
    "# Visualization Libraries\n",
    "import matplotlib.pyplot as plt\n",
    "import cartopy\n",
    "import cartopy.crs as ccrs\n",
    "\n",
    "\n",
    "# Climate Data Store API for retrieving climate data\n",
    "import cdsapi"
   ]
  },
  {
   "cell_type": "code",
<<<<<<< HEAD
   "execution_count": 3,
=======
   "execution_count": 6,
>>>>>>> request_era
   "id": "aa656138-eec0-4742-b9c7-3141e668a7a3",
   "metadata": {},
   "outputs": [],
   "source": [
    "URL = 'https://cds.climate.copernicus.eu/api/'\n",
    "KEY = '8e131516-61d5-4ee6-814f-ef1b8d9bdafb' # add your key here the format should be as {uid}:{api-key}"
   ]
  },
  {
   "cell_type": "code",
   "execution_count": null,
   "id": "7133b03d",
   "metadata": {},
   "outputs": [],
   "source": []
  },
  {
   "cell_type": "code",
<<<<<<< HEAD
   "execution_count": 4,
=======
   "execution_count": 7,
>>>>>>> request_era
   "id": "2ae5696e-4d66-43c9-bffe-9b9952dc3f05",
   "metadata": {},
   "outputs": [
    {
     "data": {
      "text/plain": [
       "{'era5': '/home/eouser/hackathon/data/era5/temperature_era5.nc'}"
      ]
     },
<<<<<<< HEAD
     "execution_count": 4,
=======
     "execution_count": 7,
>>>>>>> request_era
     "metadata": {},
     "output_type": "execute_result"
    }
   ],
   "source": [
    "file_name = {}  # dictionary containing [data source : file name]\n",
    "\n",
    "# Add the data sources and file names\n",
    "file_name.update({\"era5\": \"temperature_era5.nc\"})\n",
    "\n",
    "# Create the paths to the files\n",
    "path_to = {\n",
    "    source: os.path.join(f\"/home/eouser/hackathon/data/{source}/\", file) for source, file in file_name.items()\n",
    "}\n",
    "\n",
    "# Create necessary directories if they do not exist\n",
    "for path in path_to.values():\n",
    "    os.makedirs(\n",
    "        os.path.dirname(path), exist_ok=True\n",
    "    )  # create the folder if not available\n",
    "\n",
    "path_to"
   ]
  },
  {
   "cell_type": "code",
<<<<<<< HEAD
   "execution_count": 5,
=======
   "execution_count": 8,
>>>>>>> request_era
   "id": "c9a1c5b3-891d-4a67-8067-744cfec670a3",
   "metadata": {},
   "outputs": [
    {
     "name": "stderr",
     "output_type": "stream",
     "text": [
<<<<<<< HEAD
      "2025-03-07 10:51:52,185 INFO [2024-09-26T00:00:00] Watch our [Forum](https://forum.ecmwf.int/) for Announcements, news and other discussed topics.\n",
      "2025-03-07 10:51:52,186 WARNING [2024-06-16T00:00:00] CDS API syntax is changed and some keys or parameter names may have also changed. To avoid requests failing, please use the \"Show API request code\" tool on the dataset Download Form to check you are using the correct syntax for your API request.\n",
      "2025-03-07 10:51:52,433 INFO Request ID is 2ae277d3-216e-4c6a-91b6-28be3c2e89ee\n",
      "2025-03-07 10:51:52,516 INFO status has been updated to accepted\n",
      "2025-03-07 10:52:01,029 INFO status has been updated to successful\n",
=======
      "2025-03-07 15:43:16,301 INFO [2024-09-26T00:00:00] Watch our [Forum](https://forum.ecmwf.int/) for Announcements, news and other discussed topics.\n",
      "2025-03-07 15:43:16,302 WARNING [2024-06-16T00:00:00] CDS API syntax is changed and some keys or parameter names may have also changed. To avoid requests failing, please use the \"Show API request code\" tool on the dataset Download Form to check you are using the correct syntax for your API request.\n",
      "2025-03-07 15:43:16,608 INFO Request ID is f69c6c2e-43db-437d-b8d0-2b6d43801c7a\n",
      "2025-03-07 15:43:16,723 INFO status has been updated to accepted\n",
      "2025-03-07 15:43:25,224 INFO status has been updated to successful\n",
>>>>>>> request_era
      "                                                                                        \r"
     ]
    },
    {
     "data": {
      "text/plain": [
       "'/home/eouser/hackathon/data/era5/temperature_era5.nc'"
      ]
     },
<<<<<<< HEAD
     "execution_count": 5,
=======
     "execution_count": 8,
>>>>>>> request_era
     "metadata": {},
     "output_type": "execute_result"
    }
   ],
   "source": [
    "\n",
    "\n",
    "client = cdsapi.Client()\n",
    "\n",
    "dataset = 'reanalysis-era5-single-levels-monthly-means'\n",
    "request = {\n",
    "  'product_type': ['monthly_averaged_reanalysis'],\n",
    "  'variable': ['2m_temperature', 'land_sea_mask'],\n",
<<<<<<< HEAD
    "  'year': ['1950', '2020'],\n",
    "  'month': list(range(1, 13)),\n",
    "  'time': '00:00',\n",
    "  'data_format': 'netcdf',\n",
=======
    "  'year': ['2017', '2018', '2019', '2020', '2021', '2022', '2023'],\n",
    "  'month': list(range(1, 13)),\n",
    "  'time': '00:00',\n",
    "  'data_format': 'netcdf',\n",
    "  'area': [47, 12, 46, 14],\n",
>>>>>>> request_era
    "  'download_format': 'unarchived' \n",
    "}\n",
    "target = path_to['era5']\n",
    "\n",
    "client.retrieve(dataset, request, target)"
   ]
  },
  {
   "cell_type": "code",
<<<<<<< HEAD
   "execution_count": 6,
   "id": "d7c66f68-1ee7-403f-b69e-d877cef8e767",
   "metadata": {},
   "outputs": [
    {
     "name": "stderr",
     "output_type": "stream",
     "text": [
      "2025-03-07 10:52:04,744 INFO [2024-09-26T00:00:00] Watch our [Forum](https://forum.ecmwf.int/) for Announcements, news and other discussed topics.\n",
      "2025-03-07 10:52:04,745 WARNING [2024-06-16T00:00:00] CDS API syntax is changed and some keys or parameter names may have also changed. To avoid requests failing, please use the \"Show API request code\" tool on the dataset Download Form to check you are using the correct syntax for your API request.\n",
      "2025-03-07 10:52:04,998 INFO Request ID is 0f3b6fdf-1e99-4148-a7ec-5c2a87085cc9\n",
      "2025-03-07 10:52:05,053 INFO status has been updated to accepted\n",
      "2025-03-07 10:52:09,986 INFO status has been updated to successful\n",
      "                                                                                         \r"
     ]
    },
    {
     "data": {
      "text/plain": [
       "'/home/eouser/hackathon/data/era5/temperature_era5.nc'"
      ]
     },
     "execution_count": 6,
     "metadata": {},
     "output_type": "execute_result"
    }
   ],
   "source": [
    "c = cdsapi.Client(url=URL, key=KEY)\n",
    "\n",
    "c.retrieve(\n",
    "  'reanalysis-era5-single-levels-monthly-means',\n",
    "  {\n",
    "    'format': 'netcdf',\n",
    "    'product_type': 'monthly_averaged_reanalysis',\n",
    "    'variable': ['2m_temperature', 'land_sea_mask'],\n",
    "    'year': list(range(1950, 2023)),\n",
    "    'month': list(range(1, 13)),\n",
    "    'time': '00:00',\n",
    "    # 'grid': [0.25, 0.25],\n",
    "  },\n",
    "  path_to['era5']\n",
    ")"
   ]
  },
  {
   "cell_type": "code",
   "execution_count": 5,
=======
   "execution_count": 92,
>>>>>>> request_era
   "id": "51e49d6d-2211-4bd3-85d8-10d9f96e423f",
   "metadata": {},
   "outputs": [
    {
     "data": {
      "text/html": [
       "<div><svg style=\"position: absolute; width: 0; height: 0; overflow: hidden\">\n",
       "<defs>\n",
       "<symbol id=\"icon-database\" viewBox=\"0 0 32 32\">\n",
       "<path d=\"M16 0c-8.837 0-16 2.239-16 5v4c0 2.761 7.163 5 16 5s16-2.239 16-5v-4c0-2.761-7.163-5-16-5z\"></path>\n",
       "<path d=\"M16 17c-8.837 0-16-2.239-16-5v6c0 2.761 7.163 5 16 5s16-2.239 16-5v-6c0 2.761-7.163 5-16 5z\"></path>\n",
       "<path d=\"M16 26c-8.837 0-16-2.239-16-5v6c0 2.761 7.163 5 16 5s16-2.239 16-5v-6c0 2.761-7.163 5-16 5z\"></path>\n",
       "</symbol>\n",
       "<symbol id=\"icon-file-text2\" viewBox=\"0 0 32 32\">\n",
       "<path d=\"M28.681 7.159c-0.694-0.947-1.662-2.053-2.724-3.116s-2.169-2.030-3.116-2.724c-1.612-1.182-2.393-1.319-2.841-1.319h-15.5c-1.378 0-2.5 1.121-2.5 2.5v27c0 1.378 1.122 2.5 2.5 2.5h23c1.378 0 2.5-1.122 2.5-2.5v-19.5c0-0.448-0.137-1.23-1.319-2.841zM24.543 5.457c0.959 0.959 1.712 1.825 2.268 2.543h-4.811v-4.811c0.718 0.556 1.584 1.309 2.543 2.268zM28 29.5c0 0.271-0.229 0.5-0.5 0.5h-23c-0.271 0-0.5-0.229-0.5-0.5v-27c0-0.271 0.229-0.5 0.5-0.5 0 0 15.499-0 15.5 0v7c0 0.552 0.448 1 1 1h7v19.5z\"></path>\n",
       "<path d=\"M23 26h-14c-0.552 0-1-0.448-1-1s0.448-1 1-1h14c0.552 0 1 0.448 1 1s-0.448 1-1 1z\"></path>\n",
       "<path d=\"M23 22h-14c-0.552 0-1-0.448-1-1s0.448-1 1-1h14c0.552 0 1 0.448 1 1s-0.448 1-1 1z\"></path>\n",
       "<path d=\"M23 18h-14c-0.552 0-1-0.448-1-1s0.448-1 1-1h14c0.552 0 1 0.448 1 1s-0.448 1-1 1z\"></path>\n",
       "</symbol>\n",
       "</defs>\n",
       "</svg>\n",
       "<style>/* CSS stylesheet for displaying xarray objects in jupyterlab.\n",
       " *\n",
       " */\n",
       "\n",
       ":root {\n",
       "  --xr-font-color0: var(--jp-content-font-color0, rgba(0, 0, 0, 1));\n",
       "  --xr-font-color2: var(--jp-content-font-color2, rgba(0, 0, 0, 0.54));\n",
       "  --xr-font-color3: var(--jp-content-font-color3, rgba(0, 0, 0, 0.38));\n",
       "  --xr-border-color: var(--jp-border-color2, #e0e0e0);\n",
       "  --xr-disabled-color: var(--jp-layout-color3, #bdbdbd);\n",
       "  --xr-background-color: var(--jp-layout-color0, white);\n",
       "  --xr-background-color-row-even: var(--jp-layout-color1, white);\n",
       "  --xr-background-color-row-odd: var(--jp-layout-color2, #eeeeee);\n",
       "}\n",
       "\n",
       "html[theme=\"dark\"],\n",
       "html[data-theme=\"dark\"],\n",
       "body[data-theme=\"dark\"],\n",
       "body.vscode-dark {\n",
       "  --xr-font-color0: rgba(255, 255, 255, 1);\n",
       "  --xr-font-color2: rgba(255, 255, 255, 0.54);\n",
       "  --xr-font-color3: rgba(255, 255, 255, 0.38);\n",
       "  --xr-border-color: #1f1f1f;\n",
       "  --xr-disabled-color: #515151;\n",
       "  --xr-background-color: #111111;\n",
       "  --xr-background-color-row-even: #111111;\n",
       "  --xr-background-color-row-odd: #313131;\n",
       "}\n",
       "\n",
       ".xr-wrap {\n",
       "  display: block !important;\n",
       "  min-width: 300px;\n",
       "  max-width: 700px;\n",
       "}\n",
       "\n",
       ".xr-text-repr-fallback {\n",
       "  /* fallback to plain text repr when CSS is not injected (untrusted notebook) */\n",
       "  display: none;\n",
       "}\n",
       "\n",
       ".xr-header {\n",
       "  padding-top: 6px;\n",
       "  padding-bottom: 6px;\n",
       "  margin-bottom: 4px;\n",
       "  border-bottom: solid 1px var(--xr-border-color);\n",
       "}\n",
       "\n",
       ".xr-header > div,\n",
       ".xr-header > ul {\n",
       "  display: inline;\n",
       "  margin-top: 0;\n",
       "  margin-bottom: 0;\n",
       "}\n",
       "\n",
       ".xr-obj-type,\n",
       ".xr-array-name {\n",
       "  margin-left: 2px;\n",
       "  margin-right: 10px;\n",
       "}\n",
       "\n",
       ".xr-obj-type {\n",
       "  color: var(--xr-font-color2);\n",
       "}\n",
       "\n",
       ".xr-sections {\n",
       "  padding-left: 0 !important;\n",
       "  display: grid;\n",
       "  grid-template-columns: 150px auto auto 1fr 0 20px 0 20px;\n",
       "}\n",
       "\n",
       ".xr-section-item {\n",
       "  display: contents;\n",
       "}\n",
       "\n",
       ".xr-section-item input {\n",
       "  display: inline-block;\n",
       "  opacity: 0;\n",
       "  height: 0;\n",
       "}\n",
       "\n",
       ".xr-section-item input + label {\n",
       "  color: var(--xr-disabled-color);\n",
       "}\n",
       "\n",
       ".xr-section-item input:enabled + label {\n",
       "  cursor: pointer;\n",
       "  color: var(--xr-font-color2);\n",
       "}\n",
       "\n",
       ".xr-section-item input:focus + label {\n",
       "  border: 2px solid var(--xr-font-color0);\n",
       "}\n",
       "\n",
       ".xr-section-item input:enabled + label:hover {\n",
       "  color: var(--xr-font-color0);\n",
       "}\n",
       "\n",
       ".xr-section-summary {\n",
       "  grid-column: 1;\n",
       "  color: var(--xr-font-color2);\n",
       "  font-weight: 500;\n",
       "}\n",
       "\n",
       ".xr-section-summary > span {\n",
       "  display: inline-block;\n",
       "  padding-left: 0.5em;\n",
       "}\n",
       "\n",
       ".xr-section-summary-in:disabled + label {\n",
       "  color: var(--xr-font-color2);\n",
       "}\n",
       "\n",
       ".xr-section-summary-in + label:before {\n",
       "  display: inline-block;\n",
       "  content: \"►\";\n",
       "  font-size: 11px;\n",
       "  width: 15px;\n",
       "  text-align: center;\n",
       "}\n",
       "\n",
       ".xr-section-summary-in:disabled + label:before {\n",
       "  color: var(--xr-disabled-color);\n",
       "}\n",
       "\n",
       ".xr-section-summary-in:checked + label:before {\n",
       "  content: \"▼\";\n",
       "}\n",
       "\n",
       ".xr-section-summary-in:checked + label > span {\n",
       "  display: none;\n",
       "}\n",
       "\n",
       ".xr-section-summary,\n",
       ".xr-section-inline-details {\n",
       "  padding-top: 4px;\n",
       "  padding-bottom: 4px;\n",
       "}\n",
       "\n",
       ".xr-section-inline-details {\n",
       "  grid-column: 2 / -1;\n",
       "}\n",
       "\n",
       ".xr-section-details {\n",
       "  display: none;\n",
       "  grid-column: 1 / -1;\n",
       "  margin-bottom: 5px;\n",
       "}\n",
       "\n",
       ".xr-section-summary-in:checked ~ .xr-section-details {\n",
       "  display: contents;\n",
       "}\n",
       "\n",
       ".xr-array-wrap {\n",
       "  grid-column: 1 / -1;\n",
       "  display: grid;\n",
       "  grid-template-columns: 20px auto;\n",
       "}\n",
       "\n",
       ".xr-array-wrap > label {\n",
       "  grid-column: 1;\n",
       "  vertical-align: top;\n",
       "}\n",
       "\n",
       ".xr-preview {\n",
       "  color: var(--xr-font-color3);\n",
       "}\n",
       "\n",
       ".xr-array-preview,\n",
       ".xr-array-data {\n",
       "  padding: 0 5px !important;\n",
       "  grid-column: 2;\n",
       "}\n",
       "\n",
       ".xr-array-data,\n",
       ".xr-array-in:checked ~ .xr-array-preview {\n",
       "  display: none;\n",
       "}\n",
       "\n",
       ".xr-array-in:checked ~ .xr-array-data,\n",
       ".xr-array-preview {\n",
       "  display: inline-block;\n",
       "}\n",
       "\n",
       ".xr-dim-list {\n",
       "  display: inline-block !important;\n",
       "  list-style: none;\n",
       "  padding: 0 !important;\n",
       "  margin: 0;\n",
       "}\n",
       "\n",
       ".xr-dim-list li {\n",
       "  display: inline-block;\n",
       "  padding: 0;\n",
       "  margin: 0;\n",
       "}\n",
       "\n",
       ".xr-dim-list:before {\n",
       "  content: \"(\";\n",
       "}\n",
       "\n",
       ".xr-dim-list:after {\n",
       "  content: \")\";\n",
       "}\n",
       "\n",
       ".xr-dim-list li:not(:last-child):after {\n",
       "  content: \",\";\n",
       "  padding-right: 5px;\n",
       "}\n",
       "\n",
       ".xr-has-index {\n",
       "  font-weight: bold;\n",
       "}\n",
       "\n",
       ".xr-var-list,\n",
       ".xr-var-item {\n",
       "  display: contents;\n",
       "}\n",
       "\n",
       ".xr-var-item > div,\n",
       ".xr-var-item label,\n",
       ".xr-var-item > .xr-var-name span {\n",
       "  background-color: var(--xr-background-color-row-even);\n",
       "  margin-bottom: 0;\n",
       "}\n",
       "\n",
       ".xr-var-item > .xr-var-name:hover span {\n",
       "  padding-right: 5px;\n",
       "}\n",
       "\n",
       ".xr-var-list > li:nth-child(odd) > div,\n",
       ".xr-var-list > li:nth-child(odd) > label,\n",
       ".xr-var-list > li:nth-child(odd) > .xr-var-name span {\n",
       "  background-color: var(--xr-background-color-row-odd);\n",
       "}\n",
       "\n",
       ".xr-var-name {\n",
       "  grid-column: 1;\n",
       "}\n",
       "\n",
       ".xr-var-dims {\n",
       "  grid-column: 2;\n",
       "}\n",
       "\n",
       ".xr-var-dtype {\n",
       "  grid-column: 3;\n",
       "  text-align: right;\n",
       "  color: var(--xr-font-color2);\n",
       "}\n",
       "\n",
       ".xr-var-preview {\n",
       "  grid-column: 4;\n",
       "}\n",
       "\n",
       ".xr-index-preview {\n",
       "  grid-column: 2 / 5;\n",
       "  color: var(--xr-font-color2);\n",
       "}\n",
       "\n",
       ".xr-var-name,\n",
       ".xr-var-dims,\n",
       ".xr-var-dtype,\n",
       ".xr-preview,\n",
       ".xr-attrs dt {\n",
       "  white-space: nowrap;\n",
       "  overflow: hidden;\n",
       "  text-overflow: ellipsis;\n",
       "  padding-right: 10px;\n",
       "}\n",
       "\n",
       ".xr-var-name:hover,\n",
       ".xr-var-dims:hover,\n",
       ".xr-var-dtype:hover,\n",
       ".xr-attrs dt:hover {\n",
       "  overflow: visible;\n",
       "  width: auto;\n",
       "  z-index: 1;\n",
       "}\n",
       "\n",
       ".xr-var-attrs,\n",
       ".xr-var-data,\n",
       ".xr-index-data {\n",
       "  display: none;\n",
       "  background-color: var(--xr-background-color) !important;\n",
       "  padding-bottom: 5px !important;\n",
       "}\n",
       "\n",
       ".xr-var-attrs-in:checked ~ .xr-var-attrs,\n",
       ".xr-var-data-in:checked ~ .xr-var-data,\n",
       ".xr-index-data-in:checked ~ .xr-index-data {\n",
       "  display: block;\n",
       "}\n",
       "\n",
       ".xr-var-data > table {\n",
       "  float: right;\n",
       "}\n",
       "\n",
       ".xr-var-name span,\n",
       ".xr-var-data,\n",
       ".xr-index-name div,\n",
       ".xr-index-data,\n",
       ".xr-attrs {\n",
       "  padding-left: 25px !important;\n",
       "}\n",
       "\n",
       ".xr-attrs,\n",
       ".xr-var-attrs,\n",
       ".xr-var-data,\n",
       ".xr-index-data {\n",
       "  grid-column: 1 / -1;\n",
       "}\n",
       "\n",
       "dl.xr-attrs {\n",
       "  padding: 0;\n",
       "  margin: 0;\n",
       "  display: grid;\n",
       "  grid-template-columns: 125px auto;\n",
       "}\n",
       "\n",
       ".xr-attrs dt,\n",
       ".xr-attrs dd {\n",
       "  padding: 0;\n",
       "  margin: 0;\n",
       "  float: left;\n",
       "  padding-right: 10px;\n",
       "  width: auto;\n",
       "}\n",
       "\n",
       ".xr-attrs dt {\n",
       "  font-weight: normal;\n",
       "  grid-column: 1;\n",
       "}\n",
       "\n",
       ".xr-attrs dt:hover span {\n",
       "  display: inline-block;\n",
       "  background: var(--xr-background-color);\n",
       "  padding-right: 10px;\n",
       "}\n",
       "\n",
       ".xr-attrs dd {\n",
       "  grid-column: 2;\n",
       "  white-space: pre-wrap;\n",
       "  word-break: break-all;\n",
       "}\n",
       "\n",
       ".xr-icon-database,\n",
       ".xr-icon-file-text2,\n",
       ".xr-no-icon {\n",
       "  display: inline-block;\n",
       "  vertical-align: middle;\n",
       "  width: 1em;\n",
       "  height: 1.5em !important;\n",
       "  stroke-width: 0;\n",
       "  stroke: currentColor;\n",
       "  fill: currentColor;\n",
       "}\n",
<<<<<<< HEAD
       "</style><pre class='xr-text-repr-fallback'>&lt;xarray.Dataset&gt; Size: 7GB\n",
       "Dimensions:     (valid_time: 876, latitude: 721, longitude: 1440)\n",
       "Coordinates:\n",
       "    number      int64 8B ...\n",
       "  * valid_time  (valid_time) datetime64[ns] 7kB 1950-01-01 ... 2022-12-01\n",
       "  * latitude    (latitude) float64 6kB 90.0 89.75 89.5 ... -89.5 -89.75 -90.0\n",
       "  * longitude   (longitude) float64 12kB 0.0 0.25 0.5 0.75 ... 359.2 359.5 359.8\n",
       "    expver      (valid_time) &lt;U4 14kB ...\n",
       "Data variables:\n",
       "    t2m         (valid_time, latitude, longitude) float32 4GB ...\n",
       "    lsm         (valid_time, latitude, longitude) float32 4GB ...\n",
=======
       "</style><pre class='xr-text-repr-fallback'>&lt;xarray.Dataset&gt; Size: 32kB\n",
       "Dimensions:     (valid_time: 84, latitude: 5, longitude: 9)\n",
       "Coordinates:\n",
       "    number      int64 8B ...\n",
       "  * valid_time  (valid_time) datetime64[ns] 672B 2017-01-01 ... 2023-12-01\n",
       "  * latitude    (latitude) float64 40B 47.0 46.75 46.5 46.25 46.0\n",
       "  * longitude   (longitude) float64 72B 12.0 12.25 12.5 ... 13.5 13.75 14.0\n",
       "    expver      (valid_time) &lt;U4 1kB ...\n",
       "Data variables:\n",
       "    t2m         (valid_time, latitude, longitude) float32 15kB ...\n",
       "    lsm         (valid_time, latitude, longitude) float32 15kB ...\n",
>>>>>>> request_era
       "Attributes:\n",
       "    GRIB_centre:             ecmf\n",
       "    GRIB_centreDescription:  European Centre for Medium-Range Weather Forecasts\n",
       "    GRIB_subCentre:          0\n",
       "    Conventions:             CF-1.7\n",
<<<<<<< HEAD
       "    institution:             European Centre for Medium-Range Weather Forecasts</pre><div class='xr-wrap' style='display:none'><div class='xr-header'><div class='xr-obj-type'>xarray.Dataset</div></div><ul class='xr-sections'><li class='xr-section-item'><input id='section-ada80484-fa51-41db-9fb8-a036354c1351' class='xr-section-summary-in' type='checkbox' disabled ><label for='section-ada80484-fa51-41db-9fb8-a036354c1351' class='xr-section-summary'  title='Expand/collapse section'>Dimensions:</label><div class='xr-section-inline-details'><ul class='xr-dim-list'><li><span class='xr-has-index'>valid_time</span>: 876</li><li><span class='xr-has-index'>latitude</span>: 721</li><li><span class='xr-has-index'>longitude</span>: 1440</li></ul></div><div class='xr-section-details'></div></li><li class='xr-section-item'><input id='section-01773aa1-e7c3-4f8a-83ad-5f390c82ab0c' class='xr-section-summary-in' type='checkbox'  checked><label for='section-01773aa1-e7c3-4f8a-83ad-5f390c82ab0c' class='xr-section-summary' >Coordinates: <span>(5)</span></label><div class='xr-section-inline-details'></div><div class='xr-section-details'><ul class='xr-var-list'><li class='xr-var-item'><div class='xr-var-name'><span>number</span></div><div class='xr-var-dims'>()</div><div class='xr-var-dtype'>int64</div><div class='xr-var-preview xr-preview'>...</div><input id='attrs-297c1e26-6b0e-4dad-b9e9-16f28b487dc1' class='xr-var-attrs-in' type='checkbox' ><label for='attrs-297c1e26-6b0e-4dad-b9e9-16f28b487dc1' title='Show/Hide attributes'><svg class='icon xr-icon-file-text2'><use xlink:href='#icon-file-text2'></use></svg></label><input id='data-c76dc311-ed69-4ee0-bb68-6cea7c90c796' class='xr-var-data-in' type='checkbox'><label for='data-c76dc311-ed69-4ee0-bb68-6cea7c90c796' title='Show/Hide data repr'><svg class='icon xr-icon-database'><use xlink:href='#icon-database'></use></svg></label><div class='xr-var-attrs'><dl class='xr-attrs'><dt><span>long_name :</span></dt><dd>ensemble member numerical id</dd><dt><span>units :</span></dt><dd>1</dd><dt><span>standard_name :</span></dt><dd>realization</dd></dl></div><div class='xr-var-data'><pre>[1 values with dtype=int64]</pre></div></li><li class='xr-var-item'><div class='xr-var-name'><span class='xr-has-index'>valid_time</span></div><div class='xr-var-dims'>(valid_time)</div><div class='xr-var-dtype'>datetime64[ns]</div><div class='xr-var-preview xr-preview'>1950-01-01 ... 2022-12-01</div><input id='attrs-ca93b7cf-76e4-4571-8e94-76492833ad66' class='xr-var-attrs-in' type='checkbox' ><label for='attrs-ca93b7cf-76e4-4571-8e94-76492833ad66' title='Show/Hide attributes'><svg class='icon xr-icon-file-text2'><use xlink:href='#icon-file-text2'></use></svg></label><input id='data-3943d28a-8a52-4397-b7d9-da6748bc52ab' class='xr-var-data-in' type='checkbox'><label for='data-3943d28a-8a52-4397-b7d9-da6748bc52ab' title='Show/Hide data repr'><svg class='icon xr-icon-database'><use xlink:href='#icon-database'></use></svg></label><div class='xr-var-attrs'><dl class='xr-attrs'><dt><span>long_name :</span></dt><dd>time</dd><dt><span>standard_name :</span></dt><dd>time</dd></dl></div><div class='xr-var-data'><pre>array([&#x27;1950-01-01T00:00:00.000000000&#x27;, &#x27;1950-02-01T00:00:00.000000000&#x27;,\n",
       "       &#x27;1950-03-01T00:00:00.000000000&#x27;, ..., &#x27;2022-10-01T00:00:00.000000000&#x27;,\n",
       "       &#x27;2022-11-01T00:00:00.000000000&#x27;, &#x27;2022-12-01T00:00:00.000000000&#x27;],\n",
       "      dtype=&#x27;datetime64[ns]&#x27;)</pre></div></li><li class='xr-var-item'><div class='xr-var-name'><span class='xr-has-index'>latitude</span></div><div class='xr-var-dims'>(latitude)</div><div class='xr-var-dtype'>float64</div><div class='xr-var-preview xr-preview'>90.0 89.75 89.5 ... -89.75 -90.0</div><input id='attrs-55ce2a2c-f7ee-414e-b9cd-3f016ec2b768' class='xr-var-attrs-in' type='checkbox' ><label for='attrs-55ce2a2c-f7ee-414e-b9cd-3f016ec2b768' title='Show/Hide attributes'><svg class='icon xr-icon-file-text2'><use xlink:href='#icon-file-text2'></use></svg></label><input id='data-36351056-03bb-4b17-9e2a-4c94e44817ef' class='xr-var-data-in' type='checkbox'><label for='data-36351056-03bb-4b17-9e2a-4c94e44817ef' title='Show/Hide data repr'><svg class='icon xr-icon-database'><use xlink:href='#icon-database'></use></svg></label><div class='xr-var-attrs'><dl class='xr-attrs'><dt><span>units :</span></dt><dd>degrees_north</dd><dt><span>standard_name :</span></dt><dd>latitude</dd><dt><span>long_name :</span></dt><dd>latitude</dd><dt><span>stored_direction :</span></dt><dd>decreasing</dd></dl></div><div class='xr-var-data'><pre>array([ 90.  ,  89.75,  89.5 , ..., -89.5 , -89.75, -90.  ])</pre></div></li><li class='xr-var-item'><div class='xr-var-name'><span class='xr-has-index'>longitude</span></div><div class='xr-var-dims'>(longitude)</div><div class='xr-var-dtype'>float64</div><div class='xr-var-preview xr-preview'>0.0 0.25 0.5 ... 359.2 359.5 359.8</div><input id='attrs-2085cbad-6000-4997-915a-308ea9293d8b' class='xr-var-attrs-in' type='checkbox' ><label for='attrs-2085cbad-6000-4997-915a-308ea9293d8b' title='Show/Hide attributes'><svg class='icon xr-icon-file-text2'><use xlink:href='#icon-file-text2'></use></svg></label><input id='data-2dd3dc21-b537-466d-8c96-64b2dc808cbd' class='xr-var-data-in' type='checkbox'><label for='data-2dd3dc21-b537-466d-8c96-64b2dc808cbd' title='Show/Hide data repr'><svg class='icon xr-icon-database'><use xlink:href='#icon-database'></use></svg></label><div class='xr-var-attrs'><dl class='xr-attrs'><dt><span>units :</span></dt><dd>degrees_east</dd><dt><span>standard_name :</span></dt><dd>longitude</dd><dt><span>long_name :</span></dt><dd>longitude</dd></dl></div><div class='xr-var-data'><pre>array([0.0000e+00, 2.5000e-01, 5.0000e-01, ..., 3.5925e+02, 3.5950e+02,\n",
       "       3.5975e+02])</pre></div></li><li class='xr-var-item'><div class='xr-var-name'><span>expver</span></div><div class='xr-var-dims'>(valid_time)</div><div class='xr-var-dtype'>&lt;U4</div><div class='xr-var-preview xr-preview'>...</div><input id='attrs-d468c9c4-2b71-4584-8108-5892030249db' class='xr-var-attrs-in' type='checkbox' disabled><label for='attrs-d468c9c4-2b71-4584-8108-5892030249db' title='Show/Hide attributes'><svg class='icon xr-icon-file-text2'><use xlink:href='#icon-file-text2'></use></svg></label><input id='data-b1e422ea-01e6-43aa-8f10-ffc23eb86393' class='xr-var-data-in' type='checkbox'><label for='data-b1e422ea-01e6-43aa-8f10-ffc23eb86393' title='Show/Hide data repr'><svg class='icon xr-icon-database'><use xlink:href='#icon-database'></use></svg></label><div class='xr-var-attrs'><dl class='xr-attrs'></dl></div><div class='xr-var-data'><pre>[876 values with dtype=&lt;U4]</pre></div></li></ul></div></li><li class='xr-section-item'><input id='section-d7e95ece-baaa-4d3a-aaa2-d65ad11b8563' class='xr-section-summary-in' type='checkbox'  checked><label for='section-d7e95ece-baaa-4d3a-aaa2-d65ad11b8563' class='xr-section-summary' >Data variables: <span>(2)</span></label><div class='xr-section-inline-details'></div><div class='xr-section-details'><ul class='xr-var-list'><li class='xr-var-item'><div class='xr-var-name'><span>t2m</span></div><div class='xr-var-dims'>(valid_time, latitude, longitude)</div><div class='xr-var-dtype'>float32</div><div class='xr-var-preview xr-preview'>...</div><input id='attrs-423d06b6-fffd-45a1-afea-4601a8f7ab6c' class='xr-var-attrs-in' type='checkbox' ><label for='attrs-423d06b6-fffd-45a1-afea-4601a8f7ab6c' title='Show/Hide attributes'><svg class='icon xr-icon-file-text2'><use xlink:href='#icon-file-text2'></use></svg></label><input id='data-fcd7da28-c103-4107-8f8e-c4e3979678cd' class='xr-var-data-in' type='checkbox'><label for='data-fcd7da28-c103-4107-8f8e-c4e3979678cd' title='Show/Hide data repr'><svg class='icon xr-icon-database'><use xlink:href='#icon-database'></use></svg></label><div class='xr-var-attrs'><dl class='xr-attrs'><dt><span>GRIB_paramId :</span></dt><dd>167</dd><dt><span>GRIB_dataType :</span></dt><dd>an</dd><dt><span>GRIB_numberOfPoints :</span></dt><dd>1038240</dd><dt><span>GRIB_typeOfLevel :</span></dt><dd>surface</dd><dt><span>GRIB_stepUnits :</span></dt><dd>1</dd><dt><span>GRIB_stepType :</span></dt><dd>avgua</dd><dt><span>GRIB_gridType :</span></dt><dd>regular_ll</dd><dt><span>GRIB_uvRelativeToGrid :</span></dt><dd>0</dd><dt><span>GRIB_NV :</span></dt><dd>0</dd><dt><span>GRIB_Nx :</span></dt><dd>1440</dd><dt><span>GRIB_Ny :</span></dt><dd>721</dd><dt><span>GRIB_cfName :</span></dt><dd>unknown</dd><dt><span>GRIB_cfVarName :</span></dt><dd>t2m</dd><dt><span>GRIB_gridDefinitionDescription :</span></dt><dd>Latitude/Longitude Grid</dd><dt><span>GRIB_iDirectionIncrementInDegrees :</span></dt><dd>0.25</dd><dt><span>GRIB_iScansNegatively :</span></dt><dd>0</dd><dt><span>GRIB_jDirectionIncrementInDegrees :</span></dt><dd>0.25</dd><dt><span>GRIB_jPointsAreConsecutive :</span></dt><dd>0</dd><dt><span>GRIB_jScansPositively :</span></dt><dd>0</dd><dt><span>GRIB_latitudeOfFirstGridPointInDegrees :</span></dt><dd>90.0</dd><dt><span>GRIB_latitudeOfLastGridPointInDegrees :</span></dt><dd>-90.0</dd><dt><span>GRIB_longitudeOfFirstGridPointInDegrees :</span></dt><dd>0.0</dd><dt><span>GRIB_longitudeOfLastGridPointInDegrees :</span></dt><dd>359.75</dd><dt><span>GRIB_missingValue :</span></dt><dd>3.4028234663852886e+38</dd><dt><span>GRIB_name :</span></dt><dd>2 metre temperature</dd><dt><span>GRIB_shortName :</span></dt><dd>2t</dd><dt><span>GRIB_totalNumber :</span></dt><dd>0</dd><dt><span>GRIB_units :</span></dt><dd>K</dd><dt><span>long_name :</span></dt><dd>2 metre temperature</dd><dt><span>units :</span></dt><dd>K</dd><dt><span>standard_name :</span></dt><dd>unknown</dd><dt><span>GRIB_surface :</span></dt><dd>0.0</dd></dl></div><div class='xr-var-data'><pre>[909498240 values with dtype=float32]</pre></div></li><li class='xr-var-item'><div class='xr-var-name'><span>lsm</span></div><div class='xr-var-dims'>(valid_time, latitude, longitude)</div><div class='xr-var-dtype'>float32</div><div class='xr-var-preview xr-preview'>...</div><input id='attrs-6363951a-ee5a-427f-acdd-84adac4fe4f0' class='xr-var-attrs-in' type='checkbox' ><label for='attrs-6363951a-ee5a-427f-acdd-84adac4fe4f0' title='Show/Hide attributes'><svg class='icon xr-icon-file-text2'><use xlink:href='#icon-file-text2'></use></svg></label><input id='data-10df9183-59e8-4104-9dbf-e4741b35ab55' class='xr-var-data-in' type='checkbox'><label for='data-10df9183-59e8-4104-9dbf-e4741b35ab55' title='Show/Hide data repr'><svg class='icon xr-icon-database'><use xlink:href='#icon-database'></use></svg></label><div class='xr-var-attrs'><dl class='xr-attrs'><dt><span>GRIB_paramId :</span></dt><dd>172</dd><dt><span>GRIB_dataType :</span></dt><dd>an</dd><dt><span>GRIB_numberOfPoints :</span></dt><dd>1038240</dd><dt><span>GRIB_typeOfLevel :</span></dt><dd>surface</dd><dt><span>GRIB_stepUnits :</span></dt><dd>1</dd><dt><span>GRIB_stepType :</span></dt><dd>avgua</dd><dt><span>GRIB_gridType :</span></dt><dd>regular_ll</dd><dt><span>GRIB_uvRelativeToGrid :</span></dt><dd>0</dd><dt><span>GRIB_NV :</span></dt><dd>0</dd><dt><span>GRIB_Nx :</span></dt><dd>1440</dd><dt><span>GRIB_Ny :</span></dt><dd>721</dd><dt><span>GRIB_cfName :</span></dt><dd>land_binary_mask</dd><dt><span>GRIB_cfVarName :</span></dt><dd>lsm</dd><dt><span>GRIB_gridDefinitionDescription :</span></dt><dd>Latitude/Longitude Grid</dd><dt><span>GRIB_iDirectionIncrementInDegrees :</span></dt><dd>0.25</dd><dt><span>GRIB_iScansNegatively :</span></dt><dd>0</dd><dt><span>GRIB_jDirectionIncrementInDegrees :</span></dt><dd>0.25</dd><dt><span>GRIB_jPointsAreConsecutive :</span></dt><dd>0</dd><dt><span>GRIB_jScansPositively :</span></dt><dd>0</dd><dt><span>GRIB_latitudeOfFirstGridPointInDegrees :</span></dt><dd>90.0</dd><dt><span>GRIB_latitudeOfLastGridPointInDegrees :</span></dt><dd>-90.0</dd><dt><span>GRIB_longitudeOfFirstGridPointInDegrees :</span></dt><dd>0.0</dd><dt><span>GRIB_longitudeOfLastGridPointInDegrees :</span></dt><dd>359.75</dd><dt><span>GRIB_missingValue :</span></dt><dd>3.4028234663852886e+38</dd><dt><span>GRIB_name :</span></dt><dd>Land-sea mask</dd><dt><span>GRIB_shortName :</span></dt><dd>lsm</dd><dt><span>GRIB_totalNumber :</span></dt><dd>0</dd><dt><span>GRIB_units :</span></dt><dd>(0 - 1)</dd><dt><span>long_name :</span></dt><dd>Land-sea mask</dd><dt><span>units :</span></dt><dd>(0 - 1)</dd><dt><span>standard_name :</span></dt><dd>land_binary_mask</dd><dt><span>GRIB_surface :</span></dt><dd>0.0</dd></dl></div><div class='xr-var-data'><pre>[909498240 values with dtype=float32]</pre></div></li></ul></div></li><li class='xr-section-item'><input id='section-c42228de-aa95-4f57-a584-d18fddd73d8f' class='xr-section-summary-in' type='checkbox'  ><label for='section-c42228de-aa95-4f57-a584-d18fddd73d8f' class='xr-section-summary' >Indexes: <span>(3)</span></label><div class='xr-section-inline-details'></div><div class='xr-section-details'><ul class='xr-var-list'><li class='xr-var-item'><div class='xr-index-name'><div>valid_time</div></div><div class='xr-index-preview'>PandasIndex</div><input type='checkbox' disabled/><label></label><input id='index-6e134e6c-8dde-4e17-a004-367f86ace792' class='xr-index-data-in' type='checkbox'/><label for='index-6e134e6c-8dde-4e17-a004-367f86ace792' title='Show/Hide index repr'><svg class='icon xr-icon-database'><use xlink:href='#icon-database'></use></svg></label><div class='xr-index-data'><pre>PandasIndex(DatetimeIndex([&#x27;1950-01-01&#x27;, &#x27;1950-02-01&#x27;, &#x27;1950-03-01&#x27;, &#x27;1950-04-01&#x27;,\n",
       "               &#x27;1950-05-01&#x27;, &#x27;1950-06-01&#x27;, &#x27;1950-07-01&#x27;, &#x27;1950-08-01&#x27;,\n",
       "               &#x27;1950-09-01&#x27;, &#x27;1950-10-01&#x27;,\n",
       "               ...\n",
       "               &#x27;2022-03-01&#x27;, &#x27;2022-04-01&#x27;, &#x27;2022-05-01&#x27;, &#x27;2022-06-01&#x27;,\n",
       "               &#x27;2022-07-01&#x27;, &#x27;2022-08-01&#x27;, &#x27;2022-09-01&#x27;, &#x27;2022-10-01&#x27;,\n",
       "               &#x27;2022-11-01&#x27;, &#x27;2022-12-01&#x27;],\n",
       "              dtype=&#x27;datetime64[ns]&#x27;, name=&#x27;valid_time&#x27;, length=876, freq=None))</pre></div></li><li class='xr-var-item'><div class='xr-index-name'><div>latitude</div></div><div class='xr-index-preview'>PandasIndex</div><input type='checkbox' disabled/><label></label><input id='index-5df5d7c5-71fa-4661-bf7e-9bc5ad8c4d23' class='xr-index-data-in' type='checkbox'/><label for='index-5df5d7c5-71fa-4661-bf7e-9bc5ad8c4d23' title='Show/Hide index repr'><svg class='icon xr-icon-database'><use xlink:href='#icon-database'></use></svg></label><div class='xr-index-data'><pre>PandasIndex(Index([  90.0,  89.75,   89.5,  89.25,   89.0,  88.75,   88.5,  88.25,   88.0,\n",
       "        87.75,\n",
       "       ...\n",
       "       -87.75,  -88.0, -88.25,  -88.5, -88.75,  -89.0, -89.25,  -89.5, -89.75,\n",
       "        -90.0],\n",
       "      dtype=&#x27;float64&#x27;, name=&#x27;latitude&#x27;, length=721))</pre></div></li><li class='xr-var-item'><div class='xr-index-name'><div>longitude</div></div><div class='xr-index-preview'>PandasIndex</div><input type='checkbox' disabled/><label></label><input id='index-759db8ec-1611-4e5a-b548-9472c747aa22' class='xr-index-data-in' type='checkbox'/><label for='index-759db8ec-1611-4e5a-b548-9472c747aa22' title='Show/Hide index repr'><svg class='icon xr-icon-database'><use xlink:href='#icon-database'></use></svg></label><div class='xr-index-data'><pre>PandasIndex(Index([   0.0,   0.25,    0.5,   0.75,    1.0,   1.25,    1.5,   1.75,    2.0,\n",
       "         2.25,\n",
       "       ...\n",
       "        357.5, 357.75,  358.0, 358.25,  358.5, 358.75,  359.0, 359.25,  359.5,\n",
       "       359.75],\n",
       "      dtype=&#x27;float64&#x27;, name=&#x27;longitude&#x27;, length=1440))</pre></div></li></ul></div></li><li class='xr-section-item'><input id='section-acdb60de-e108-48a8-8718-42785a558c27' class='xr-section-summary-in' type='checkbox'  checked><label for='section-acdb60de-e108-48a8-8718-42785a558c27' class='xr-section-summary' >Attributes: <span>(5)</span></label><div class='xr-section-inline-details'></div><div class='xr-section-details'><dl class='xr-attrs'><dt><span>GRIB_centre :</span></dt><dd>ecmf</dd><dt><span>GRIB_centreDescription :</span></dt><dd>European Centre for Medium-Range Weather Forecasts</dd><dt><span>GRIB_subCentre :</span></dt><dd>0</dd><dt><span>Conventions :</span></dt><dd>CF-1.7</dd><dt><span>institution :</span></dt><dd>European Centre for Medium-Range Weather Forecasts</dd></dl></div></li></ul></div></div>"
      ],
      "text/plain": [
       "<xarray.Dataset> Size: 7GB\n",
       "Dimensions:     (valid_time: 876, latitude: 721, longitude: 1440)\n",
       "Coordinates:\n",
       "    number      int64 8B ...\n",
       "  * valid_time  (valid_time) datetime64[ns] 7kB 1950-01-01 ... 2022-12-01\n",
       "  * latitude    (latitude) float64 6kB 90.0 89.75 89.5 ... -89.5 -89.75 -90.0\n",
       "  * longitude   (longitude) float64 12kB 0.0 0.25 0.5 0.75 ... 359.2 359.5 359.8\n",
       "    expver      (valid_time) <U4 14kB ...\n",
       "Data variables:\n",
       "    t2m         (valid_time, latitude, longitude) float32 4GB ...\n",
       "    lsm         (valid_time, latitude, longitude) float32 4GB ...\n",
=======
       "    institution:             European Centre for Medium-Range Weather Forecasts</pre><div class='xr-wrap' style='display:none'><div class='xr-header'><div class='xr-obj-type'>xarray.Dataset</div></div><ul class='xr-sections'><li class='xr-section-item'><input id='section-2ac3e0d8-d967-4015-983a-630d95a2faf4' class='xr-section-summary-in' type='checkbox' disabled ><label for='section-2ac3e0d8-d967-4015-983a-630d95a2faf4' class='xr-section-summary'  title='Expand/collapse section'>Dimensions:</label><div class='xr-section-inline-details'><ul class='xr-dim-list'><li><span class='xr-has-index'>valid_time</span>: 84</li><li><span class='xr-has-index'>latitude</span>: 5</li><li><span class='xr-has-index'>longitude</span>: 9</li></ul></div><div class='xr-section-details'></div></li><li class='xr-section-item'><input id='section-d3c7daa6-2349-4bcb-b425-04c98c9355f7' class='xr-section-summary-in' type='checkbox'  checked><label for='section-d3c7daa6-2349-4bcb-b425-04c98c9355f7' class='xr-section-summary' >Coordinates: <span>(5)</span></label><div class='xr-section-inline-details'></div><div class='xr-section-details'><ul class='xr-var-list'><li class='xr-var-item'><div class='xr-var-name'><span>number</span></div><div class='xr-var-dims'>()</div><div class='xr-var-dtype'>int64</div><div class='xr-var-preview xr-preview'>...</div><input id='attrs-5c55a7e3-ef1b-4ed3-b72d-62015bbebe13' class='xr-var-attrs-in' type='checkbox' ><label for='attrs-5c55a7e3-ef1b-4ed3-b72d-62015bbebe13' title='Show/Hide attributes'><svg class='icon xr-icon-file-text2'><use xlink:href='#icon-file-text2'></use></svg></label><input id='data-bd46fbd6-8bd0-4ce9-a1c8-5f391f1bda49' class='xr-var-data-in' type='checkbox'><label for='data-bd46fbd6-8bd0-4ce9-a1c8-5f391f1bda49' title='Show/Hide data repr'><svg class='icon xr-icon-database'><use xlink:href='#icon-database'></use></svg></label><div class='xr-var-attrs'><dl class='xr-attrs'><dt><span>long_name :</span></dt><dd>ensemble member numerical id</dd><dt><span>units :</span></dt><dd>1</dd><dt><span>standard_name :</span></dt><dd>realization</dd></dl></div><div class='xr-var-data'><pre>[1 values with dtype=int64]</pre></div></li><li class='xr-var-item'><div class='xr-var-name'><span class='xr-has-index'>valid_time</span></div><div class='xr-var-dims'>(valid_time)</div><div class='xr-var-dtype'>datetime64[ns]</div><div class='xr-var-preview xr-preview'>2017-01-01 ... 2023-12-01</div><input id='attrs-c34bb539-a960-4060-9499-f09f1ec53009' class='xr-var-attrs-in' type='checkbox' ><label for='attrs-c34bb539-a960-4060-9499-f09f1ec53009' title='Show/Hide attributes'><svg class='icon xr-icon-file-text2'><use xlink:href='#icon-file-text2'></use></svg></label><input id='data-6e3417c7-abdb-49a2-be5d-cbd8dbc5d639' class='xr-var-data-in' type='checkbox'><label for='data-6e3417c7-abdb-49a2-be5d-cbd8dbc5d639' title='Show/Hide data repr'><svg class='icon xr-icon-database'><use xlink:href='#icon-database'></use></svg></label><div class='xr-var-attrs'><dl class='xr-attrs'><dt><span>long_name :</span></dt><dd>time</dd><dt><span>standard_name :</span></dt><dd>time</dd></dl></div><div class='xr-var-data'><pre>array([&#x27;2017-01-01T00:00:00.000000000&#x27;, &#x27;2017-02-01T00:00:00.000000000&#x27;,\n",
       "       &#x27;2017-03-01T00:00:00.000000000&#x27;, &#x27;2017-04-01T00:00:00.000000000&#x27;,\n",
       "       &#x27;2017-05-01T00:00:00.000000000&#x27;, &#x27;2017-06-01T00:00:00.000000000&#x27;,\n",
       "       &#x27;2017-07-01T00:00:00.000000000&#x27;, &#x27;2017-08-01T00:00:00.000000000&#x27;,\n",
       "       &#x27;2017-09-01T00:00:00.000000000&#x27;, &#x27;2017-10-01T00:00:00.000000000&#x27;,\n",
       "       &#x27;2017-11-01T00:00:00.000000000&#x27;, &#x27;2017-12-01T00:00:00.000000000&#x27;,\n",
       "       &#x27;2018-01-01T00:00:00.000000000&#x27;, &#x27;2018-02-01T00:00:00.000000000&#x27;,\n",
       "       &#x27;2018-03-01T00:00:00.000000000&#x27;, &#x27;2018-04-01T00:00:00.000000000&#x27;,\n",
       "       &#x27;2018-05-01T00:00:00.000000000&#x27;, &#x27;2018-06-01T00:00:00.000000000&#x27;,\n",
       "       &#x27;2018-07-01T00:00:00.000000000&#x27;, &#x27;2018-08-01T00:00:00.000000000&#x27;,\n",
       "       &#x27;2018-09-01T00:00:00.000000000&#x27;, &#x27;2018-10-01T00:00:00.000000000&#x27;,\n",
       "       &#x27;2018-11-01T00:00:00.000000000&#x27;, &#x27;2018-12-01T00:00:00.000000000&#x27;,\n",
       "       &#x27;2019-01-01T00:00:00.000000000&#x27;, &#x27;2019-02-01T00:00:00.000000000&#x27;,\n",
       "       &#x27;2019-03-01T00:00:00.000000000&#x27;, &#x27;2019-04-01T00:00:00.000000000&#x27;,\n",
       "       &#x27;2019-05-01T00:00:00.000000000&#x27;, &#x27;2019-06-01T00:00:00.000000000&#x27;,\n",
       "       &#x27;2019-07-01T00:00:00.000000000&#x27;, &#x27;2019-08-01T00:00:00.000000000&#x27;,\n",
       "       &#x27;2019-09-01T00:00:00.000000000&#x27;, &#x27;2019-10-01T00:00:00.000000000&#x27;,\n",
       "       &#x27;2019-11-01T00:00:00.000000000&#x27;, &#x27;2019-12-01T00:00:00.000000000&#x27;,\n",
       "       &#x27;2020-01-01T00:00:00.000000000&#x27;, &#x27;2020-02-01T00:00:00.000000000&#x27;,\n",
       "       &#x27;2020-03-01T00:00:00.000000000&#x27;, &#x27;2020-04-01T00:00:00.000000000&#x27;,\n",
       "       &#x27;2020-05-01T00:00:00.000000000&#x27;, &#x27;2020-06-01T00:00:00.000000000&#x27;,\n",
       "       &#x27;2020-07-01T00:00:00.000000000&#x27;, &#x27;2020-08-01T00:00:00.000000000&#x27;,\n",
       "       &#x27;2020-09-01T00:00:00.000000000&#x27;, &#x27;2020-10-01T00:00:00.000000000&#x27;,\n",
       "       &#x27;2020-11-01T00:00:00.000000000&#x27;, &#x27;2020-12-01T00:00:00.000000000&#x27;,\n",
       "       &#x27;2021-01-01T00:00:00.000000000&#x27;, &#x27;2021-02-01T00:00:00.000000000&#x27;,\n",
       "       &#x27;2021-03-01T00:00:00.000000000&#x27;, &#x27;2021-04-01T00:00:00.000000000&#x27;,\n",
       "       &#x27;2021-05-01T00:00:00.000000000&#x27;, &#x27;2021-06-01T00:00:00.000000000&#x27;,\n",
       "       &#x27;2021-07-01T00:00:00.000000000&#x27;, &#x27;2021-08-01T00:00:00.000000000&#x27;,\n",
       "       &#x27;2021-09-01T00:00:00.000000000&#x27;, &#x27;2021-10-01T00:00:00.000000000&#x27;,\n",
       "       &#x27;2021-11-01T00:00:00.000000000&#x27;, &#x27;2021-12-01T00:00:00.000000000&#x27;,\n",
       "       &#x27;2022-01-01T00:00:00.000000000&#x27;, &#x27;2022-02-01T00:00:00.000000000&#x27;,\n",
       "       &#x27;2022-03-01T00:00:00.000000000&#x27;, &#x27;2022-04-01T00:00:00.000000000&#x27;,\n",
       "       &#x27;2022-05-01T00:00:00.000000000&#x27;, &#x27;2022-06-01T00:00:00.000000000&#x27;,\n",
       "       &#x27;2022-07-01T00:00:00.000000000&#x27;, &#x27;2022-08-01T00:00:00.000000000&#x27;,\n",
       "       &#x27;2022-09-01T00:00:00.000000000&#x27;, &#x27;2022-10-01T00:00:00.000000000&#x27;,\n",
       "       &#x27;2022-11-01T00:00:00.000000000&#x27;, &#x27;2022-12-01T00:00:00.000000000&#x27;,\n",
       "       &#x27;2023-01-01T00:00:00.000000000&#x27;, &#x27;2023-02-01T00:00:00.000000000&#x27;,\n",
       "       &#x27;2023-03-01T00:00:00.000000000&#x27;, &#x27;2023-04-01T00:00:00.000000000&#x27;,\n",
       "       &#x27;2023-05-01T00:00:00.000000000&#x27;, &#x27;2023-06-01T00:00:00.000000000&#x27;,\n",
       "       &#x27;2023-07-01T00:00:00.000000000&#x27;, &#x27;2023-08-01T00:00:00.000000000&#x27;,\n",
       "       &#x27;2023-09-01T00:00:00.000000000&#x27;, &#x27;2023-10-01T00:00:00.000000000&#x27;,\n",
       "       &#x27;2023-11-01T00:00:00.000000000&#x27;, &#x27;2023-12-01T00:00:00.000000000&#x27;],\n",
       "      dtype=&#x27;datetime64[ns]&#x27;)</pre></div></li><li class='xr-var-item'><div class='xr-var-name'><span class='xr-has-index'>latitude</span></div><div class='xr-var-dims'>(latitude)</div><div class='xr-var-dtype'>float64</div><div class='xr-var-preview xr-preview'>47.0 46.75 46.5 46.25 46.0</div><input id='attrs-9b1ea5ea-2d4e-4b2a-bded-763f6aad3dc8' class='xr-var-attrs-in' type='checkbox' ><label for='attrs-9b1ea5ea-2d4e-4b2a-bded-763f6aad3dc8' title='Show/Hide attributes'><svg class='icon xr-icon-file-text2'><use xlink:href='#icon-file-text2'></use></svg></label><input id='data-a9edec5f-8411-4502-bff4-98e978cd1202' class='xr-var-data-in' type='checkbox'><label for='data-a9edec5f-8411-4502-bff4-98e978cd1202' title='Show/Hide data repr'><svg class='icon xr-icon-database'><use xlink:href='#icon-database'></use></svg></label><div class='xr-var-attrs'><dl class='xr-attrs'><dt><span>units :</span></dt><dd>degrees_north</dd><dt><span>standard_name :</span></dt><dd>latitude</dd><dt><span>long_name :</span></dt><dd>latitude</dd><dt><span>stored_direction :</span></dt><dd>decreasing</dd></dl></div><div class='xr-var-data'><pre>array([47.  , 46.75, 46.5 , 46.25, 46.  ])</pre></div></li><li class='xr-var-item'><div class='xr-var-name'><span class='xr-has-index'>longitude</span></div><div class='xr-var-dims'>(longitude)</div><div class='xr-var-dtype'>float64</div><div class='xr-var-preview xr-preview'>12.0 12.25 12.5 ... 13.5 13.75 14.0</div><input id='attrs-4de2d89e-16af-4d02-9f64-a3564c2bc485' class='xr-var-attrs-in' type='checkbox' ><label for='attrs-4de2d89e-16af-4d02-9f64-a3564c2bc485' title='Show/Hide attributes'><svg class='icon xr-icon-file-text2'><use xlink:href='#icon-file-text2'></use></svg></label><input id='data-6c439a5e-058c-4873-b2f8-dd8e18f29212' class='xr-var-data-in' type='checkbox'><label for='data-6c439a5e-058c-4873-b2f8-dd8e18f29212' title='Show/Hide data repr'><svg class='icon xr-icon-database'><use xlink:href='#icon-database'></use></svg></label><div class='xr-var-attrs'><dl class='xr-attrs'><dt><span>units :</span></dt><dd>degrees_east</dd><dt><span>standard_name :</span></dt><dd>longitude</dd><dt><span>long_name :</span></dt><dd>longitude</dd></dl></div><div class='xr-var-data'><pre>array([12.  , 12.25, 12.5 , 12.75, 13.  , 13.25, 13.5 , 13.75, 14.  ])</pre></div></li><li class='xr-var-item'><div class='xr-var-name'><span>expver</span></div><div class='xr-var-dims'>(valid_time)</div><div class='xr-var-dtype'>&lt;U4</div><div class='xr-var-preview xr-preview'>...</div><input id='attrs-356a3837-1b0d-4efc-91e9-89f7497ac2f3' class='xr-var-attrs-in' type='checkbox' disabled><label for='attrs-356a3837-1b0d-4efc-91e9-89f7497ac2f3' title='Show/Hide attributes'><svg class='icon xr-icon-file-text2'><use xlink:href='#icon-file-text2'></use></svg></label><input id='data-b6e759f0-b66f-4ab5-96e3-28bbc06af518' class='xr-var-data-in' type='checkbox'><label for='data-b6e759f0-b66f-4ab5-96e3-28bbc06af518' title='Show/Hide data repr'><svg class='icon xr-icon-database'><use xlink:href='#icon-database'></use></svg></label><div class='xr-var-attrs'><dl class='xr-attrs'></dl></div><div class='xr-var-data'><pre>[84 values with dtype=&lt;U4]</pre></div></li></ul></div></li><li class='xr-section-item'><input id='section-940e18c7-350e-408e-acad-b09ea3f7351c' class='xr-section-summary-in' type='checkbox'  checked><label for='section-940e18c7-350e-408e-acad-b09ea3f7351c' class='xr-section-summary' >Data variables: <span>(2)</span></label><div class='xr-section-inline-details'></div><div class='xr-section-details'><ul class='xr-var-list'><li class='xr-var-item'><div class='xr-var-name'><span>t2m</span></div><div class='xr-var-dims'>(valid_time, latitude, longitude)</div><div class='xr-var-dtype'>float32</div><div class='xr-var-preview xr-preview'>...</div><input id='attrs-91131d02-e59b-4516-a767-acc2c1ec92ce' class='xr-var-attrs-in' type='checkbox' ><label for='attrs-91131d02-e59b-4516-a767-acc2c1ec92ce' title='Show/Hide attributes'><svg class='icon xr-icon-file-text2'><use xlink:href='#icon-file-text2'></use></svg></label><input id='data-63c02548-48e9-47b1-9ac8-e4deb2c23cba' class='xr-var-data-in' type='checkbox'><label for='data-63c02548-48e9-47b1-9ac8-e4deb2c23cba' title='Show/Hide data repr'><svg class='icon xr-icon-database'><use xlink:href='#icon-database'></use></svg></label><div class='xr-var-attrs'><dl class='xr-attrs'><dt><span>GRIB_paramId :</span></dt><dd>167</dd><dt><span>GRIB_dataType :</span></dt><dd>an</dd><dt><span>GRIB_numberOfPoints :</span></dt><dd>45</dd><dt><span>GRIB_typeOfLevel :</span></dt><dd>surface</dd><dt><span>GRIB_stepUnits :</span></dt><dd>1</dd><dt><span>GRIB_stepType :</span></dt><dd>avgua</dd><dt><span>GRIB_gridType :</span></dt><dd>regular_ll</dd><dt><span>GRIB_uvRelativeToGrid :</span></dt><dd>0</dd><dt><span>GRIB_NV :</span></dt><dd>0</dd><dt><span>GRIB_Nx :</span></dt><dd>9</dd><dt><span>GRIB_Ny :</span></dt><dd>5</dd><dt><span>GRIB_cfName :</span></dt><dd>unknown</dd><dt><span>GRIB_cfVarName :</span></dt><dd>t2m</dd><dt><span>GRIB_gridDefinitionDescription :</span></dt><dd>Latitude/Longitude Grid</dd><dt><span>GRIB_iDirectionIncrementInDegrees :</span></dt><dd>0.25</dd><dt><span>GRIB_iScansNegatively :</span></dt><dd>0</dd><dt><span>GRIB_jDirectionIncrementInDegrees :</span></dt><dd>0.25</dd><dt><span>GRIB_jPointsAreConsecutive :</span></dt><dd>0</dd><dt><span>GRIB_jScansPositively :</span></dt><dd>0</dd><dt><span>GRIB_latitudeOfFirstGridPointInDegrees :</span></dt><dd>47.0</dd><dt><span>GRIB_latitudeOfLastGridPointInDegrees :</span></dt><dd>46.0</dd><dt><span>GRIB_longitudeOfFirstGridPointInDegrees :</span></dt><dd>12.0</dd><dt><span>GRIB_longitudeOfLastGridPointInDegrees :</span></dt><dd>14.0</dd><dt><span>GRIB_missingValue :</span></dt><dd>3.4028234663852886e+38</dd><dt><span>GRIB_name :</span></dt><dd>2 metre temperature</dd><dt><span>GRIB_shortName :</span></dt><dd>2t</dd><dt><span>GRIB_totalNumber :</span></dt><dd>0</dd><dt><span>GRIB_units :</span></dt><dd>K</dd><dt><span>long_name :</span></dt><dd>2 metre temperature</dd><dt><span>units :</span></dt><dd>K</dd><dt><span>standard_name :</span></dt><dd>unknown</dd><dt><span>GRIB_surface :</span></dt><dd>0.0</dd></dl></div><div class='xr-var-data'><pre>[3780 values with dtype=float32]</pre></div></li><li class='xr-var-item'><div class='xr-var-name'><span>lsm</span></div><div class='xr-var-dims'>(valid_time, latitude, longitude)</div><div class='xr-var-dtype'>float32</div><div class='xr-var-preview xr-preview'>...</div><input id='attrs-8ad64f59-6408-4683-b0e1-224110b8dd7a' class='xr-var-attrs-in' type='checkbox' ><label for='attrs-8ad64f59-6408-4683-b0e1-224110b8dd7a' title='Show/Hide attributes'><svg class='icon xr-icon-file-text2'><use xlink:href='#icon-file-text2'></use></svg></label><input id='data-42b8d098-2195-4899-93e3-847e58e6b77c' class='xr-var-data-in' type='checkbox'><label for='data-42b8d098-2195-4899-93e3-847e58e6b77c' title='Show/Hide data repr'><svg class='icon xr-icon-database'><use xlink:href='#icon-database'></use></svg></label><div class='xr-var-attrs'><dl class='xr-attrs'><dt><span>GRIB_paramId :</span></dt><dd>172</dd><dt><span>GRIB_dataType :</span></dt><dd>an</dd><dt><span>GRIB_numberOfPoints :</span></dt><dd>45</dd><dt><span>GRIB_typeOfLevel :</span></dt><dd>surface</dd><dt><span>GRIB_stepUnits :</span></dt><dd>1</dd><dt><span>GRIB_stepType :</span></dt><dd>avgua</dd><dt><span>GRIB_gridType :</span></dt><dd>regular_ll</dd><dt><span>GRIB_uvRelativeToGrid :</span></dt><dd>0</dd><dt><span>GRIB_NV :</span></dt><dd>0</dd><dt><span>GRIB_Nx :</span></dt><dd>9</dd><dt><span>GRIB_Ny :</span></dt><dd>5</dd><dt><span>GRIB_cfName :</span></dt><dd>land_binary_mask</dd><dt><span>GRIB_cfVarName :</span></dt><dd>lsm</dd><dt><span>GRIB_gridDefinitionDescription :</span></dt><dd>Latitude/Longitude Grid</dd><dt><span>GRIB_iDirectionIncrementInDegrees :</span></dt><dd>0.25</dd><dt><span>GRIB_iScansNegatively :</span></dt><dd>0</dd><dt><span>GRIB_jDirectionIncrementInDegrees :</span></dt><dd>0.25</dd><dt><span>GRIB_jPointsAreConsecutive :</span></dt><dd>0</dd><dt><span>GRIB_jScansPositively :</span></dt><dd>0</dd><dt><span>GRIB_latitudeOfFirstGridPointInDegrees :</span></dt><dd>47.0</dd><dt><span>GRIB_latitudeOfLastGridPointInDegrees :</span></dt><dd>46.0</dd><dt><span>GRIB_longitudeOfFirstGridPointInDegrees :</span></dt><dd>12.0</dd><dt><span>GRIB_longitudeOfLastGridPointInDegrees :</span></dt><dd>14.0</dd><dt><span>GRIB_missingValue :</span></dt><dd>3.4028234663852886e+38</dd><dt><span>GRIB_name :</span></dt><dd>Land-sea mask</dd><dt><span>GRIB_shortName :</span></dt><dd>lsm</dd><dt><span>GRIB_totalNumber :</span></dt><dd>0</dd><dt><span>GRIB_units :</span></dt><dd>(0 - 1)</dd><dt><span>long_name :</span></dt><dd>Land-sea mask</dd><dt><span>units :</span></dt><dd>(0 - 1)</dd><dt><span>standard_name :</span></dt><dd>land_binary_mask</dd><dt><span>GRIB_surface :</span></dt><dd>0.0</dd></dl></div><div class='xr-var-data'><pre>[3780 values with dtype=float32]</pre></div></li></ul></div></li><li class='xr-section-item'><input id='section-f8d91338-764e-4240-95a4-735d11b75a07' class='xr-section-summary-in' type='checkbox'  ><label for='section-f8d91338-764e-4240-95a4-735d11b75a07' class='xr-section-summary' >Indexes: <span>(3)</span></label><div class='xr-section-inline-details'></div><div class='xr-section-details'><ul class='xr-var-list'><li class='xr-var-item'><div class='xr-index-name'><div>valid_time</div></div><div class='xr-index-preview'>PandasIndex</div><input type='checkbox' disabled/><label></label><input id='index-3d8a4bfa-1595-4b76-855e-8b9de1e1fa87' class='xr-index-data-in' type='checkbox'/><label for='index-3d8a4bfa-1595-4b76-855e-8b9de1e1fa87' title='Show/Hide index repr'><svg class='icon xr-icon-database'><use xlink:href='#icon-database'></use></svg></label><div class='xr-index-data'><pre>PandasIndex(DatetimeIndex([&#x27;2017-01-01&#x27;, &#x27;2017-02-01&#x27;, &#x27;2017-03-01&#x27;, &#x27;2017-04-01&#x27;,\n",
       "               &#x27;2017-05-01&#x27;, &#x27;2017-06-01&#x27;, &#x27;2017-07-01&#x27;, &#x27;2017-08-01&#x27;,\n",
       "               &#x27;2017-09-01&#x27;, &#x27;2017-10-01&#x27;, &#x27;2017-11-01&#x27;, &#x27;2017-12-01&#x27;,\n",
       "               &#x27;2018-01-01&#x27;, &#x27;2018-02-01&#x27;, &#x27;2018-03-01&#x27;, &#x27;2018-04-01&#x27;,\n",
       "               &#x27;2018-05-01&#x27;, &#x27;2018-06-01&#x27;, &#x27;2018-07-01&#x27;, &#x27;2018-08-01&#x27;,\n",
       "               &#x27;2018-09-01&#x27;, &#x27;2018-10-01&#x27;, &#x27;2018-11-01&#x27;, &#x27;2018-12-01&#x27;,\n",
       "               &#x27;2019-01-01&#x27;, &#x27;2019-02-01&#x27;, &#x27;2019-03-01&#x27;, &#x27;2019-04-01&#x27;,\n",
       "               &#x27;2019-05-01&#x27;, &#x27;2019-06-01&#x27;, &#x27;2019-07-01&#x27;, &#x27;2019-08-01&#x27;,\n",
       "               &#x27;2019-09-01&#x27;, &#x27;2019-10-01&#x27;, &#x27;2019-11-01&#x27;, &#x27;2019-12-01&#x27;,\n",
       "               &#x27;2020-01-01&#x27;, &#x27;2020-02-01&#x27;, &#x27;2020-03-01&#x27;, &#x27;2020-04-01&#x27;,\n",
       "               &#x27;2020-05-01&#x27;, &#x27;2020-06-01&#x27;, &#x27;2020-07-01&#x27;, &#x27;2020-08-01&#x27;,\n",
       "               &#x27;2020-09-01&#x27;, &#x27;2020-10-01&#x27;, &#x27;2020-11-01&#x27;, &#x27;2020-12-01&#x27;,\n",
       "               &#x27;2021-01-01&#x27;, &#x27;2021-02-01&#x27;, &#x27;2021-03-01&#x27;, &#x27;2021-04-01&#x27;,\n",
       "               &#x27;2021-05-01&#x27;, &#x27;2021-06-01&#x27;, &#x27;2021-07-01&#x27;, &#x27;2021-08-01&#x27;,\n",
       "               &#x27;2021-09-01&#x27;, &#x27;2021-10-01&#x27;, &#x27;2021-11-01&#x27;, &#x27;2021-12-01&#x27;,\n",
       "               &#x27;2022-01-01&#x27;, &#x27;2022-02-01&#x27;, &#x27;2022-03-01&#x27;, &#x27;2022-04-01&#x27;,\n",
       "               &#x27;2022-05-01&#x27;, &#x27;2022-06-01&#x27;, &#x27;2022-07-01&#x27;, &#x27;2022-08-01&#x27;,\n",
       "               &#x27;2022-09-01&#x27;, &#x27;2022-10-01&#x27;, &#x27;2022-11-01&#x27;, &#x27;2022-12-01&#x27;,\n",
       "               &#x27;2023-01-01&#x27;, &#x27;2023-02-01&#x27;, &#x27;2023-03-01&#x27;, &#x27;2023-04-01&#x27;,\n",
       "               &#x27;2023-05-01&#x27;, &#x27;2023-06-01&#x27;, &#x27;2023-07-01&#x27;, &#x27;2023-08-01&#x27;,\n",
       "               &#x27;2023-09-01&#x27;, &#x27;2023-10-01&#x27;, &#x27;2023-11-01&#x27;, &#x27;2023-12-01&#x27;],\n",
       "              dtype=&#x27;datetime64[ns]&#x27;, name=&#x27;valid_time&#x27;, freq=None))</pre></div></li><li class='xr-var-item'><div class='xr-index-name'><div>latitude</div></div><div class='xr-index-preview'>PandasIndex</div><input type='checkbox' disabled/><label></label><input id='index-f5a2a850-3d33-45f9-bdf7-284df28c2927' class='xr-index-data-in' type='checkbox'/><label for='index-f5a2a850-3d33-45f9-bdf7-284df28c2927' title='Show/Hide index repr'><svg class='icon xr-icon-database'><use xlink:href='#icon-database'></use></svg></label><div class='xr-index-data'><pre>PandasIndex(Index([47.0, 46.75, 46.5, 46.25, 46.0], dtype=&#x27;float64&#x27;, name=&#x27;latitude&#x27;))</pre></div></li><li class='xr-var-item'><div class='xr-index-name'><div>longitude</div></div><div class='xr-index-preview'>PandasIndex</div><input type='checkbox' disabled/><label></label><input id='index-253bb82e-2c11-4f97-9642-45f6ca4c4a1f' class='xr-index-data-in' type='checkbox'/><label for='index-253bb82e-2c11-4f97-9642-45f6ca4c4a1f' title='Show/Hide index repr'><svg class='icon xr-icon-database'><use xlink:href='#icon-database'></use></svg></label><div class='xr-index-data'><pre>PandasIndex(Index([12.0, 12.25, 12.5, 12.75, 13.0, 13.25, 13.5, 13.75, 14.0], dtype=&#x27;float64&#x27;, name=&#x27;longitude&#x27;))</pre></div></li></ul></div></li><li class='xr-section-item'><input id='section-bdf3d506-f482-4667-9c97-a9496f36cd13' class='xr-section-summary-in' type='checkbox'  checked><label for='section-bdf3d506-f482-4667-9c97-a9496f36cd13' class='xr-section-summary' >Attributes: <span>(5)</span></label><div class='xr-section-inline-details'></div><div class='xr-section-details'><dl class='xr-attrs'><dt><span>GRIB_centre :</span></dt><dd>ecmf</dd><dt><span>GRIB_centreDescription :</span></dt><dd>European Centre for Medium-Range Weather Forecasts</dd><dt><span>GRIB_subCentre :</span></dt><dd>0</dd><dt><span>Conventions :</span></dt><dd>CF-1.7</dd><dt><span>institution :</span></dt><dd>European Centre for Medium-Range Weather Forecasts</dd></dl></div></li></ul></div></div>"
      ],
      "text/plain": [
       "<xarray.Dataset> Size: 32kB\n",
       "Dimensions:     (valid_time: 84, latitude: 5, longitude: 9)\n",
       "Coordinates:\n",
       "    number      int64 8B ...\n",
       "  * valid_time  (valid_time) datetime64[ns] 672B 2017-01-01 ... 2023-12-01\n",
       "  * latitude    (latitude) float64 40B 47.0 46.75 46.5 46.25 46.0\n",
       "  * longitude   (longitude) float64 72B 12.0 12.25 12.5 ... 13.5 13.75 14.0\n",
       "    expver      (valid_time) <U4 1kB ...\n",
       "Data variables:\n",
       "    t2m         (valid_time, latitude, longitude) float32 15kB ...\n",
       "    lsm         (valid_time, latitude, longitude) float32 15kB ...\n",
>>>>>>> request_era
       "Attributes:\n",
       "    GRIB_centre:             ecmf\n",
       "    GRIB_centreDescription:  European Centre for Medium-Range Weather Forecasts\n",
       "    GRIB_subCentre:          0\n",
       "    Conventions:             CF-1.7\n",
       "    institution:             European Centre for Medium-Range Weather Forecasts"
      ]
     },
<<<<<<< HEAD
     "execution_count": 5,
=======
     "execution_count": 92,
>>>>>>> request_era
     "metadata": {},
     "output_type": "execute_result"
    }
   ],
   "source": [
    "\n",
    "\n",
    "data = xr.open_dataset('/home/eouser/hackathon/data/era5/temperature_era5.nc')\n",
    "data\n",
    "\n"
   ]
<<<<<<< HEAD
=======
  },
  {
   "cell_type": "code",
   "execution_count": 10,
   "id": "1a53fbdc",
   "metadata": {},
   "outputs": [
    {
     "data": {
      "text/plain": [
       "<matplotlib.collections.QuadMesh at 0x7f1216c45510>"
      ]
     },
     "execution_count": 10,
     "metadata": {},
     "output_type": "execute_result"
    },
    {
     "data": {
      "image/png": "iVBORw0KGgoAAAANSUhEUgAAAYoAAAEXCAYAAACzhgONAAAAOXRFWHRTb2Z0d2FyZQBNYXRwbG90bGliIHZlcnNpb24zLjguNCwgaHR0cHM6Ly9tYXRwbG90bGliLm9yZy8fJSN1AAAACXBIWXMAAAsTAAALEwEAmpwYAAA3IklEQVR4nO3defzlc93/8cdz9jFjQkPEWCMXIow2Rriksl+IhOi6JCVLyBX5lUSprlxyFdmzTFS2ZElTGVtFM2NsM5YwZRAm62Aw833+/ni/j/k4c5bP9/s93+18X/fb7XOb81ney+d7zpz3eS+f91u2CSGEEOoZ0tcZCCGE0L9FQRFCCKGhKChCCCE0FAVFCCGEhqKgCCGE0FAUFCGEEBoaVAWFpDmStu3rfHRHvofXJF1c8vptJc2X1NHT9y7pAEm3FfbnS1qzzLWdSGOSpAe7k88QQucMqoKiv5L0fknTJb2a/31/kyA72d6vEP7bku6VtFDSCcULbf/e9ljgH63PeWO2x9p+tDtxSLKk9xTivNX2e7ufu54haQVJl0p6UtKLkm6X9MGqaz4j6e+SXpF0taTlCue+LGmapNcl/awq3D658K1sr+a/z6YN8vPvkh7I194kabXCuT0l/Smfm1ri3kZKOl/SS5L+KenIwrkRki7PP2Qsaasyf68wMERB0QWShrUwrhHAr4FLgGWBC4Ff5+Nl/Q04BriuVfkKXTYW+CuwKbAc6f28TtJYAEnrA2cB+wHvAl4FziiEfxI4CTi/OmLbk3PhOzYX/l8CHgVm1MqIpPHAlcD/y3mZBvyicMlzwGnAKSXv7QRgbWA1YGvgGEmfKJy/DdgX+GfJ+AYMSUP7Og99ynafbsAc4GjgHuBF0gd5VD53AHBb1fUG3pNf/4z0n+wGYD5wO7Ai6cP/PPAAsHFVWscCs/L5Cypp5fM7AjOBF4A/ARtWhf3vnM/XgWEtuv/tgCcAFY79A/hEg7/XtnXOXQKc0NlwVdedCfxP1bFfA0fm118DHgFezn/H/yhc97b3q+q9eidwDfAScCfw7er3tkZebslxvJLf372ArYC5Vff11fy+vAKcR/oCviHn8ffAsoXrP5Tf2xeAu4GteuEz/hKwaX79HeDnhXNrAW8AS1eFOQn4WZN4bwK+2eD8QcCfCvtjgNeAdauuOxCYWuI+ngS2K+x/G7isxnVzO/t3BdYFppAKrweBPQt/n+eATfL+u4FnK/EDU4Hv5s/US/mzulw+dwPw5ap07gZ2a5RmPvez/H/h+vy5avp/p523/lKj2BP4BLAGsCHpC6czYY8HxpO+wP9M+oU1HrgcOLXq+n2Aj5M+gOvksEjamPQr7gukL7WzgGskjSyE3RvYAVjG9sLqjEi6R9ILdbYzqq/P1gfucf50Zvfk433hUmAvSQKQtCypMLssn38EmAS8A/gWcImklUrE+xNgAbAS8J95a8j2lvnlRk6/on9R59LdgY+R3s+dSF8QxwHLk2rNh+V7WZlU6zqJ9Av7aOAKScvXilTStQ3ez2tL3DO5GXEEqdYH6X29u3CPj5AKinXKxFeIdzVgS+CiBpdVp/UK6f3r9Gcrfw5WKsaXX3f7cyppDOkL++fACsCngTMkrZf/Pv9N+pwtRfpxd6HtqYUoPkv6PK0ELAROz8cvJf2fraSzHqk2dF2jNAvxfgY4GViaVFsatPpLQXG67SdtPwf8Bnh/J8JeZXu67QXAVcAC2xfZXkSqnWxcdf2PbT+e0zqZxR+kg4CzbN9he5HtC0kFz4eq8vm47ddqZcT2hraXqbN9qU7+x5JqUkUvkj6cfeFW0q/4SXl/D+DPtp8EsP2r/F515C/uh4EPNIowV9t3B75h+xXb95GaZFrl/2w/bfuJnP87bN9V+ExUPgP7Atfbvj7nfwqpOWb7WpHa3rHB+7ljs0xJGgdcDHzLduU9btX7/VngVtuPNbimlZ+tsYXw3Y2r2o7AHNsX2F5o+y7gCuBTALbPIRW0d5AKg69Xhb/Y9n25IPx/wJ75M3cV8P5Cv8w+wJW2X2+WZvZr27fnz8qCFtzngNVfCopim+arLP5QlvF04fVrNfar43q88PrvpKospF8aRxV/NQITCuerw7bKfGBc1bFxpGaTXpdrNpexuAD9DDC5cl7SZyXNLPyNNiDV3hpZHhjGkn/7Vin7GVgN+FTVe7wF6cunpSSNJv3o+Yvt7xZOter9/iyFwlbSqsWO7u6mJemnhfiOy3FVwncn37WsBnyw6n3Zh9SMXHEO6bP2f/mLvqj6czUcGG/7ZVIN8tP53N4s/iyXSbMn/r8PSP2loKjnFWCpyo6kFRtcW9aEwutVSe2ukD4UJ1f9alzK9qWF6xtOtSvp/qpRKcXtp3WC3Q9sWGnqyTbMx/vKpcAe+ZfYB0m/tCrNHecAXwbeaXsZ4D5AdeKpeJbUJFD9t+9tj5N+fRbf4zG2a3bmSrqhwft5Q71EcnPl1aS2+i9Unb4f2Khw7ZrASOChsjchaXPSD5jLK8ds/8Nv7+iuldYYUpNr08+W7YML8X3H9vPAU8X48utWfE4fB26uel/G2v5izvdYUr/jecAJxVFiWfXn6k1gXt6/FNhb0oeBUaR+naZpZjG1dtbfC4q7gfWVho+OIo266K5DJK2SP2xfZ/EokHOAgyV9UMkYSTtIKl21tr1+8T9r1XZwnWBTgUXAYXn44Zfz8T+WTVfS8Pz3GQIMkzSq0SgNpWcY5jS4j7tI/9HOBW60/UI+NYb0n+fZHM/nSL/yGsrNgFeS/pMvlduB9y9zb6TaQc1nMbrgEmAnSR+XNDT/nbaStEqti21/ssH7+claYSQNJ32Bvwbsb7uj6pLJOQ+T8hf3iaTmkJdz+GH5vRwKVPJYPcpuf+CKSpgGrgI2kLR7jvMbpP6wB3JaQ/PxYcCQnNbwBvFdBBwvaVlJ6wKfJ3X6Vu59ZI4PYESOr9LX1egzdy2wjqT98md5uKTNJP1bPv8jYJrtA0k1hOofXftKWi/3YZwIXJ4/c5A6o1fLx39ReD+apRkK+nVBYfsh0hv8e1JbeCs6lH4O/I40rPARUscmtqeRPvg/Jo2I+hud61TvEttvALuSmhJeIHXK7ZqPl3UO6Ytpb1Lh9xpp+GU9E0gjxBr5ObBt/reS11nAD0kDBp4G3lcinoovk5qA/kn6crmgZLgTgAtz88CeJcPUZPtxYBdSR/ezpF+VX6W1/w8+Qmr/3g54oVADmZTzcD9wMKnAeIbUxl/svzqe9P59jdSn8lo+BkD+It6TEn08tp8l9Q2dTPpMf5DFzTCQPiOvkUb3TMqvz2kQ5TdJ/2f+DtwM/MD2bwvnH8xxrAzcmF9X+gfqfuZygbddztuTpM/I94CRknYhDXSp/NI/EthE0j6FKC4mfab+Sao1HFaI+3XSj5Tqz3LdNGvlMTfF/bSwf38lD4Vmv76oJfcK2VG7GkiUnkpeidSJ3/RXuaR/JzUdjQS2t32TpN8Bh9ue3bO5DSHpqc+c0oOCl9g+t5XxhreLgiKEMGBFQdE7WvaEcQhdkZtkanYMFzplQwh9KGoUIYQQGurXndkhhBD6Xls1PY0YMsqjh/bBA82LqkdA9o7BVBvU8EajNnvQ8L6ZC85q9mhKD6U7tPfT7Ys0AV55fu482zWnbynr41uP8b+eW9T8QmD6Pa/faPsTza/sf9qqoBg9dGk+sszuvZ5ux8t98hA1HW90ZgTtwDZsxZX7JN2Ody3bN+mO7Jv/mgvH9H66C5brm3v9y2VHd3t2gHnPLeKOG2s+hrOE4Ss90mwGg36rrQqKEELoXWbREs9Utp8oKEIIoYsMdAyCmT6ioAghhG7oIGoUIYQQ6jBm0SAYVBLDY0MIoYsMvElHqa0ZSROU1jWfleeSOjwf/4XS1P4zldYkn1kVrjLX1NE9cpNEjSKEELqlhX0UC4GjbM/Is1ZPlzTF9l6VCyT9kCUXozqVOrMbtEoUFCGE0EWGljU92X6KtOYHtl+WNJs0E+8sgDxl+57ANpUwknYFHiOt3dNjoukphBC6oaPkBoyXNK2wHVQvTkmrk5bwvaNweBLwtO2H8zVjSeuJf6u1d7SkqFGEEEIXGbOofNPTPNsTm12UC4ArgCNsv1Q4tTdpxb6KE4D/tT1fPfwkfxQUIYTQRTa82cJBT3mFwSuAybavLBwfBuwGbFq4/IOkJYu/DywDdEhaYPvHrctREgVFCCF0mVjUdMn4kjGlasF5wGzbp1ad3hZ4wPbcygHbkwphTwDm90QhAdFHEUIIXWagw+W2EjYnLU+7TWE47Pb53Kd5e7NTr4oaRQghdEOrahS2b4Pakdk+oEnYE1qSiTqioAghhC4yrSso+rMoKEIIoRs6HAVFCCGEOjoQb9A3i1v1pigoQgihGwZDjaJXRj1JGirpLknX5v1bC736T0q6uk64/SU9nLf9eyOvIYRQVqWPosw2kPVWjeJwYDYwDpYY/3sF8OvqAJKWA74JTCS9H9MlXWP7+V7JcQghNCUWuf2fMujxO5S0CrADcG6Nc+NIE1xdXSPox4Eptp/LhcMUYEAuTB5CaE9phbshpbaBrDdqFKcBxwBL1zi3K/CHqvlMKlYGHi/sz83H3iZPrHUQwKghY7uZ1RBC6JyB3qxURo8Wc5J2BJ6xPb3OJdWTXHWa7bNtT7Q9ccSQUd2JKoQQOsUWb3poqW0g6+n60ObAzpLmAJeRHk2/BEDSeOADwHV1wj4BTCjsr5KPhRBCv5A6s4eU2gayHs297WNtr2J7ddJcJX+0vW8+vQdwre0FdYLfCGwnaVlJywLb5WMhhNBPpM7sMttA1pe5X2KSK0kTJZ0LYPs54NvAX/N2Yj4WQgj9QnRmt5jtqcDUwv5WNa6ZBhxY2D8fOL/ncxdCCF2zaBA8cBdPZocQQhcZ8abb/2u0/e8whBB6SKUzu91FQRFCCF1kFE1PIYQQGhvoHdVlREERQghdZDPgh76WEQVFCCF0megYBFN4REERQghdZOCNGPUUQgihHqNBsXBRFBQhhNANg2F4bPvfYQgh9BADHR5SamtG0gRJN0maJel+SYfn478orAg6R9LMfPxjkqZLujf/u01P3WfUKEIIoctauszpQuAo2zMkLU1a1XOK7b3eSk36IfBi3p0H7GT7SUkbkCZNXWLNnlaIgiKEELqoUqNoSVz2U8BT+fXLkmaTvvhnAUgSsCdpVVBs31UIfj8wWtJI26+3JEMFUVCEEEIXVRYuKmm8pGmF/bNtn13rQkmrAxsDdxQOTwKetv1wjSC7AzN6opCAKChCCKFbOvHA3TzbE5tdJGkscAVwRNUy0TVXBJW0PvA90po9PSIKihBC6KK0HkXrhsdKGk4qJCbbvrJwfBiwG7Bp1fWrAFcBn7X9SMsyUiUKihBC6DK1bAqP3AdxHjDb9qlVp7cFHrA9t3D9MqSlpL9m+/aWZKKOtiooPHIEC9depdfTHfbCq72eJsCQRR19kq5HDe/1NN9YdnSvpwnw5rjev1eARSP7ZuT6G0v3/sNjr40fuA+spc7sluV/c2A/4N7KEFjgONvXU2NFUODLwHuAb0j6Rj62ne1nWpWhirYqKEIIoTelhYtKd2Y3jsu+DWq3Y9k+oMaxk4CTWpJ4E1FQhBBCN8Q04yGEEOpK04wP3KazsqKgCCGEbohJAUMIIdSVZo+NpqcQQggNtHCup5aTdGSJy16xfVajCxoWFJKuKZHIc7V65EMIod0ZsbCjNaOeeshXgTOpM5oqOxjoekEB/BtwYIPzAn7SJI4QQmhb/Xwp1Ittn9joAkljmkXSrKD4uu2bmyTyrWaJhBBCOxoAo55OrndC0kTb02wf0yyShr0wtn/ZLIIy10gaKukuSdfmfUk6WdJDkmZLOqxOuO/nBTxmSzo9P+IeQgj9RqsWLuohv5e0bPVBSduR5ogqpVRntqR1SG1dqxXD2C67otLhwGxgXN4/AJgArGu7Q9IKNdL8COmR9g3zoduAjwJTS6YZQgg9agCsmX02cJOkj9l+FkDSZ0g1jR3KRlJ21NOvgJ8C5wCLOpPLPLvhDjljlR74LwKfsd0BUGduEgOjgBGkvpDhwNOdSTuEEHpaf+6jsH2OpAXAH3MtYi9S5/XWtueUjadsQbHQ9pmdzyYApwHHAEsXjq0F7CXpP4BngcOqF+Ow/WdJN5FWfBLwY9uzqyOXdBBwEMCoEe/oYhZDCKHzDP191BO2L86FxV3AP4AtbM/rTBzNhscul1/+RtKXSG1ab62gZPu5JuF3BJ6xPV3SVoVTI4EFtidK2g04n7R6UzHse0ijrirTwU6RNMn2rcXr8gpRZwOMG7uyG+UnhBBayv276UnSvaTyTMBSwDtJtQsBtr1ho/AVzWoU0wuJQOqnqDCwZpPwmwM7S9qe1Iw0TtIlwFygsijHVcAFNcL+B/AX2/MBJN0AfBi4tca1IYTQ61q9cFEP2LEVkTQsKGyvASBplO0FxXOSRjWL3PaxwLH5+q2Ao23vK+kUYGvgMVIH9UM1gv8D+Lyk75IKqo+SmrFCCKHf6M81Ctt/b0U8Zcds/anksbJOAXbP1aLvkh/qkzRR0rn5msuBR4B7gbuBu23/phtphhBCS1UWLiqz9YXKIwndvaZZH8WKwMrAaEkbs7gJahypvas021PJQ1ttv0CNoVm2p5ELDduLgC90Jo0QQuhNaQqPfj0p4BZNpmISsF6zSJr1UXyc9MzDKsAPWVxQvAQc1zyPIYTQ3vp5H8UuJa55o9kFzfooLpR0MbC37cllcxZCCIOC+30fRcMpmMpqWmfKD8V9pRWJhRBCO+nvfRStUvaBu99LOhr4BfBK5WCz5yhCCKHdDfRCoIyyBcVe+d9DCsfKPEcRQghtawDM9fQWSaOBVW0/2Nmwpbrrba9RY4tCIoQw6C3ykFJbM5ImSLpJ0qw8a/bh+fgvJM3M2xxJMwthjpX0N0kPSvp4g7h3AmYCv8377y+5MB1QfvbY4aSJ/LbMh6YCZ9l+s2xCIYTQbtzazuyFwFG2Z0haGpguaYrtSosOkn4IvJhfrwd8GlgfeDepi2Cd/GhBtROAD7D4EYWZktYom7GyA4DPBDYFzsjbpvlYCCEMarZKbc3j8VO2Z+TXL5OWZli5cj7Pz7QncGk+tAtwme3XbT8G/I1UGNTypu0Xq5Mse49l+yg2s71RYf+Pku4um0gIIbSnTvVRjJc0rbB/dp7UdMlYpdWBjYE7CocnAU8XZtpeGfhL4fxcCgVLlfvzOhRDJa0NHEYnZtcoW1AskrSW7UcAJK1JJ9elCCGEdlSmtpDNsz2x2UWSxgJXAEfYfqlwam8W1yY661Dg66TZv38O3AicVDZw2YLiq6RVkh4lPZ29GvC5zuUzhBDaS+U5ilbJ/cFXAJNtX1k4PgzYjdTsX/EEaaXQilXyseo4hwLX2d6aVFh0WqmCwvYfcnXlvfnQg7ZfbxQmhBDanmFRiwqK3AdxHjDb9qlVp7cFHrA9t3DsGuDnkk4ldWavDdy5RBbtRZI6JL2jRj9FKWVrFJBKstVzmPdLwvZFXUk0hBDagelU01MzmwP7AfcWhsAeZ/t60uimtzU72b5f0i+BWaQRU4fUGfEEMD/HO4W3PzR9WJmMlR0eezFp+dKZLO6bMBAFRQhhEGvdA3e2b4PaMwzaPqDO8ZOBk0tEfyWLF4vrtLI1ionAerZjqdEQQigYCN+Kti/sTviyBcV9wIrAU91JLIQQ2k0Lm556jKTHqPHcRNkZNsoWFOOBWZLuJA2vqiSyc8nwIYTQdmxY1L8XLqooDssdBXwKWK5s4LIFxQmdyFAIIQwaA6Tp6V9Vh06TNB34RpnwZYfHNlz8QtKfbX+4TFwhhNBOBkjT0yaF3SGkGkbpUa+dGR7byKgWxRNCCAOGKTePUz/ww8LrhcBjpHmjSmlVQTEAKl8hhNB6A+TL779sP1o80BOzx4YQQqjm1s0e28MuL3msplbVKPr8rxBCCH3BHf3360/SuqT1Kt4habfCqXF0osug7JPZY4DXbHdIWgdYF7ihsHDRfmUTDCGEdtLPRz29F9gRWAbYqXD8ZeDzZSMpW6O4BZgkaVngd8BfSeto7wNg+76yCfakhUsNYd7GY3o93ZEvLtXraQIsGtEnyfLa+N7/BbWw99/WpI++BIa92jfpllixs+UWje79NFulxXM9tZztXwO/lvRh23/uajxlCwrZflXSfwFn2P5+cd3WEEIYlAz044Ki4C5Jh5Caod5qcrL9n2UCl/39IEkfJtUgrsvHhpbNoaShku6SdG0lMkknS3pI0mxJNWcwlLSqpN/la2blVZ9CCKHfsMttfexi0jRMHwduJq1d8XLZwGVrFEcAxwJX5alt1wRu6kQmDyet/zou7x9AWnBj3dzvsUKdcBcBJ9uekld96uhEmiGE0MPUrzuzC95j+1OSdrF9oaSfA7eWDdyZJ7NvlrRU3n+UtOZqU5JWAXYgTYV7ZD78ReAztjtyfM/UCLceMMz2lHzN/DLphRBCr+r72kIZlYFHL0jaAPgnUO8H+hJKNT1J+rCkWcADeX8jSWeUTOM04BjeXhtYC9hL0jRJN+TV86qtQ7qpK3Oz1Q/ykn7VeTsoxzNt4Wuv1IgmhBB6yMB5juLsPBjpeNLKeLOA75UNXLaP4jRS29a/AGzfDWzZLJCkHYFnbE+vOjUSWJAXGj8HOL9G8GHAJOBoYDNgTVKT1dvYPtv2RNsTh43uq6ExIYRByyW3PiJpCPCS7edt32J7Tdsr2D6rbBylB8PZfrzqUL0l94o2B3aWNAe4DNhG0iXAXBavtnQVsGGNsHOBmbYftb0QuBrYpMZ1IYTQh1Ry6xu5if+Y7sRRtqB4XNJHAEsaLuloUud0swwea3sV26uT1nz9o+19SV/6W+fLPgo8VCP4X4FlJC2f97chVZdCCKH/6Oc1iuz3ko6WNEHScpWtbOCyo54OBn4ErAw8QXro7pDO5/UtpwCTJX2FtOj3gQCSJgIH2z7Q9qJcIP1BkoDppGaqEELoHwwMjFFPe+V/i9/bJjXpN1V21NM88lPYXWV7KjA1v36BNBKq+ppp5EIj70+hdrNUCCH0C/3gGYmmbJeeKbaWsqOe1pH0B0n35f0NJR3fnYRDCKEtDICmJ0lLSTpe0tl5f+082KiUsn0U55AeuHsTwPY9pD6HEEIY3KxyWxO5/+CmPAvF/ZIOL5w7VNID+fj387Hhki6UdG+eveLYBtFfALwBfCTvPwGcVPYWy/ZRLGX7ztRV8JaFZRMJIYR2pdbVFhYCR9meIWlpYLqkKcC7gF2AjWy/XpjJ4lPASNvvyw9Dz5J0qe05NeJey/ZekvYGyHP3le5cKVtQzJO0FrkCJWkP4KmyiYQQQltqYbOS7afI36u2X5Y0mzSA6PPAKbZfz+cqM1kYGCNpGDCaVGN4qU70b0gazeLv8LWA18vmrWzT0yHAWcC6kp4gzf10cNlEQgihPSmNeiqzwfjKLBJ5O6hurGkC1I2BO0izVEySdIekmyVtli+7HHiFVLj8A/gf28/VifKbwG+BCZImA3+gE89WNK1R5GkzvmR727yA0RDbpWcdDCGEtla+RjEvz0bRUJ4A9QrgCNsv5RrDcsCHSLNU/DJPzPoB0oPP7waWBW6V9PvqtbEhjSCVNCPHIeDwPJq1lKYFRX6eYYv8OiZTCiGEohaOaJI0nFRITLZdmb1iLnClbQN3SuoAxgOfAX6bVxp9RtLtwERgiYIi+yiwRc7xcNKsGKWUbXq6S9I1kvaTtFtlK5tICCG0pcrCRa0Z9STgPGC27VMLp64mz2ShtBT1CGAeqblpm3x8DKm28ECduM8gdRfcC9wHfEHST8reZtnO7FGkCQG3KRwzi+drCiGEQamFo542B/YD7tXiFUSPI02aen5+ju0NYH/bzl/0F0i6n9ScdEF+dKGWbYB/y7USJF0I3F82Y2WfzP5c2QhDCGFQad2op9uoP3vgvjWun08aIlvG34BVgb/n/Qn5WCmlCgpJp9c4/CIwLS/eHUIIg1ILaxQ9aWlgtqQ78/5mwDRJ1wDY3rlR4M40Pa0L/Crv7w48BmwkaWvbR3Q21yGE0Bb6flGiMr7RncBlC4oNgc1tLwKQdCZpvdUtSJ0jIYQw+PSDeZzKyMtZI2kche/9Bs9dvE3ZgmJZYCypuQlgDLBcHjpb+um+EEJoOwOgoMgP950ILCAtSy1aPc048H1gpqSpOYEtge/kIVm/72SeQwihbQyQPoqvAht05iG7orKjns6TdD3pSUCA42w/WchACCEMTh19nYFSHgFe7WrgsqOeBPw7sKbtEyWtKukDtu9sFjaEENqVPGBqFMcCf5J0B4XJAG0fViZw2aanM0jl5jakdq6XSY+Zb9YoUAghtL2BMerpLOCPpMFHna4DlS0oPmh7E0l3Adh+XtKIziYWQghtZ2DUKIbbPrKrgcsWFG/mWWQrj38vz0BpmQshhB40QJqebsgjn37D25ueWjo89nTSTIMrSDoZ2AOINbNDCGFgFBR753+Ly6W2dnis7cmSppM6tAXsant2Z3IZQghtx6AB0LZie43uhG9YUEharrD7DHBp8VzZaksIIbStAVCjyGtqHwmsavsgSWsD77V9bZnwzWoU00l/BpFmHnw+v16GNBd6t0qpEEIY6AZIH8UFpO/zj+T9J0hz95UqKBouXGR7Ddtrkp6+3sn2eNvvBHYEftflLIcQQuhNa9n+PvAmgO1XqT+l+RLKrnD3IdvXV3Zs38DikqkpSUMl3SXp2rwvSSdLekjSbEl1H/qQNE7SXEk/LpteCCH0Gpfc+tYbkkazeOTqWhRGPzVTdtTTk5KOBy7J+/sATza4vtrhwGxgXN4/gLRwxrq2OySt0CDst4FbOpFWCCH0jgHSmQ2cAPwWmCBpMmk1vdIL0pWtUewNLE8aIntlfr13wxCZpFWAHYBzC4e/CJxouwPA9jN1wm4KvIto5goh9FcDoEZh+3fAbqQf6ZcCE23fVDZ82eGxz5FqBV1xGnAMaYWlirWAvST9B/AscJjth4uBJA0BfkhaAnDbLqYdQgg9RgyMzmxJf7D978B1NY411bBGIemEEhmoe42kHYFnbE+vOjUSWGB7InAOafHwal8Crrc9t0n6B0maJmnawtdeaZbdEEJorX5co5A0Kj/mMF7SspKWy9vqwMpl42lWozhQ0kuN8gF8mtT+VcvmwM6StictpzpO0iXAXFITFqTmrAtqhP0wMEnSl0iLJo2QNN/214oX2T4bOBtgqRUmDICyPYTQNvr/7LFfAI4A3k0aHlsZ6fQSUHqAULOC4hze3mRU75qabB9LfmRc0lbA0bb3lXQKsDVp3e2PAg/VCLtP5bWkA0htal+rvi6EEPpUPy4obP8I+JGkQ23/X1fjaVhQ2P5WVyNu4hRgsqSvAPOBAwEkTQQOtn1gD6UbQggt1apRT5ImABeRBvAYODt/0SPpUOAQYBFwne1j8vENSVOIjyNN1LqZ7QXVcXenkIDyw2O7zfZUYGp+/QJpJFT1NdPIhUbV8Z8BP2uaxjBYsFyzq1rv+YkLez9RYMV3P98n6a4/rvfTfefI+b2eJsCzC5pVqHvGfU+v2Cfpvvrc6F5PUx0DYj2H+lpXo1gIHGV7hqSlgemSppAKjl2AjWy/XnmcQNIw0iML+9m+W9I7yQ/UtVqvFRQhhNB2WthRbfsp4Kn8+mVJs0kdzp8HTrH9ej5XeZxgO+Ae23fn4/9qTU6WVPY5ihBCCDVUlkNttpFGHk0rbAfVjTONStoYuANYhzSw5w5JN0uqrCy6DmBJN0qaIemYBvFJ0r6SvpH3V5X0gbL3WHbN7HWAM4F32d4gt4vtbPuksgmFEEJbKl+jmJcfCWhI0ljSUtNH2H4pNzEtB3yItPz0LyWtSfr+3iIfexX4g6Tptv9QI9puLWddtkZxDmn0UmVCqXtIw2JDCGFQ60SNonlc0nDSF/hk25VHCOYCVzq5k/SFPz4fv8X2vDzJ3/XAJnWi/qDtQ4AFkJazBkovZ122oFgqZ7Cob3pwQwihvzDpa7vM1oQkAecBs22fWjh1NelxgkrrzghgHnAj8D5JS+Vax0eBWXWi79Zy1mU7s+fl2QYriexB7nQJIYTBSnRiru7mNgf2A+6VNDMfO440c8X5ku4D3gD2t23geUmnAn8lfTdfb/u6JaMFurmcddmC4hDS08/rSnqC9KDcvmUTCSGEttW6UU+3Ub/cqfl9a/sSFs/qXVOeN+8x0px7XVrOuuykgI8C20oaAwyx/XLZBEIIoZ318yk8yEs5/MT2xsADXYmj2ZrZR9Y5XsnAqbXOhxDCoNHPC4rsD5J2J3eKdzZwsxpF5bHU95KGUV2T93cCqju3QwhhcBk4Cxd9ATgSWChpAan5ybbHNQ6WlJrrSdItwCaVJqc8tXi9TpMQQhg8BkCNwna35qIpOzz2XaTe9oo38rEQQhjUWvkcRY/lUVriIbxax+opO+rpIuBOSVfl/V2BC8smEkIIbasf1ygkjQKWIi9cxOJRVeNo4cJFANg+WdINwKR86HO27+pEfkMIoS31dW2hieLCRTMKx1u6cBGQJpAiPQl4VfGY7X+UTSiEENpOHy5zWkavLFxUcB2L/xyjgTWAB4H1u5pwCCEMdGLAjHo6X9LxwKq2D5K0NvBe29eWCVy26el9xX1JmwBf6nRWQwih3fTjGkXB+aQ1sz+S958AfgWUKii6tB6F7RnAB7sSNoQQ2onsUlsfW8v291k8A/irdGKaqrJ9FMUntIeQprJ9shOZDCGE9tPP+ygK3pA0msUTu64FvF42cNk+iuLDGgtJfRZXlE0khBDaVT8f9VTxTeC3wARJk0kz1R5QNnDZgmKW7V8VD0j6FKmNK4QQBq2B0Jlte4qkGaRV8gQcbnte2fBl+yiOLXkshBAGF5fc+t7KwFDSwkdbStqtbMBms8d+EtgeWFnS6YVT44gV7kIIg10/mJ6jDEnnAxsC97N4ZTsDV9YNVNCs6elJYBqwM2loVcXLwFc6ldMQQmhHA6CgAD5ke72uBm42e+zdwN2SJtuOGkQIIRSIgVGjAP4saT3b9dbUbqhZ09Mvbe8J3CUt+eewvWFXEg0hhLbR989IlHERqbD4J2lYbGU9ilLf4c2ang7P/+7Y9fyBpKGkJqwnbO+otETeScCngEXAmbZPrwrzfuBMUn/IIuBk27/oTj5CCKGlBs7CRecB+wH3sriPorRmTU9P5Zdfsv3fxXOSvgf895KhajocmE360oc0fncCsG5ez3WFGmFeBT5r+2FJ7wamS7rR9gsl0wwhhB43QAqKZ21f0/yy2soOj/1YjWOfLBNQ0irADsC5hcNfBE603QFg+5nqcLYfsv1wfv0k8AywfMn8hhBC7xgYw2PvkvRzSXtL2q2ylQ3csKCQ9EVJ9wLvlXRPYXsMuKdkGqcBx/D26s5awF6Spkm6Ic9k2CgfHyCN/X2kxrmDcjzTFr7ySskshRBCa7RqhTtJEyTdJGmWpPslHV44d6ikB/Lx71eFW1XSfElHN4h+NKlvYjtgp7yV7lJo1kfxc+AG4LvA1wrHX7b9XLPIJe0IPGN7uqStCqdGAgtsT8yl2vksXhSpOo6VgIuB/Ss1kCLbZwNnA4x+94S+L7dDCIOHaWVn9kLgKNszJC1Nam6fQlp2ehdgI9uv12iqP5X0PV0/m/bnupOxZn0ULwIvAnsD5AyOAsZKGlti4aLNgZ0lbZ/DjZN0CTCXxQ96XAVcUCuwpHGkeaW+bvsv5W4phBB6T6uGx+Y+4afy65clzSY9Tf154BTbr+dzbzXVS9oVeAzo0eaUUn0UknaS9HDO0M3AHJqUYAC2j7W9iu3VgU8Df7S9L3A1sHW+7KPAQzXSHEEqRC6yfXmZfIYQQm+qLFxUZiOtWz2tsB1UN15pdWBj4A5gHWCSpDsk3Sxps3zNWNKAom/18G2WnhTwJNJkUr+3vbGkrYF9u5HuKcBkSV8B5gMHAkiaCBxs+0BgT2BL4J2SDsjhDrA9sxvphhBC69idaXqaZ3tis4tyAXAFcITtlyQNA5YjfQdvBvxS0prACcD/2p6fnjjoOWULijdt/0vSEElDbN8k6bTOJGR7KjA1v36BNBKq+ppp5ELD9iXAJZ1JI4QQelsrn8yWNJxUSEy2XWmenwtcadvAnZI6gPGkxeP2yJ3bywAdkhbY/nFVnOuSmrDusD2/cPwTtn9bJl9lh8e+kEu5W0g1gR/Rw21iIYQwILRoeGx+EPk8YLbtUwunriY31UtahzQCdJ7tSbZXz037pwHfqVFIHAb8GjgUuE/SLoXT3yl7i2VrFLsAC0gTAe4DvAM4sWwiIYTQrlpYo9ic/PS0pJn52HGkUaHnS7oPeIM0ArRsqp8HNs3NU6sDl0ta3faPaPVSqLaLtYcLy0YeQghtzcCi1pQUtm+j/pd3wz5h2yfUOTWk0txke05+TOFySas1SGvJSBqdlPSypJdqbC9LeqlsIiGE0K5a9cBdD3k6z5sHQC40diT1cbyvbCTNnqNYutH5EEIY9Pr37LGfpWqRubxkxGclnVU2krJ9FCGEEGroz+tR2J7b4NztZeOJgiKEELqqf0z41+PaqqBYYbkXOHTfLs+k22UrD3++19ME2GjE032S7ogefrinlhWHju31NAFe6nitT9J9cOW++a953rNb9nqaj7+6TK+nCfD3FsSRVrhr/5KirQqKEELobWrRqKf+LAqKEELoqmh6CiGE0Fin5noasKKgCCGEbujPo55aJQqKEELojqhRhBBCqMtvrTXR1qKgCCGE7uiIGkUIIYQG4jmKEEIIjUVBEUIIoS4D0UcRQgihHuFoegohhNBER/tXKaKgCCGEroqmpxBCCM1E01MIIYTGoqAIIYRQX0wKGEIIoREzKAqKIX2dgRBCGMi0yKW2pvFIEyTdJGmWpPslHV44d6ikB/Lx7+djH5M0XdK9+d9teuoee6VGIWkoMA14wvaOkgScBHwKWAScafv0GuH2B47PuyfZvrA38htCCKW1rkaxEDjK9gxJSwPTJU0B3gXsAmxk+3VJK+Tr5wE72X5S0gbAjcDKrcpMUW81PR0OzAbG5f0DgAnAurY7Cjf+FknLAd8EJpIqeNMlXWO7bxaoDiGEaqZlkwLafgp4Kr9+WdJs0hf/54FTbL+ezz2T/72rEPx+YLSkkZXrWqnHm54krQLsAJxbOPxF4ETbHbD4xqt8HJhi+7lcOEwBPtHT+Q0hhPJyZ3aZrRMkrQ5sDNwBrANMknSHpJslbVYjyO7AjJ4oJKB3+ihOA47h7Y+lrAXsJWmapBskrV0j3MrA44X9udSoVkk6KMczbf7zb7Yw2yGEUEL5gmJ85bsqbwfVik7SWOAK4AjbL5FafpYDPgR8Ffhlbr6vXL8+8D3gCz11iz3a9CRpR+AZ29MlbVU4NRJYYHuipN2A84FJXUnD9tnA2QCrbbB0+w8/CCH0L+VrC/NsT2x0gaThpEJisu0r8+G5wJW2DdwpqQMYDzybW2yuAj5r+5Eu5b+Enq5RbA7sLGkOcBmwjaRLyDeer7kK2LBG2CdI/RgVq+RjIYTQP9iwaFG5rYlcSzgPmG371MKpq4Gt8zXrACOAeZKWAa4Dvmb79hbf2dv0aEFh+1jbq9heHfg08Efb+1K4ceCjwEM1gt8IbCdpWUnLAtvlYyGE0H+0ro9ic2A/0g/qmXnbntTisqak+0g/uPfPtYsvA+8BvlG4fomBQa3QVw/cnQJMlvQVYD5wIICkicDBtg+0/ZykbwN/zWFOtP1c32Q3hBBqaO2op9sA1Tm9b43rTyI9ZtDjeq2gsD0VmJpfv0AaCVV9zTRyoZH3zyeVpiGE0D8NgiezYwqPEELojigoQggh1FXpzG5zUVCEEEJ3RI0ihBBCQ1FQhBBCqM8tG/XUn0VBEUIIXWXIU9a1tSgoQgihO6JGEUIIoa4Y9RRCCKGp6MwOIYTQiDuijyKEEEJdnV+UaCCKgiKEELqqhZMC9mdRUIQQQhcZcHRmhxBCqMuGeI4ihBBCI46mpxBCCA0NghqF3EY99pKeBf7exeDjgXktzE5/N5judzDdKwyu++3Ova5me/nuJC7ptzkPZcyz/YnupNdX2qqg6A5J02xP7Ot89JbBdL+D6V5hcN3vYLrXvjSkrzMQQgihf4uCIoQQQkNRUCx2dl9noJcNpvsdTPcKg+t+B9O99pnoowghhNBQ1ChCCCE0FAVFCCGEhtq+oJB0vqRnJN1XOPYDSQ9IukfSVZKWqRP2E5IelPQ3SV/rtUx3Qzfvd46keyXNlDSt1zLdRXXu9dv5PmdK+p2kd9cJu7+kh/O2f+/luuu6eb+L8jUzJV3Te7numlr3Wjh3lCRLqvn8wkB8b/s92229AVsCmwD3FY5tBwzLr78HfK9GuKHAI8CawAjgbmC9vr6fnrrffG4OML6v76Gb9zqu8Pow4Kc1wi0HPJr/XTa/Xrav76en7jefm9/X+e/uvebjE4AbSQ/WLvFZHajvbX/f2r5GYfsW4LmqY7+zvTDv/gVYpUbQDwB/s/2o7TeAy4BdejSzLdCN+x1w6tzrS4XdMaQJPqt9HJhi+znbzwNTgH7/xGw37nfAqXWv2f8Cx1D/Pgfke9vftX1BUcJ/AjfUOL4y8Hhhf24+NtDVu19I//l+J2m6pIN6MU8tJelkSY8D+wDfqHFJW723Je4XYJSkaZL+ImnX3std60jaBXjC9t0NLmur97a/GNQFhaSvAwuByX2dl95Q4n63sL0J8EngEElb9lrmWsj2121PIN3nl/s6Pz2t5P2u5jTVxWeA0ySt1WsZbAFJSwHHUb8gDD1o0BYUkg4AdgT2cW7crPIEqT20YpV8bEAqcb/YfiL/+wxwFan5bSCbDOxe43hbvbcF9e63+N4+CkwFNu69bLXEWsAawN2S5pDesxmSVqy6rl3f2z41KAsKSZ8gtXPubPvVOpf9FVhb0hqSRgCfBvr9aJFaytyvpDGSlq68JnWALzHipL+TtHZhdxfggRqX3QhsJ2lZScuS7vXG3shfq5W533yfI/Pr8cDmwKzeyWFr2L7X9gq2V7e9OqlJaRPb/6y6tG3e236lr3vTe3oDLgWeAt4kfbj+C/gbqR1zZt5+mq99N3B9Iez2wEOk0U9f7+t76cn7JY3uujtv9w+E+61zr1eQCrh7gN8AK+drJwLnFsL+Z/67/A34XF/fS0/eL/AR4N783t4L/Fdf30tX7rXq/BzyqKd2eG/7+xZTeIQQQmhoUDY9hRBCKC8KihBCCA1FQRFCCKGhKChCCCE0FAVFCCGEhqKgCCGE0FAUFIOMpPk9EOfOlWnYJe0qab0uxDFV0sROXv+gpJ1rnFu91vTU7UrScYXXo/NU4m/Um4Y7hM6KgiJ0m+1rbJ+Sd3cFOl1QdNE+tnv0aXlJQ3sy/hZ5q6Cw/Zrt9wNP9l12QruJgmKQUvIDSfflxYr2yse3yr/WL8+LHU2WpHxu+3xsuqTTJV2bjx8g6ceSPgLsDPwg/6pdq1hTkDQ+z9NT+eV7maTZkq4CRhfytp2kP0uaIelXksaWuJ9NJd0t6W7gkMLxofk+/5oX+PlCPj5E0hn5fqZIul7SHvncHEnfkzQD+FS9/OQ0b85/jxslrZSPHyZpVk7vsgZ5HqO0QM+dku7Ks6NWakS35vRm5L8rklaSdEv+294naZKkU4BKLWJQTG4Z+kBfPxoeW+9u5AVsSJPHTSEt0PQu4B/ASsBWwIukydSGAH8GtgBGkaYBWSOHvxS4Nr8+APhxfv0zYI9CelOBifn1eGBOfn0kcH5+vSFpVtuJ+ZpbgDH53H8D36hxH2/Fm/fvAbbMr39AXvAGOAg4Pr8eCUwjTS63B3B9vscVgecr+SZND3FMIc9L5AcYDvwJWD4f36twP08CI/PrZRq8F98B9q1cR5ouZgywFDAqH18bmJZfH0WeWiW/b0sX39OquOcwgBahiq1/b8MIg9UWwKW2FwFPS7oZ2Ax4CbjT9lwASTOB1YH5wKO2H8vhLyV9CXfVlsDpALbvkXRPPv4hUtPV7bkiM4JUWNWltLTrMk6L3QBcTJoqHdKkcBtWagvAO0hfvlsAv7LdAfxT0k1V0f6iSX7eC2wATMnHh5LmJoJUaE2WdDVwdYOsbwfsLOnovD8KWJVU0PxY0vuBRcA6+fxfgfMlDQeutj2zQdwhtEwUFKGW1wuvF9G9z8lCFjdxjipxvUgrlO3djTSr4zvU9ttmEJW0fZNwrzTKj6T3Affb/nCNsDuQCsKdgK9Lep8XrzBYnbfdbT9YFfcJwNPARqS/3QJIq74prRGyA/AzSafavqjJfYTQbdFHMXjdCuyV2/CXJ32x3dng+geBNSWtnvf3qnPdy8DShf05wKb59R6F47eQFtFB0gak5idIS7VuLuk9+dwYSevQgO0XgBckbZEP7VM4fSPwxfwrHEnrKE2jfjuwe+6reBepya2Wevl5EFhe0ofz8eGS1pc0BJhg+yZSM9U7gHp9LDcChxb6gCprRLwDeCrXdvYj1VaQtBrwtO1zgHNJa0oDvFm5vxB6QhQUg9dVpCaSu4E/ktrkq+f2f4vt14AvAb+VNJ1UILxY49LLgK/mztm1gP8hfVHfRWrvrzgTGCtpNnAiMD2n8yypz+PS3Bz1Z2DdEvfzOeAnualMhePnktZemKE0ZPYsUg3pCtL01bOAS4AZte6nXn6c1lHfA/he7kCfSZrOeyhwiaR7gbuA03NBVsu3SX0d90i6P+8DnAHsn+Ndl8W1m61IC/fcRSqof5SPn53jiM7s0CNimvFQmqSxtufnX8A/AR62/b99lJepwNG2p3Ujjsr9vJNUm9q8UWE5kOTRZRNtz+vrvISBL2oUoTM+n3+x309qHjmrD/PyHKmdfokH7jrh2nw/twLfbodCQvmBO1JNpaOPsxPaRNQoQuhhkj4HHF51+Hbbh9S6PoT+JgqKEEIIDUXTUwghhIaioAghhNBQFBQhhBAaioIihBBCQ/8fjMtEZE6JX4MAAAAASUVORK5CYII=",
      "text/plain": [
       "<Figure size 432x288 with 2 Axes>"
      ]
     },
     "metadata": {
      "needs_background": "light"
     },
     "output_type": "display_data"
    }
   ],
   "source": [
    "data.t2m[0,:,:].plot()"
   ]
  },
  {
   "cell_type": "code",
   "execution_count": 89,
   "id": "6fa16b73",
   "metadata": {},
   "outputs": [
    {
     "data": {
      "text/plain": [
       "[<matplotlib.lines.Line2D at 0x7f121540dfc0>]"
      ]
     },
     "execution_count": 89,
     "metadata": {},
     "output_type": "execute_result"
    },
    {
     "data": {
      "image/png": "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",
      "text/plain": [
       "<Figure size 432x288 with 1 Axes>"
      ]
     },
     "metadata": {
      "needs_background": "light"
     },
     "output_type": "display_data"
    }
   ],
   "source": [
    "data.t2m[:, 0, 0].plot()"
   ]
  },
  {
   "cell_type": "code",
   "execution_count": 11,
   "id": "d2b2643c",
   "metadata": {},
   "outputs": [],
   "source": [
    "dat = data.t2m[:, 0, 0]\n"
   ]
  },
  {
   "cell_type": "code",
   "execution_count": null,
   "id": "0c9244d7",
   "metadata": {},
   "outputs": [],
   "source": [
    "#dat = data.t2m[[0,12, 24, 36, 48, 60, 0, 0]"
   ]
  },
  {
   "cell_type": "code",
   "execution_count": 13,
   "id": "9491d8b9",
   "metadata": {},
   "outputs": [
    {
     "data": {
      "text/plain": [
       "array([261.31348, 270.12402, 273.0315 , 273.25586, 279.2561 , 285.083  ,\n",
       "       284.5293 , 285.71167, 277.56226, 276.60864, 268.85474, 265.18262,\n",
       "       268.417  , 263.8794 , 269.44995, 276.4253 , 279.64258, 283.01318,\n",
       "       285.13257, 285.1399 , 282.34985, 277.84058, 272.94922, 265.8379 ,\n",
       "       263.76514, 269.2776 , 271.2307 , 274.6089 , 274.5376 , 285.13306,\n",
       "       285.40845, 285.3584 , 281.08032, 277.8767 , 271.37378, 267.4253 ,\n",
       "       266.46875, 269.16992, 269.8833 , 274.9209 , 277.78906, 281.88965,\n",
       "       284.88403, 285.2766 , 281.6294 , 273.84863, 271.90283, 266.92993,\n",
       "       263.77075, 268.89062, 269.15112, 271.04468, 275.76782, 285.0686 ,\n",
       "       284.98486, 283.20215, 282.073  , 275.30713, 269.86987, 266.36597,\n",
       "       266.7019 , 267.33252, 270.07666, 272.71948, 280.75635, 285.2976 ,\n",
       "       286.12183, 285.2119 , 279.14478, 279.9016 , 270.79126, 266.80566,\n",
       "       266.50684, 268.55566, 271.60596, 271.87427, 278.30737, 283.87964,\n",
       "       285.58838, 285.16528, 284.33838, 279.76562, 269.34912, 268.4619 ],\n",
       "      dtype=float32)"
      ]
     },
     "execution_count": 13,
     "metadata": {},
     "output_type": "execute_result"
    }
   ],
   "source": [
    "data_agg2 = dat.to_numpy()\n",
    "data_agg2"
   ]
  },
  {
   "cell_type": "code",
   "execution_count": 69,
   "id": "3a41507d",
   "metadata": {},
   "outputs": [],
   "source": [
    "data_agg2_sin = np.sin(data_agg2)"
   ]
  },
  {
   "cell_type": "code",
   "execution_count": 70,
   "id": "8f79169b",
   "metadata": {},
   "outputs": [
    {
     "data": {
      "image/png": "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",
      "text/plain": [
       "<Figure size 432x288 with 1 Axes>"
      ]
     },
     "metadata": {
      "needs_background": "light"
     },
     "output_type": "display_data"
    }
   ],
   "source": [
    "plt.plot(data_agg2_sin)\n",
    "plt.show()"
   ]
  },
  {
   "cell_type": "code",
   "execution_count": 71,
   "id": "84aab5d3",
   "metadata": {},
   "outputs": [],
   "source": [
    "data_agg2_sin = data_agg2_sin.reshape(-1, 1)"
   ]
  },
  {
   "cell_type": "code",
   "execution_count": 85,
   "id": "8f9b28fe",
   "metadata": {},
   "outputs": [
    {
     "data": {
      "text/plain": [
       "[1, 2, 3, 4, 5, 6, 7, 8, 9, 10, 11, 12]"
      ]
     },
     "execution_count": 85,
     "metadata": {},
     "output_type": "execute_result"
    }
   ],
   "source": [
    "months = [i for i in range(1, 13)]\n",
    "months"
   ]
  },
  {
   "cell_type": "code",
   "execution_count": null,
   "id": "e6dc1183",
   "metadata": {},
   "outputs": [
    {
     "data": {
      "text/plain": [
       "[1, 2, 3, 4, 5, 6, 7]"
      ]
     },
     "execution_count": 90,
     "metadata": {},
     "output_type": "execute_result"
    }
   ],
   "source": [
    "years = [i for i in range(1, 8)]\n",
    "years"
   ]
  },
  {
   "cell_type": "code",
   "execution_count": 73,
   "id": "27416e0c",
   "metadata": {},
   "outputs": [],
   "source": [
    "months = np.array(months)\n",
    "\n",
    "months = months.reshape(-1, 1)"
   ]
  },
  {
   "cell_type": "code",
   "execution_count": 96,
   "id": "2a30d481",
   "metadata": {},
   "outputs": [
    {
     "data": {
      "text/plain": [
       "84"
      ]
     },
     "execution_count": 96,
     "metadata": {},
     "output_type": "execute_result"
    }
   ],
   "source": [
    "len(data_agg2_sin)"
   ]
  },
  {
   "cell_type": "code",
   "execution_count": 99,
   "id": "3954161e",
   "metadata": {},
   "outputs": [
    {
     "data": {
      "text/plain": [
       "[1,\n",
       " 2,\n",
       " 3,\n",
       " 4,\n",
       " 5,\n",
       " 6,\n",
       " 7,\n",
       " 8,\n",
       " 9,\n",
       " 10,\n",
       " 11,\n",
       " 12,\n",
       " 1,\n",
       " 2,\n",
       " 3,\n",
       " 4,\n",
       " 5,\n",
       " 6,\n",
       " 7,\n",
       " 8,\n",
       " 9,\n",
       " 10,\n",
       " 11,\n",
       " 12,\n",
       " 1,\n",
       " 2,\n",
       " 3,\n",
       " 4,\n",
       " 5,\n",
       " 6,\n",
       " 7,\n",
       " 8,\n",
       " 9,\n",
       " 10,\n",
       " 11,\n",
       " 12,\n",
       " 1,\n",
       " 2,\n",
       " 3,\n",
       " 4,\n",
       " 5,\n",
       " 6,\n",
       " 7,\n",
       " 8,\n",
       " 9,\n",
       " 10,\n",
       " 11,\n",
       " 12,\n",
       " 1,\n",
       " 2,\n",
       " 3,\n",
       " 4,\n",
       " 5,\n",
       " 6,\n",
       " 7,\n",
       " 8,\n",
       " 9,\n",
       " 10,\n",
       " 11,\n",
       " 12,\n",
       " 1,\n",
       " 2,\n",
       " 3,\n",
       " 4,\n",
       " 5,\n",
       " 6,\n",
       " 7,\n",
       " 8,\n",
       " 9,\n",
       " 10,\n",
       " 11,\n",
       " 12,\n",
       " 1,\n",
       " 2,\n",
       " 3,\n",
       " 4,\n",
       " 5,\n",
       " 6,\n",
       " 7,\n",
       " 8,\n",
       " 9,\n",
       " 10,\n",
       " 11,\n",
       " 12]"
      ]
     },
     "execution_count": 99,
     "metadata": {},
     "output_type": "execute_result"
    }
   ],
   "source": [
    "months_all_years = months * 7\n",
    "months_all_years"
   ]
  },
  {
   "cell_type": "code",
   "execution_count": null,
   "id": "a466110e",
   "metadata": {},
   "outputs": [
    {
     "data": {
      "text/plain": [
       "[1,\n",
       " 1,\n",
       " 1,\n",
       " 1,\n",
       " 1,\n",
       " 1,\n",
       " 1,\n",
       " 1,\n",
       " 1,\n",
       " 1,\n",
       " 1,\n",
       " 1,\n",
       " 2,\n",
       " 2,\n",
       " 2,\n",
       " 2,\n",
       " 2,\n",
       " 2,\n",
       " 2,\n",
       " 2,\n",
       " 2,\n",
       " 2,\n",
       " 2,\n",
       " 2,\n",
       " 3,\n",
       " 3,\n",
       " 3,\n",
       " 3,\n",
       " 3,\n",
       " 3,\n",
       " 3,\n",
       " 3,\n",
       " 3,\n",
       " 3,\n",
       " 3,\n",
       " 3,\n",
       " 4,\n",
       " 4,\n",
       " 4,\n",
       " 4,\n",
       " 4,\n",
       " 4,\n",
       " 4,\n",
       " 4,\n",
       " 4,\n",
       " 4,\n",
       " 4,\n",
       " 4,\n",
       " 5,\n",
       " 5,\n",
       " 5,\n",
       " 5,\n",
       " 5,\n",
       " 5,\n",
       " 5,\n",
       " 5,\n",
       " 5,\n",
       " 5,\n",
       " 5,\n",
       " 5,\n",
       " 6,\n",
       " 6,\n",
       " 6,\n",
       " 6,\n",
       " 6,\n",
       " 6,\n",
       " 6,\n",
       " 6,\n",
       " 6,\n",
       " 6,\n",
       " 6,\n",
       " 6,\n",
       " 7,\n",
       " 7,\n",
       " 7,\n",
       " 7,\n",
       " 7,\n",
       " 7,\n",
       " 7,\n",
       " 7,\n",
       " 7,\n",
       " 7,\n",
       " 7,\n",
       " 7]"
      ]
     },
     "execution_count": 103,
     "metadata": {},
     "output_type": "execute_result"
    }
   ],
   "source": [
    "l = []\n",
    "for k in years:\n",
    "    for i in range(1, 13):\n",
    "        l.append(k)\n",
    "l"
   ]
  },
  {
   "cell_type": "code",
   "execution_count": 105,
   "id": "b7208940",
   "metadata": {},
   "outputs": [
    {
     "data": {
      "text/plain": [
       "(84, 1)"
      ]
     },
     "execution_count": 105,
     "metadata": {},
     "output_type": "execute_result"
    }
   ],
   "source": [
    "data_agg2_sin.shape"
   ]
  },
  {
   "cell_type": "code",
   "execution_count": null,
   "id": "7cddce87",
   "metadata": {},
   "outputs": [
    {
     "ename": "AttributeError",
     "evalue": "'numpy.ndarray' object has no attribute 'drop_axis'",
     "output_type": "error",
     "traceback": [
      "\u001b[0;31m---------------------------------------------------------------------------\u001b[0m",
      "\u001b[0;31mAttributeError\u001b[0m                            Traceback (most recent call last)",
      "\u001b[0;32m/tmp/ipykernel_599371/1907824232.py\u001b[0m in \u001b[0;36m<module>\u001b[0;34m\u001b[0m\n\u001b[0;32m----> 1\u001b[0;31m \u001b[0mdata_agg2_sin\u001b[0m\u001b[0;34m.\u001b[0m\u001b[0mdrop_axis\u001b[0m\u001b[0;34m(\u001b[0m\u001b[0;36m1\u001b[0m\u001b[0;34m)\u001b[0m\u001b[0;34m\u001b[0m\u001b[0;34m\u001b[0m\u001b[0m\n\u001b[0m",
      "\u001b[0;31mAttributeError\u001b[0m: 'numpy.ndarray' object has no attribute 'drop_axis'"
     ]
    }
   ],
   "source": [
    "data_agg2_sin.drop(1)"
   ]
  },
  {
   "cell_type": "code",
   "execution_count": null,
   "id": "1ac2e79c",
   "metadata": {},
   "outputs": [
    {
     "data": {
      "text/plain": [
       "array([-0.5322756 , -0.05292004,  0.2831402 ,  0.06266041,  0.33880138,\n",
       "        0.718695  ,  0.9769419 ,  0.17239597,  0.892159  ,  0.14794399,\n",
       "       -0.9692666 ,  0.9605114 , -0.98215884, -0.01438787, -0.6646438 ,\n",
       "       -0.03485349, -0.04082061,  0.26658183,  0.68336594,  0.67800045,\n",
       "       -0.38340968,  0.9819336 ,  0.361002  ,  0.9311248 , -0.12829162,\n",
       "       -0.7829416 ,  0.8692804 , -0.96092534, -0.9387679 ,  0.6830094 ,\n",
       "        0.45865783,  0.50253904, -0.9957507 ,  0.9881284 ,  0.9308788 ,\n",
       "       -0.38011202,  0.53678805, -0.8452572 , -0.2894646 , -0.9995026 ,\n",
       "        0.9708876 , -0.75371087,  0.84195596,  0.5714898 , -0.89744556,\n",
       "       -0.50559545,  0.9880011 ,  0.10524863, -0.1227208 , -0.95981526,\n",
       "       -0.8551526 ,  0.76285   , -0.63833344,  0.7286358 ,  0.7833693 ,\n",
       "        0.44288114, -0.6212531 , -0.91399527, -0.30229098,  0.62052244,\n",
       "        0.32732505, -0.29279053, -0.10013992,  0.56388164, -0.9146339 ,\n",
       "        0.5541355 , -0.23468518,  0.6233483 ,  0.44123173, -0.29539138,\n",
       "        0.5763797 ,  0.2276966 ,  0.50427276, -0.99872476,  0.98996216,\n",
       "        0.99200916,  0.96203774,  0.9070821 ,  0.292225  ,  0.6591202 ,\n",
       "        0.99970615, -0.16314629, -0.7364767 , -0.9896129 ], dtype=float32)"
      ]
     },
     "execution_count": 112,
     "metadata": {},
     "output_type": "execute_result"
    }
   ],
   "source": [
    "data_agg2_sin.flatten()"
   ]
  },
  {
   "cell_type": "code",
   "execution_count": 113,
   "id": "e97b2242",
   "metadata": {},
   "outputs": [],
   "source": [
    "data = pd.DataFrame({'temp': data_agg2_sin.flatten(), 'months': months_all_years, 'years': l})"
   ]
  },
  {
   "cell_type": "code",
   "execution_count": 74,
   "id": "fda1f460",
   "metadata": {},
   "outputs": [],
   "source": [
    "y, X = data_agg2_sin, months"
   ]
  },
  {
   "cell_type": "code",
   "execution_count": 61,
   "id": "440aef20",
   "metadata": {},
   "outputs": [],
   "source": [
    "import statsmodels.api as sm"
   ]
  },
  {
   "cell_type": "code",
   "execution_count": 115,
   "id": "718dffa4",
   "metadata": {},
   "outputs": [
    {
     "data": {
      "text/html": [
       "<div>\n",
       "<style scoped>\n",
       "    .dataframe tbody tr th:only-of-type {\n",
       "        vertical-align: middle;\n",
       "    }\n",
       "\n",
       "    .dataframe tbody tr th {\n",
       "        vertical-align: top;\n",
       "    }\n",
       "\n",
       "    .dataframe thead th {\n",
       "        text-align: right;\n",
       "    }\n",
       "</style>\n",
       "<table border=\"1\" class=\"dataframe\">\n",
       "  <thead>\n",
       "    <tr style=\"text-align: right;\">\n",
       "      <th></th>\n",
       "      <th>months</th>\n",
       "      <th>years</th>\n",
       "    </tr>\n",
       "  </thead>\n",
       "  <tbody>\n",
       "    <tr>\n",
       "      <th>0</th>\n",
       "      <td>1</td>\n",
       "      <td>1</td>\n",
       "    </tr>\n",
       "    <tr>\n",
       "      <th>1</th>\n",
       "      <td>2</td>\n",
       "      <td>1</td>\n",
       "    </tr>\n",
       "    <tr>\n",
       "      <th>2</th>\n",
       "      <td>3</td>\n",
       "      <td>1</td>\n",
       "    </tr>\n",
       "    <tr>\n",
       "      <th>3</th>\n",
       "      <td>4</td>\n",
       "      <td>1</td>\n",
       "    </tr>\n",
       "    <tr>\n",
       "      <th>4</th>\n",
       "      <td>5</td>\n",
       "      <td>1</td>\n",
       "    </tr>\n",
       "    <tr>\n",
       "      <th>...</th>\n",
       "      <td>...</td>\n",
       "      <td>...</td>\n",
       "    </tr>\n",
       "    <tr>\n",
       "      <th>79</th>\n",
       "      <td>8</td>\n",
       "      <td>7</td>\n",
       "    </tr>\n",
       "    <tr>\n",
       "      <th>80</th>\n",
       "      <td>9</td>\n",
       "      <td>7</td>\n",
       "    </tr>\n",
       "    <tr>\n",
       "      <th>81</th>\n",
       "      <td>10</td>\n",
       "      <td>7</td>\n",
       "    </tr>\n",
       "    <tr>\n",
       "      <th>82</th>\n",
       "      <td>11</td>\n",
       "      <td>7</td>\n",
       "    </tr>\n",
       "    <tr>\n",
       "      <th>83</th>\n",
       "      <td>12</td>\n",
       "      <td>7</td>\n",
       "    </tr>\n",
       "  </tbody>\n",
       "</table>\n",
       "<p>84 rows × 2 columns</p>\n",
       "</div>"
      ],
      "text/plain": [
       "    months  years\n",
       "0        1      1\n",
       "1        2      1\n",
       "2        3      1\n",
       "3        4      1\n",
       "4        5      1\n",
       "..     ...    ...\n",
       "79       8      7\n",
       "80       9      7\n",
       "81      10      7\n",
       "82      11      7\n",
       "83      12      7\n",
       "\n",
       "[84 rows x 2 columns]"
      ]
     },
     "execution_count": 115,
     "metadata": {},
     "output_type": "execute_result"
    }
   ],
   "source": [
    "data[['months', 'years']]"
   ]
  },
  {
   "cell_type": "code",
   "execution_count": 116,
   "id": "49d7dadf",
   "metadata": {},
   "outputs": [
    {
     "name": "stdout",
     "output_type": "stream",
     "text": [
      "                                 OLS Regression Results                                \n",
      "=======================================================================================\n",
      "Dep. Variable:                      y   R-squared (uncentered):                   0.051\n",
      "Model:                            OLS   Adj. R-squared (uncentered):              0.028\n",
      "Method:                 Least Squares   F-statistic:                              2.195\n",
      "Date:                Fri, 07 Mar 2025   Prob (F-statistic):                       0.118\n",
      "Time:                        16:57:35   Log-Likelihood:                         -85.269\n",
      "No. Observations:                  84   AIC:                                      174.5\n",
      "Df Residuals:                      82   BIC:                                      179.4\n",
      "Df Model:                           2                                                  \n",
      "Covariance Type:            nonrobust                                                  \n",
      "==============================================================================\n",
      "                 coef    std err          t      P>|t|      [0.025      0.975]\n",
      "------------------------------------------------------------------------------\n",
      "months         0.0279      0.016      1.708      0.091      -0.005       0.060\n",
      "years         -0.0163      0.027     -0.606      0.546      -0.070       0.037\n",
      "==============================================================================\n",
      "Omnibus:                       32.701   Durbin-Watson:                   2.111\n",
      "Prob(Omnibus):                  0.000   Jarque-Bera (JB):                6.662\n",
      "Skew:                          -0.300   Prob(JB):                       0.0358\n",
      "Kurtosis:                       1.758   Cond. No.                         3.38\n",
      "==============================================================================\n",
      "\n",
      "Notes:\n",
      "[1] R² is computed without centering (uncentered) since the model does not contain a constant.\n",
      "[2] Standard Errors assume that the covariance matrix of the errors is correctly specified.\n"
     ]
    }
   ],
   "source": [
    "model = sm.OLS(y, data[['months', 'years']])\n",
    "results = model.fit()\n",
    "print(results.summary())\n"
   ]
  },
  {
   "cell_type": "code",
   "execution_count": 129,
   "id": "fcf9d738",
   "metadata": {},
   "outputs": [
    {
     "data": {
      "text/plain": [
       "months    0.027912\n",
       "years    -0.016284\n",
       "dtype: float64"
      ]
     },
     "execution_count": 129,
     "metadata": {},
     "output_type": "execute_result"
    }
   ],
   "source": [
    "results.params"
   ]
  },
  {
   "cell_type": "code",
   "execution_count": 117,
   "id": "9370c021",
   "metadata": {},
   "outputs": [
    {
     "data": {
      "text/plain": [
       "['months', 'years']"
      ]
     },
     "execution_count": 117,
     "metadata": {},
     "output_type": "execute_result"
    }
   ],
   "source": [
    "model.exog_names"
   ]
  },
  {
   "cell_type": "code",
   "execution_count": 118,
   "id": "50054998",
   "metadata": {},
   "outputs": [
    {
     "name": "stdout",
     "output_type": "stream",
     "text": [
      "Parameters:  months    0.027912\n",
      "years    -0.016284\n",
      "dtype: float64\n",
      "R2:  0.05081064331175489\n"
     ]
    }
   ],
   "source": [
    "print(\"Parameters: \", results.params)\n",
    "print(\"R2: \", results.rsquared)"
   ]
  },
  {
   "cell_type": "code",
   "execution_count": 124,
   "id": "5d8f898d",
   "metadata": {},
   "outputs": [
    {
     "data": {
      "image/png": "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",
      "text/plain": [
       "<Figure size 864x576 with 4 Axes>"
      ]
     },
     "metadata": {
      "needs_background": "light"
     },
     "output_type": "display_data"
    }
   ],
   "source": [
    "fig = plt.figure(figsize=(12,8))\n",
    "fig = sm.graphics.plot_regress_exog(results, 'months', fig=fig)"
   ]
  },
  {
   "cell_type": "code",
   "execution_count": 27,
   "id": "2837f2d6",
   "metadata": {},
   "outputs": [
    {
     "data": {
      "image/png": "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",
      "text/plain": [
       "<Figure size 720x360 with 2 Axes>"
      ]
     },
     "metadata": {
      "needs_background": "light"
     },
     "output_type": "display_data"
    }
   ],
   "source": [
    "import matplotlib.pyplot as plt\n",
    "\n",
    "fig, ax = plt.subplots(ncols=2, figsize=(10, 5), sharex=True, sharey=True)\n",
    "\n",
    "ax[0].scatter(X, y, label=\"Train data points\")\n",
    "ax[0].plot(\n",
    "    X,\n",
    "    regressor.predict(X),\n",
    "    linewidth=3,\n",
    "    color=\"tab:orange\",\n",
    "    label=\"Model predictions\",\n",
    ")\n",
    "ax[0].set(xlabel=\"Feature\", ylabel=\"Target\", title=\"Train set\")\n",
    "ax[0].legend()\n",
    "\n",
    "ax[1].scatter(X, y, label=\"Test data points\")\n",
    "\n",
    "\n",
    "fig.suptitle(\"Linear Regression\")\n",
    "\n",
    "plt.show()"
   ]
  },
  {
   "cell_type": "code",
   "execution_count": 130,
   "id": "46664ed0",
   "metadata": {},
   "outputs": [],
   "source": [
    "import joblib"
   ]
  },
  {
   "cell_type": "code",
   "execution_count": null,
   "id": "2bb87424",
   "metadata": {},
   "outputs": [],
   "source": [
    "/home/eouser/hackathon/data"
   ]
  },
  {
   "cell_type": "code",
   "execution_count": 131,
   "id": "14cd05da",
   "metadata": {},
   "outputs": [
    {
     "data": {
      "text/plain": [
       "['/home/eouser/hackathon/data/regression_model_temp.joblib']"
      ]
     },
     "execution_count": 131,
     "metadata": {},
     "output_type": "execute_result"
    }
   ],
   "source": [
    "joblib.dump(results, '/home/eouser/hackathon/data/regression_model_temp.joblib')"
   ]
  },
  {
   "cell_type": "code",
   "execution_count": null,
   "id": "9d559ed6",
   "metadata": {},
   "outputs": [],
   "source": [
    "\n",
    "display = PredictionErrorDisplay(y_true=y, y_pred=y)\n",
    "\n",
    "display.plot()\n",
    "\n",
    "plt.show()"
   ]
  },
  {
   "cell_type": "code",
   "execution_count": null,
   "id": "366e3212",
   "metadata": {},
   "outputs": [],
   "source": [
    "reg = linear_model.LinearRegression()\n",
    "reg.fit(data.t2m[[0,12, 24, 36, 48, 60], 0, 0])"
   ]
  },
  {
   "cell_type": "code",
   "execution_count": null,
   "id": "6d95b007",
   "metadata": {},
   "outputs": [],
   "source": [
    "LinearRegression()"
   ]
  },
  {
   "cell_type": "code",
   "execution_count": null,
   "id": "b6d92f55",
   "metadata": {},
   "outputs": [],
   "source": [
    "lat = data.latitude\n",
    "lon = data.longitude\n",
    "longitude= data.longitude-180\n",
    "data = data.sortby(longitude)\n",
    "\n",
    "temp_2m = data.t2m[0,:,:]"
   ]
  },
  {
   "cell_type": "code",
   "execution_count": null,
   "id": "4c2d654f",
   "metadata": {},
   "outputs": [],
   "source": [
    "data"
   ]
  },
  {
   "cell_type": "code",
   "execution_count": null,
   "id": "269e7110",
   "metadata": {},
   "outputs": [],
   "source": [
    "from mpl_toolkits.basemap import Basemap"
   ]
  },
  {
   "cell_type": "code",
   "execution_count": null,
   "id": "fa30011c",
   "metadata": {},
   "outputs": [],
   "source": [
    "jan = list(range(0,84, 12))\n",
    "jan"
   ]
  },
  {
   "cell_type": "code",
   "execution_count": null,
   "id": "61e7bfa1",
   "metadata": {},
   "outputs": [],
   "source": []
  },
  {
   "cell_type": "code",
   "execution_count": null,
   "id": "6e84b346",
   "metadata": {},
   "outputs": [],
   "source": [
    "jan = data.isel(valid_time = list(range(0,96, 12)))\n",
    "jan"
   ]
  },
  {
   "cell_type": "code",
   "execution_count": null,
   "id": "d11dba73",
   "metadata": {},
   "outputs": [],
   "source": [
    "mean = jan.t2m.mean()"
   ]
  },
  {
   "cell_type": "code",
   "execution_count": null,
   "id": "f3543dfd",
   "metadata": {},
   "outputs": [],
   "source": [
    "print(mean)"
   ]
  },
  {
   "cell_type": "code",
   "execution_count": null,
   "id": "9e1d31e7",
   "metadata": {},
   "outputs": [],
   "source": [
    "\n",
    "\n",
    "m = Basemap(projection='cyl', llcrnrlon=-20, llcrnrlat=30, urcrnrlon=50, urcrnrlat=80,resolution='i')\n",
    "m.drawcoastlines(1)\n",
    "m.drawcountries()\n",
    "\n",
    "parallels = np.arange(-90,90+0.25,20)\n",
    "\n",
    "m.drawparallels(parallels, labels=[1,0,0,0], linewidth=0.5)\n",
    "meridians = np.arange(12,16+0.25,20)\n",
    "m.drawmeridians(meridians, labels=[0,0,0,1], linewidth=0.5)\n",
    "\n",
    "cf = plt.contourf(longitude, lat, temp_2m, cmap='jet')\n",
    "cb = plt.colorbar(cf, fraction=0.0235, pad=0.02)\n",
    "cb.set_label(' \\u00b0K', fontsize=15, rotation=0)\n",
    "\n",
    "#plt.set_xlim([])\n",
    "\n",
    "plt.show()\n",
    "\n"
   ]
>>>>>>> request_era
  }
 ],
 "metadata": {
  "kernelspec": {
   "display_name": "Python 3",
   "language": "python",
   "name": "python3"
  },
  "language_info": {
   "codemirror_mode": {
    "name": "ipython",
    "version": 3
   },
   "file_extension": ".py",
   "mimetype": "text/x-python",
   "name": "python",
   "nbconvert_exporter": "python",
   "pygments_lexer": "ipython3",
   "version": "3.10.12"
  }
 },
 "nbformat": 4,
 "nbformat_minor": 5
}
