{
 "cells": [
  {
   "cell_type": "code",
   "execution_count": 1,
   "id": "8965db2a-3ccd-4ffe-a768-ac2f1ef0c0bd",
   "metadata": {},
   "outputs": [],
   "source": [
    "import matplotlib as mpl\n",
    "import matplotlib.pyplot as plt\n",
    "import pandas as pd\n",
    "import json\n",
    "import requests\n",
    "\n",
    "from sentinelhub import (\n",
    "    CRS,\n",
    "    BBox,\n",
    "    DataCollection,\n",
    "    MimeType,\n",
    "    MosaickingOrder,\n",
    "    SentinelHubRequest,\n",
    "    SentinelHubStatistical,\n",
    "    SHConfig,\n",
    ")"
   ]
  },
  {
   "cell_type": "code",
   "execution_count": 2,
   "id": "d5cd7433-dbc7-4266-9fb8-001159bbe2b2",
   "metadata": {},
   "outputs": [],
   "source": [
    "config = SHConfig(\"cdse\")"
   ]
  },
  {
   "cell_type": "code",
   "execution_count": 3,
   "id": "b12ce6c4-7bd1-4b7f-806b-187bf97f56bd",
   "metadata": {},
   "outputs": [],
   "source": [
    "config.sh_token_url = \"https://identity.dataspace.copernicus.eu/auth/realms/CDSE/protocol/openid-connect/token\"\n",
    "config.sh_base_url = \"https://sh.dataspace.copernicus.eu\""
   ]
  },
  {
   "cell_type": "code",
   "execution_count": 4,
   "id": "903ca1a2-6a08-463d-95c7-02195dbd912d",
   "metadata": {},
   "outputs": [
    {
     "name": "stdout",
     "output_type": "stream",
     "text": [
      "DataCollection.SENTINEL2_L1C\n",
      "DataCollection.SENTINEL2_L2A\n",
      "DataCollection.SENTINEL1\n",
      "DataCollection.SENTINEL1_IW\n",
      "DataCollection.SENTINEL1_IW_ASC\n",
      "DataCollection.SENTINEL1_IW_DES\n",
      "DataCollection.SENTINEL1_EW\n",
      "DataCollection.SENTINEL1_EW_ASC\n",
      "DataCollection.SENTINEL1_EW_DES\n",
      "DataCollection.SENTINEL1_EW_SH\n",
      "DataCollection.SENTINEL1_EW_SH_ASC\n",
      "DataCollection.SENTINEL1_EW_SH_DES\n",
      "DataCollection.DEM\n",
      "DataCollection.DEM_MAPZEN\n",
      "DataCollection.DEM_COPERNICUS_30\n",
      "DataCollection.DEM_COPERNICUS_90\n",
      "DataCollection.MODIS\n",
      "DataCollection.LANDSAT_MSS_L1\n",
      "DataCollection.LANDSAT_TM_L1\n",
      "DataCollection.LANDSAT_TM_L2\n",
      "DataCollection.LANDSAT_ETM_L1\n",
      "DataCollection.LANDSAT_ETM_L2\n",
      "DataCollection.LANDSAT_OT_L1\n",
      "DataCollection.LANDSAT_OT_L2\n",
      "DataCollection.SENTINEL5P\n",
      "DataCollection.SENTINEL3_OLCI\n",
      "DataCollection.SENTINEL3_SLSTR\n",
      "DataCollection.HARMONIZED_LANDSAT_SENTINEL\n"
     ]
    }
   ],
   "source": [
    "for collection in DataCollection:\n",
    "    print(collection)"
   ]
  },
  {
   "cell_type": "code",
   "execution_count": 5,
   "id": "a37ec79c-6dd0-4d32-9b0f-cb380501d86c",
   "metadata": {},
   "outputs": [
    {
     "name": "stdout",
     "output_type": "stream",
     "text": [
      "b'[]'\n"
     ]
    }
   ],
   "source": [
    "from oauthlib.oauth2 import BackendApplicationClient\n",
    "from requests_oauthlib import OAuth2Session\n",
    "\n",
    "# Create a session\n",
    "client = BackendApplicationClient(client_id=config.sh_client_id)\n",
    "oauth = OAuth2Session(client=client)\n",
    "\n",
    "# Get token for the session\n",
    "token = oauth.fetch_token(token_url='https://identity.dataspace.copernicus.eu/auth/realms/CDSE/protocol/openid-connect/token',\n",
    "                          client_secret=config.sh_client_secret, \n",
    "                          include_client_id=True)\n",
    "\n",
    "# All requests using this session will have an access token automatically added\n",
    "resp = oauth.get(\"https://sh.dataspace.copernicus.eu/configuration/v1/wms/instances\")\n",
    "print(resp.content)"
   ]
  },
  {
   "cell_type": "markdown",
   "id": "b220ae7d-f9db-4065-a2e0-ece3477a4313",
   "metadata": {},
   "source": [
    "# Get collections"
   ]
  },
  {
   "cell_type": "code",
   "execution_count": 6,
   "id": "58f0112c-6b01-41e7-a2fa-cec90f35c884",
   "metadata": {},
   "outputs": [],
   "source": [
    "# Get collections\n",
    "url = \"https://sh.dataspace.copernicus.eu/api/v1/catalog/1.0.0/collections\"\n",
    "response = oauth.get(url)"
   ]
  },
  {
   "cell_type": "code",
   "execution_count": 7,
   "id": "b1d05af7-726c-4c1d-8757-01fe215ae219",
   "metadata": {},
   "outputs": [],
   "source": [
    "if response.status_code == 200:\n",
    "    catalog=response.json()"
   ]
  },
  {
   "cell_type": "code",
   "execution_count": 8,
   "id": "504163fb-1b67-42d4-b463-97cfcc7d0d32",
   "metadata": {},
   "outputs": [
    {
     "name": "stdout",
     "output_type": "stream",
     "text": [
      "sentinel-2-l1c      : Sentinel 2 imagery processed to level 1C\n",
      "sentinel-3-olci-l2  : Sentinel 3 data derived from imagery captured by OLCI sensor\n",
      "sentinel-3-olci     : Sentinel 3 imagery captured by OLCI sensor\n",
      "sentinel-3-slstr    : Sentinel 3 imagery captured by SLSTR sensor\n",
      "sentinel-1-grd      : Sentinel 1 Ground Range Detected Imagery\n",
      "sentinel-2-l2a      : Sentinel 2 imagery processed to level 2A\n",
      "sentinel-5p-l2      : Sentinel 5 Precursor imagery captured by TROPOMI sensor\n"
     ]
    }
   ],
   "source": [
    "for collection in catalog['collections']:\n",
    "    print(f\"{collection['id']:<20}: {collection['description']}\")"
   ]
  },
  {
   "cell_type": "raw",
   "id": "346be047-ab0a-4785-9abc-96a91c3f9226",
   "metadata": {},
   "source": [
    "import json\n",
    "\n",
    "print(json.dumps(catalog, indent=4))"
   ]
  },
  {
   "cell_type": "markdown",
   "id": "4c7c7aa0-df60-4378-8265-3d5b86a84faf",
   "metadata": {},
   "source": [
    "# Inspect a collection"
   ]
  },
  {
   "cell_type": "code",
   "execution_count": 9,
   "id": "497c0cb4-aea0-45f3-bfc7-beac9658b3a0",
   "metadata": {},
   "outputs": [],
   "source": [
    "collection='sentinel-2-l2a'\n",
    "url = f\"https://sh.dataspace.copernicus.eu/api/v1/catalog/1.0.0/collections/{collection}/\"\n",
    "response = oauth.get(url)"
   ]
  },
  {
   "cell_type": "code",
   "execution_count": 10,
   "id": "85fc18f6-3a97-4b74-9ac1-cf6735212267",
   "metadata": {},
   "outputs": [],
   "source": [
    "if response.status_code == 200:\n",
    "    catalog=response.json()"
   ]
  },
  {
   "cell_type": "code",
   "execution_count": 11,
   "id": "9a7646e0-b609-43b0-941c-ebb99f8d040a",
   "metadata": {},
   "outputs": [
    {
     "name": "stdout",
     "output_type": "stream",
     "text": [
      "{'name': 'B01', 'common_name': 'coastal', 'center_wavelength': 0.4427, 'full_width_half_max': 0.021}\n",
      "{'name': 'B02', 'common_name': 'blue', 'center_wavelength': 0.4924, 'full_width_half_max': 0.066}\n",
      "{'name': 'B03', 'common_name': 'green', 'center_wavelength': 0.5598, 'full_width_half_max': 0.036}\n",
      "{'name': 'B04', 'common_name': 'red', 'center_wavelength': 0.6646, 'full_width_half_max': 0.031}\n",
      "{'name': 'B05', 'center_wavelength': 0.7041, 'full_width_half_max': 0.015}\n",
      "{'name': 'B06', 'center_wavelength': 0.7405, 'full_width_half_max': 0.015}\n",
      "{'name': 'B07', 'center_wavelength': 0.7828, 'full_width_half_max': 0.02}\n",
      "{'name': 'B08', 'common_name': 'nir', 'center_wavelength': 0.8328, 'full_width_half_max': 0.106}\n",
      "{'name': 'B8A', 'common_name': 'nir08', 'center_wavelength': 0.8647, 'full_width_half_max': 0.021}\n",
      "{'name': 'B09', 'common_name': 'nir09', 'center_wavelength': 0.9451, 'full_width_half_max': 0.02}\n",
      "{'name': 'B11', 'common_name': 'swir16', 'center_wavelength': 1.6137, 'full_width_half_max': 0.091}\n",
      "{'name': 'B12', 'common_name': 'swir22', 'center_wavelength': 2.2024, 'full_width_half_max': 0.175}\n"
     ]
    }
   ],
   "source": [
    "for band in catalog[\"summaries\"][\"eo:bands\"]:\n",
    "    print(band)"
   ]
  },
  {
   "cell_type": "code",
   "execution_count": null,
   "id": "0be150af-cf29-4400-8b57-10a080b86773",
   "metadata": {},
   "outputs": [],
   "source": [
    "print(json.dumps(catalog, indent=4))"
   ]
  },
  {
   "cell_type": "markdown",
   "id": "63761e20-4a39-44f7-aa04-28eaaa10f59a",
   "metadata": {},
   "source": [
    "# Search within a collection"
   ]
  },
  {
   "cell_type": "raw",
   "id": "2e6b5f4e-fab0-4940-960f-b0f6056e02dd",
   "metadata": {},
   "source": [
    "# Search format for sentinelhub package\n",
    "bbox = BBox((3924000,3081000,3937000,3094000), crs=CRS(3035)).transform(3035)\n",
    "time_interval =(\"2024-12-08\",\"2024-12-08\")\n",
    "resolution = ((3937000-3924000)/100, (3094000-3081000)/100)\n",
    "\n",
    "# Search format for catalog api\n",
    "# Example\n",
    "data = {\n",
    "    \"bbox\": [13, 45, 14, 46],\n",
    "    \"datetime\": \"2019-12-10T00:00:00Z/2019-12-10T23:59:59Z\",\n",
    "    \"collections\": [\"sentinel-1-grd\"],\n",
    "    \"limit\": 5,\n",
    "}"
   ]
  },
  {
   "cell_type": "code",
   "execution_count": 13,
   "id": "978f14fc-c2af-47d4-8543-6a61d5f8606f",
   "metadata": {},
   "outputs": [],
   "source": [
    "bbox = BBox((3924000,3081000,3937000,3094000), crs=CRS(3035)).transform(CRS.WGS84)\n",
    "bbox=[bbox.min_x,bbox.min_y,bbox.max_x,bbox.max_y]\n",
    "\n",
    "date_start=\"2024-01-01\"\n",
    "date_end=\"2024-12-31\"\n",
    "\n",
    "collection='sentinel-2-l2a'\n",
    "\n",
    "data = {\n",
    "    \"bbox\": bbox,\n",
    "    \"datetime\": f\"{date_start}T00:00:00Z/{date_end}T23:59:59Z\",\n",
    "    \"collections\": [collection],\n",
    "    \"limit\": 5,\n",
    "}\n",
    "\n",
    "url = \"https://sh.dataspace.copernicus.eu/api/v1/catalog/1.0.0/search\"\n",
    "response = oauth.post(url, json=data)"
   ]
  },
  {
   "cell_type": "code",
   "execution_count": 14,
   "id": "2274b794-a442-47dc-a702-a05022cbf06a",
   "metadata": {},
   "outputs": [
    {
     "name": "stdout",
     "output_type": "stream",
     "text": [
      "200\n"
     ]
    }
   ],
   "source": [
    "print(response.status_code)"
   ]
  },
  {
   "cell_type": "code",
   "execution_count": null,
   "id": "2f7bfdf0-dcc0-4864-bd55-ec46af3ddda3",
   "metadata": {},
   "outputs": [],
   "source": [
    "print(json.dumps(response.json(), indent=4))"
   ]
  },
  {
   "cell_type": "markdown",
   "id": "e88405a3-3e92-430e-8856-89efc4e4d76a",
   "metadata": {},
   "source": [
    "# Search a BYOC"
   ]
  },
  {
   "cell_type": "raw",
   "id": "f3670812-e500-4034-9df4-6cad69e841f1",
   "metadata": {},
   "source": [
    "data = {\n",
    "    \"bbox\": [13, 45, 14, 46],\n",
    "    \"datetime\": \"2019-12-10T00:00:00Z/2019-12-10T23:59:59Z\",\n",
    "    \"collections\": [\"byoc-<byoc-collection-id>\"],\n",
    "    \"limit\": 5,\n",
    "}\n",
    "\n",
    "url = \"https://sh.dataspace.copernicus.eu/api/v1/catalog/1.0.0/search\"\n",
    "response = oauth.post(url, json=data)"
   ]
  },
  {
   "cell_type": "code",
   "execution_count": 16,
   "id": "f3d9b8e7-5b88-4189-b21d-955e4ec995f0",
   "metadata": {},
   "outputs": [],
   "source": [
    "# \"36caf873-32ca-44be-ba3e-e6c1b759211c\" communiqué lors des présentations d'Eurostat\n",
    "byoc_id=\"36caf873-32ca-44be-ba3e-e6c1b759211c\"\n",
    "date_start=\"2000-01-01\"\n",
    "date_end=\"2024-12-31\"\n",
    "data = {\n",
    "    \"bbox\": bbox,\n",
    "    \"datetime\": f\"{date_start}T00:00:00Z/{date_end}T23:59:59Z\",\n",
    "    \"collections\": [f\"byoc-{byoc_id}\"],\n",
    "    \"limit\": 5,\n",
    "}\n",
    "\n",
    "url = \"https://sh.dataspace.copernicus.eu/api/v1/catalog/1.0.0/search\"\n",
    "response = oauth.post(url, json=data)"
   ]
  },
  {
   "cell_type": "code",
   "execution_count": 17,
   "id": "e7ca7945-1de8-4048-8125-74b26e21820b",
   "metadata": {},
   "outputs": [],
   "source": [
    "if response.status_code == 200:\n",
    "    catalog=response.json()\n",
    "else:\n",
    "    print(f'ERROR: {response.status_code}')"
   ]
  },
  {
   "cell_type": "code",
   "execution_count": 18,
   "id": "2d2c87e0-88fa-4b3b-9e67-a5632f609d5e",
   "metadata": {},
   "outputs": [
    {
     "name": "stdout",
     "output_type": "stream",
     "text": [
      "{\n",
      "    \"type\": \"FeatureCollection\",\n",
      "    \"features\": [\n",
      "        {\n",
      "            \"stac_version\": \"1.0.0\",\n",
      "            \"stac_extensions\": [\n",
      "                \"https://stac-extensions.github.io/projection/v1.0.0/schema.json\"\n",
      "            ],\n",
      "            \"id\": \"6a7f627b-90d8-47f9-8af4-a0263a6d1f2e\",\n",
      "            \"type\": \"Feature\",\n",
      "            \"geometry\": {\n",
      "                \"type\": \"Polygon\",\n",
      "                \"crs\": {\n",
      "                    \"type\": \"name\",\n",
      "                    \"properties\": {\n",
      "                        \"name\": \"urn:ogc:def:crs:OGC::CRS84\"\n",
      "                    }\n",
      "                },\n",
      "                \"coordinates\": [\n",
      "                    [\n",
      "                        [\n",
      "                            -23.559654320106844,\n",
      "                            24.793476852584043\n",
      "                        ],\n",
      "                        [\n",
      "                            32.20174584528219,\n",
      "                            28.624308253511483\n",
      "                        ],\n",
      "                        [\n",
      "                            59.905765217086696,\n",
      "                            64.35121892346828\n",
      "                        ],\n",
      "                        [\n",
      "                            -54.93364845606196,\n",
      "                            56.40754600492808\n",
      "                        ],\n",
      "                        [\n",
      "                            -23.559654320106844,\n",
      "                            24.793476852584043\n",
      "                        ]\n",
      "                    ]\n",
      "                ]\n",
      "            },\n",
      "            \"bbox\": [\n",
      "                -54.93364845606196,\n",
      "                24.793476852584043,\n",
      "                59.905765217086696,\n",
      "                64.35121892346828\n",
      "            ],\n",
      "            \"properties\": {\n",
      "                \"datetime\": \"2021-01-01T00:00:00Z\",\n",
      "                \"proj:epsg\": 3035,\n",
      "                \"proj:bbox\": [\n",
      "                    943000.0,\n",
      "                    941000.0,\n",
      "                    6505000.0,\n",
      "                    5416000.0\n",
      "                ],\n",
      "                \"proj:geometry\": {\n",
      "                    \"type\": \"Polygon\",\n",
      "                    \"crs\": {\n",
      "                        \"type\": \"name\",\n",
      "                        \"properties\": {\n",
      "                            \"name\": \"urn:ogc:def:crs:EPSG::3035\"\n",
      "                        }\n",
      "                    },\n",
      "                    \"coordinates\": [\n",
      "                        [\n",
      "                            [\n",
      "                                942999.9995178152,\n",
      "                                940999.9985879068\n",
      "                            ],\n",
      "                            [\n",
      "                                6505000.000309314,\n",
      "                                940999.9986797548\n",
      "                            ],\n",
      "                            [\n",
      "                                6505000.000095792,\n",
      "                                5415999.999898942\n",
      "                            ],\n",
      "                            [\n",
      "                                942999.9998258408,\n",
      "                                5415999.999866869\n",
      "                            ],\n",
      "                            [\n",
      "                                942999.9995178152,\n",
      "                                940999.9985879068\n",
      "                            ]\n",
      "                        ]\n",
      "                    ]\n",
      "                }\n",
      "            },\n",
      "            \"assets\": {},\n",
      "            \"collection\": \"byoc-36caf873-32ca-44be-ba3e-e6c1b759211c\",\n",
      "            \"links\": [\n",
      "                {\n",
      "                    \"href\": \"https://sh.dataspace.copernicus.eu/api/v1/catalog/1.0.0/\",\n",
      "                    \"rel\": \"root\",\n",
      "                    \"type\": \"application/json\"\n",
      "                },\n",
      "                {\n",
      "                    \"href\": \"https://sh.dataspace.copernicus.eu/api/v1/catalog/1.0.0/collections/byoc-36caf873-32ca-44be-ba3e-e6c1b759211c/items/6a7f627b-90d8-47f9-8af4-a0263a6d1f2e\",\n",
      "                    \"rel\": \"self\",\n",
      "                    \"type\": \"application/geo+json\"\n",
      "                },\n",
      "                {\n",
      "                    \"href\": \"https://sh.dataspace.copernicus.eu/api/v1/catalog/1.0.0/collections/byoc-36caf873-32ca-44be-ba3e-e6c1b759211c\",\n",
      "                    \"rel\": \"parent\",\n",
      "                    \"type\": \"application/json\"\n",
      "                },\n",
      "                {\n",
      "                    \"href\": \"https://sh.dataspace.copernicus.eu/api/v1/catalog/1.0.0/collections/byoc-36caf873-32ca-44be-ba3e-e6c1b759211c\",\n",
      "                    \"rel\": \"collection\",\n",
      "                    \"type\": \"application/json\"\n",
      "                }\n",
      "            ]\n",
      "        }\n",
      "    ],\n",
      "    \"links\": [\n",
      "        {\n",
      "            \"href\": \"https://sh.dataspace.copernicus.eu/api/v1/catalog/1.0.0/search\",\n",
      "            \"rel\": \"self\",\n",
      "            \"type\": \"application/geo+json\"\n",
      "        }\n",
      "    ],\n",
      "    \"context\": {\n",
      "        \"limit\": 5,\n",
      "        \"returned\": 1\n",
      "    }\n",
      "}\n"
     ]
    }
   ],
   "source": [
    "import json\n",
    "\n",
    "print(json.dumps(catalog, indent=4))"
   ]
  },
  {
   "cell_type": "code",
   "execution_count": null,
   "id": "409cfd62-4951-478f-a4c2-b408e70b527c",
   "metadata": {},
   "outputs": [],
   "source": []
  }
 ],
 "metadata": {
  "kernelspec": {
   "display_name": "Sentinel Hub",
   "language": "python",
   "name": "sentinelhub"
  },
  "language_info": {
   "codemirror_mode": {
    "name": "ipython",
    "version": 3
   },
   "file_extension": ".py",
   "mimetype": "text/x-python",
   "name": "python",
   "nbconvert_exporter": "python",
   "pygments_lexer": "ipython3",
   "version": "3.10.14"
  }
 },
 "nbformat": 4,
 "nbformat_minor": 5
}
