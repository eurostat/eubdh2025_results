{
 "cells": [
  {
   "cell_type": "code",
   "execution_count": 2,
   "id": "823a3c9a-b756-4b57-bdc9-786a0c553492",
   "metadata": {},
   "outputs": [],
   "source": [
    "import pandas as pd\n",
    "import os"
   ]
  },
  {
   "cell_type": "markdown",
   "id": "cc994820-b338-4a4e-adb4-fc52083306ae",
   "metadata": {},
   "source": [
    "# Find bboxes of all parquet files\n",
    "\n",
    "Open all parquet files and find bboxes.\n",
    "Structure of output dataset: file-(min_x,min_y)-(max_x,max_y)"
   ]
  },
  {
   "cell_type": "code",
   "execution_count": 41,
   "id": "830fe5ec-5a4b-4901-9f1d-5cf4eb489365",
   "metadata": {},
   "outputs": [],
   "source": [
    "with open('data/summary.psv', 'w') as file:\n",
    "    file.write('file|min_x|min_y|max_x|max_y\\n')\n",
    "\n",
    "    for file in os.listdir('parquet'):\n",
    "        df=pd.read_parquet(f'parquet/{file}')\n",
    "        for row in duckdb.sql('''\n",
    "            select min(X_rounded) as min_x, \n",
    "                   min(Y_rounded) as min_y, \n",
    "                   max(X_rounded) as max_x, \n",
    "                   max(Y_rounded) as max_y\n",
    "            from df\n",
    "            ''').to_df().itertuples():\n",
    "            file.write(f'{name}|{row.min_x}|{row.min_y}|{row.max_x}|{row.max_y}\\n')"
   ]
  },
  {
   "cell_type": "code",
   "execution_count": 3,
   "id": "69a106f9-cf5b-4667-af90-519a4603c008",
   "metadata": {},
   "outputs": [],
   "source": [
    "summary=pd.read_csv('data_2024/summary.psv',sep='|')"
   ]
  },
  {
   "cell_type": "code",
   "execution_count": 4,
   "id": "39e1e186-e333-4583-84cc-8ddfd8eab7cd",
   "metadata": {},
   "outputs": [
    {
     "data": {
      "text/html": [
       "<div>\n",
       "<style scoped>\n",
       "    .dataframe tbody tr th:only-of-type {\n",
       "        vertical-align: middle;\n",
       "    }\n",
       "\n",
       "    .dataframe tbody tr th {\n",
       "        vertical-align: top;\n",
       "    }\n",
       "\n",
       "    .dataframe thead th {\n",
       "        text-align: right;\n",
       "    }\n",
       "</style>\n",
       "<table border=\"1\" class=\"dataframe\">\n",
       "  <thead>\n",
       "    <tr style=\"text-align: right;\">\n",
       "      <th></th>\n",
       "      <th>file</th>\n",
       "      <th>min_x</th>\n",
       "      <th>min_y</th>\n",
       "      <th>max_x</th>\n",
       "      <th>max_y</th>\n",
       "    </tr>\n",
       "  </thead>\n",
       "  <tbody>\n",
       "    <tr>\n",
       "      <th>0</th>\n",
       "      <td>039a5cbf4331d6c52e731f5af3a7d2fc</td>\n",
       "      <td>3940000.0</td>\n",
       "      <td>3190000.0</td>\n",
       "      <td>3949900.0</td>\n",
       "      <td>3199900.0</td>\n",
       "    </tr>\n",
       "    <tr>\n",
       "      <th>1</th>\n",
       "      <td>0977c1842c1b3ab90233746f2f57b884</td>\n",
       "      <td>4030000.0</td>\n",
       "      <td>3140000.0</td>\n",
       "      <td>4039900.0</td>\n",
       "      <td>3149900.0</td>\n",
       "    </tr>\n",
       "    <tr>\n",
       "      <th>2</th>\n",
       "      <td>0a324c15f78eaca86f79dfc8111d84d2</td>\n",
       "      <td>3940000.0</td>\n",
       "      <td>3100000.0</td>\n",
       "      <td>3949900.0</td>\n",
       "      <td>3109900.0</td>\n",
       "    </tr>\n",
       "    <tr>\n",
       "      <th>3</th>\n",
       "      <td>0a54fbd049e2d600cbaba418a0f981eb</td>\n",
       "      <td>3940000.0</td>\n",
       "      <td>3110000.0</td>\n",
       "      <td>3949900.0</td>\n",
       "      <td>3119900.0</td>\n",
       "    </tr>\n",
       "    <tr>\n",
       "      <th>4</th>\n",
       "      <td>0e24bef27d476993641529238abafb5d</td>\n",
       "      <td>3930000.0</td>\n",
       "      <td>3150000.0</td>\n",
       "      <td>3939900.0</td>\n",
       "      <td>3159900.0</td>\n",
       "    </tr>\n",
       "    <tr>\n",
       "      <th>...</th>\n",
       "      <td>...</td>\n",
       "      <td>...</td>\n",
       "      <td>...</td>\n",
       "      <td>...</td>\n",
       "      <td>...</td>\n",
       "    </tr>\n",
       "    <tr>\n",
       "      <th>160</th>\n",
       "      <td>f6a606315675679d1add3b9fa46ee611</td>\n",
       "      <td>3970000.0</td>\n",
       "      <td>3180000.0</td>\n",
       "      <td>3979900.0</td>\n",
       "      <td>3189900.0</td>\n",
       "    </tr>\n",
       "    <tr>\n",
       "      <th>161</th>\n",
       "      <td>fb3128b31ff404dd7dff23ca317214bf</td>\n",
       "      <td>3980000.0</td>\n",
       "      <td>3200000.0</td>\n",
       "      <td>3989900.0</td>\n",
       "      <td>3209900.0</td>\n",
       "    </tr>\n",
       "    <tr>\n",
       "      <th>162</th>\n",
       "      <td>fbc285ccb28e713cf5d83ca4784a22b4</td>\n",
       "      <td>3950000.0</td>\n",
       "      <td>3200000.0</td>\n",
       "      <td>3959900.0</td>\n",
       "      <td>3209900.0</td>\n",
       "    </tr>\n",
       "    <tr>\n",
       "      <th>163</th>\n",
       "      <td>fd6df55637061602f29da611f94ee9ee</td>\n",
       "      <td>4000000.0</td>\n",
       "      <td>3190000.0</td>\n",
       "      <td>4009900.0</td>\n",
       "      <td>3199900.0</td>\n",
       "    </tr>\n",
       "    <tr>\n",
       "      <th>164</th>\n",
       "      <td>ff255286c4d31abd4a3522054306a3c7</td>\n",
       "      <td>3920000.0</td>\n",
       "      <td>3110000.0</td>\n",
       "      <td>3929900.0</td>\n",
       "      <td>3119900.0</td>\n",
       "    </tr>\n",
       "  </tbody>\n",
       "</table>\n",
       "<p>165 rows × 5 columns</p>\n",
       "</div>"
      ],
      "text/plain": [
       "                                 file      min_x      min_y      max_x  \\\n",
       "0    039a5cbf4331d6c52e731f5af3a7d2fc  3940000.0  3190000.0  3949900.0   \n",
       "1    0977c1842c1b3ab90233746f2f57b884  4030000.0  3140000.0  4039900.0   \n",
       "2    0a324c15f78eaca86f79dfc8111d84d2  3940000.0  3100000.0  3949900.0   \n",
       "3    0a54fbd049e2d600cbaba418a0f981eb  3940000.0  3110000.0  3949900.0   \n",
       "4    0e24bef27d476993641529238abafb5d  3930000.0  3150000.0  3939900.0   \n",
       "..                                ...        ...        ...        ...   \n",
       "160  f6a606315675679d1add3b9fa46ee611  3970000.0  3180000.0  3979900.0   \n",
       "161  fb3128b31ff404dd7dff23ca317214bf  3980000.0  3200000.0  3989900.0   \n",
       "162  fbc285ccb28e713cf5d83ca4784a22b4  3950000.0  3200000.0  3959900.0   \n",
       "163  fd6df55637061602f29da611f94ee9ee  4000000.0  3190000.0  4009900.0   \n",
       "164  ff255286c4d31abd4a3522054306a3c7  3920000.0  3110000.0  3929900.0   \n",
       "\n",
       "         max_y  \n",
       "0    3199900.0  \n",
       "1    3149900.0  \n",
       "2    3109900.0  \n",
       "3    3119900.0  \n",
       "4    3159900.0  \n",
       "..         ...  \n",
       "160  3189900.0  \n",
       "161  3209900.0  \n",
       "162  3209900.0  \n",
       "163  3199900.0  \n",
       "164  3119900.0  \n",
       "\n",
       "[165 rows x 5 columns]"
      ]
     },
     "execution_count": 4,
     "metadata": {},
     "output_type": "execute_result"
    }
   ],
   "source": [
    "summary"
   ]
  },
  {
   "cell_type": "markdown",
   "id": "bcefa10e-431d-461f-8c07-1f1f9eb8a3db",
   "metadata": {},
   "source": [
    "# Fucntion to identify file that cover given coordinates"
   ]
  },
  {
   "cell_type": "code",
   "execution_count": 6,
   "id": "1abd3af1-85fe-42d8-8bc6-51b0a24078aa",
   "metadata": {},
   "outputs": [
    {
     "name": "stdout",
     "output_type": "stream",
     "text": [
      "                               file\n",
      "0  0e24bef27d476993641529238abafb5d\n"
     ]
    }
   ],
   "source": [
    "import duckdb\n",
    "def getFile(x,y):\n",
    "    return duckdb.sql(f'''\n",
    "    select file\n",
    "    from summary\n",
    "    where min_x<={x} and {x}<=max_x\n",
    "     and  min_y<={y} and {y}<=max_y \n",
    "     ''').to_df()\n",
    "    \n",
    "print(getFile(3930000,3154400))"
   ]
  }
 ],
 "metadata": {
  "kernelspec": {
   "display_name": "Sentinel Hub",
   "language": "python",
   "name": "sentinelhub"
  },
  "language_info": {
   "codemirror_mode": {
    "name": "ipython",
    "version": 3
   },
   "file_extension": ".py",
   "mimetype": "text/x-python",
   "name": "python",
   "nbconvert_exporter": "python",
   "pygments_lexer": "ipython3",
   "version": "3.10.14"
  }
 },
 "nbformat": 4,
 "nbformat_minor": 5
}
