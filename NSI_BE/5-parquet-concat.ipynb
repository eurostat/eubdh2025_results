{
 "cells": [
  {
   "cell_type": "code",
   "execution_count": 1,
   "id": "823a3c9a-b756-4b57-bdc9-786a0c553492",
   "metadata": {},
   "outputs": [],
   "source": [
    "import pandas as pd\n",
    "import os"
   ]
  },
  {
   "cell_type": "markdown",
   "id": "8de2b163-f51c-4531-9c3b-48eda64d15df",
   "metadata": {},
   "source": [
    "# Concatenate all parquet files\n",
    "\n",
    "Purpose: distribute a single large file to colleagues, instead of multiple smaller files."
   ]
  },
  {
   "cell_type": "code",
   "execution_count": 2,
   "id": "1da3ffc1-6311-4795-a635-048a2fd84938",
   "metadata": {},
   "outputs": [],
   "source": [
    "# Concaténer le long des lignes (axe=0)\n",
    "concat = pd.concat([pd.read_parquet(f'parquet/{file}') for file in os.listdir('parquet')], axis=0)"
   ]
  },
  {
   "cell_type": "code",
   "execution_count": 3,
   "id": "c7e7c3f2-4f4e-4412-87de-9191669feb61",
   "metadata": {},
   "outputs": [],
   "source": [
    "concat.to_parquet('data/sentinel_2018.parquet')"
   ]
  }
 ],
 "metadata": {
  "kernelspec": {
   "display_name": "Sentinel Hub",
   "language": "python",
   "name": "sentinelhub"
  },
  "language_info": {
   "codemirror_mode": {
    "name": "ipython",
    "version": 3
   },
   "file_extension": ".py",
   "mimetype": "text/x-python",
   "name": "python",
   "nbconvert_exporter": "python",
   "pygments_lexer": "ipython3",
   "version": "3.10.14"
  }
 },
 "nbformat": 4,
 "nbformat_minor": 5
}
