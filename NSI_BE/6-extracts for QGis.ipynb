{
 "cells": [
  {
   "cell_type": "code",
   "execution_count": 10,
   "id": "b5a2e546-7db3-492f-bf80-e359bcb3eef2",
   "metadata": {},
   "outputs": [],
   "source": [
    "import pandas as pd\n",
    "import duckdb\n",
    "import os\n",
    "import shutil"
   ]
  },
  {
   "cell_type": "raw",
   "id": "f201f158-f43f-4b9c-9d49-65102eab9760",
   "metadata": {},
   "source": [
    "codes=pd.read_csv('corine/TD_LAND_COVER.csv',sep='|')\n",
    "codes.to_parquet('corine/TD_LAND_COVER.parquet',index=False)"
   ]
  },
  {
   "cell_type": "code",
   "execution_count": null,
   "id": "5bdcea58-e98f-4841-92be-75540408d7a7",
   "metadata": {},
   "outputs": [],
   "source": [
    "file='013356689bd3389f3f29430412edb6a9_2018'"
   ]
  },
  {
   "cell_type": "code",
   "execution_count": 12,
   "id": "a1d062f3-3443-49be-9a45-0ba61a4ba2c1",
   "metadata": {},
   "outputs": [],
   "source": [
    "identifier,year=file.split('_')"
   ]
  },
  {
   "cell_type": "code",
   "execution_count": 30,
   "id": "21f80fcb-b7e1-46bd-818a-bc40b35a81cc",
   "metadata": {},
   "outputs": [
    {
     "name": "stdout",
     "output_type": "stream",
     "text": [
      "CPU times: user 1.04 s, sys: 52.2 ms, total: 1.09 s\n",
      "Wall time: 3.96 s\n"
     ]
    }
   ],
   "source": [
    "%%time\n",
    "\n",
    "extract=duckdb.sql(f'''\n",
    "select *,\n",
    "       'POLYGON ((' || X        || ' ' || Y         || ', ' ||\n",
    "                      (X + 100) || ' ' || Y         || ', ' ||\n",
    "                      (X + 100) || ' ' || (Y + 100) || ', ' ||\n",
    "                       X        || ' ' || (Y + 100) || ', ' ||\n",
    "                       X        || ' ' || Y         || '))' AS wkt_polygon\n",
    "from (\n",
    "      select sentinel.X_rounded as X,\n",
    "             sentinel.Y_rounded as Y,\n",
    "             sentinel.*,\n",
    "             codes.*\n",
    "      from 'parquet_{year}_quantiles/{file}.parquet' as sentinel,\n",
    "           'corine/clc_benelux_grid_BL.parquet'      as corine,\n",
    "           'corine/TD_LAND_COVER.parquet'            as codes\n",
    "      where corine.X=sentinel.X_rounded\n",
    "      and   corine.Y=sentinel.Y_rounded\n",
    "      and   corine.VALUE=codes.CD_COVER          \n",
    "      )\n",
    "''').to_df()\n",
    "extract.to_csv(f'visualisations/{file}_statistics_with_clc.csv',sep='|',index=False)"
   ]
  },
  {
   "cell_type": "code",
   "execution_count": 29,
   "id": "40eaa5dc-8277-48ab-a38a-f4baf24f8075",
   "metadata": {},
   "outputs": [
    {
     "data": {
      "text/plain": [
       "(10000, 61)"
      ]
     },
     "execution_count": 29,
     "metadata": {},
     "output_type": "execute_result"
    }
   ],
   "source": [
    "extract.shape"
   ]
  },
  {
   "cell_type": "code",
   "execution_count": 21,
   "id": "cc87776c-4269-4840-b182-94bbac3fe4a1",
   "metadata": {},
   "outputs": [
    {
     "data": {
      "text/html": [
       "<div>\n",
       "<style scoped>\n",
       "    .dataframe tbody tr th:only-of-type {\n",
       "        vertical-align: middle;\n",
       "    }\n",
       "\n",
       "    .dataframe tbody tr th {\n",
       "        vertical-align: top;\n",
       "    }\n",
       "\n",
       "    .dataframe thead th {\n",
       "        text-align: right;\n",
       "    }\n",
       "</style>\n",
       "<table border=\"1\" class=\"dataframe\">\n",
       "  <thead>\n",
       "    <tr style=\"text-align: right;\">\n",
       "      <th></th>\n",
       "      <th>file</th>\n",
       "      <th>min_x</th>\n",
       "      <th>min_y</th>\n",
       "      <th>max_x</th>\n",
       "      <th>max_y</th>\n",
       "    </tr>\n",
       "  </thead>\n",
       "  <tbody>\n",
       "    <tr>\n",
       "      <th>0</th>\n",
       "      <td>013356689bd3389f3f29430412edb6a9_2018</td>\n",
       "      <td>4050000.0</td>\n",
       "      <td>3110000.0</td>\n",
       "      <td>4060000.0</td>\n",
       "      <td>3120000.0</td>\n",
       "    </tr>\n",
       "  </tbody>\n",
       "</table>\n",
       "</div>"
      ],
      "text/plain": [
       "                                    file      min_x      min_y      max_x  \\\n",
       "0  013356689bd3389f3f29430412edb6a9_2018  4050000.0  3110000.0  4060000.0   \n",
       "\n",
       "       max_y  \n",
       "0  3120000.0  "
      ]
     },
     "execution_count": 21,
     "metadata": {},
     "output_type": "execute_result"
    }
   ],
   "source": [
    "duckdb.sql(f'''\n",
    "            select '{file}'           as file,\n",
    "                   min(X_rounded)     as min_x, \n",
    "                   min(Y_rounded)     as min_y, \n",
    "                   max(X_rounded)+100 as max_x, \n",
    "                   max(Y_rounded)+100 as max_y\n",
    "            from extract\n",
    "''').to_df()"
   ]
  },
  {
   "cell_type": "code",
   "execution_count": 15,
   "id": "a165be37-5f98-4637-891b-94adb330314c",
   "metadata": {},
   "outputs": [
    {
     "data": {
      "text/plain": [
       "'visualisations/013356689bd3389f3f29430412edb6a9_2018.tiff'"
      ]
     },
     "execution_count": 15,
     "metadata": {},
     "output_type": "execute_result"
    }
   ],
   "source": [
    "shutil.copyfile(f'data_{year}/{identifier}/response.tiff',f'visualisations/{file}.tiff')"
   ]
  },
  {
   "cell_type": "code",
   "execution_count": null,
   "id": "bab25e00-8f9d-4578-bfe2-9f493a5db3ad",
   "metadata": {},
   "outputs": [],
   "source": []
  }
 ],
 "metadata": {
  "kernelspec": {
   "display_name": "Sentinel Hub",
   "language": "python",
   "name": "sentinelhub"
  },
  "language_info": {
   "codemirror_mode": {
    "name": "ipython",
    "version": 3
   },
   "file_extension": ".py",
   "mimetype": "text/x-python",
   "name": "python",
   "nbconvert_exporter": "python",
   "pygments_lexer": "ipython3",
   "version": "3.10.14"
  }
 },
 "nbformat": 4,
 "nbformat_minor": 5
}
