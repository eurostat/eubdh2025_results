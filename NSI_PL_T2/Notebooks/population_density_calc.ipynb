{
 "cells": [
  {
   "cell_type": "code",
   "execution_count": 7,
   "id": "ddf1e34d-3cbe-45a5-a8d9-5cdf4a5d7c57",
   "metadata": {},
   "outputs": [
    {
     "name": "stdout",
     "output_type": "stream",
     "text": [
      "Original CRS of NUTS3: EPSG:4326\n",
      "Reprojected CRS: ESRI:54009\n",
      "Raster CRS: ESRI:54009\n",
      "Total Population in NUTS3 region: 364399.2259249864\n"
     ]
    }
   ],
   "source": [
    "import rasterio\n",
    "import geopandas as gpd\n",
    "import numpy as np\n",
    "from rasterio.mask import mask\n",
    "from shapely.geometry import mapping\n",
    "\n",
    "# Load the NUTS3 region shapefile (Ensure it contains the NUTS3 boundaries)\n",
    "nuts3_gdf = gpd.read_file(\"NUTS_RG_03M_2024_4326.shp\")  # Change to your actual file (e.g., .shp or .geojson)\n",
    "print(\"Original CRS of NUTS3:\", nuts3_gdf.crs)\n",
    "\n",
    "# 🔹 Filter the specific NUTS3 region (Replace with actual region name or code)\n",
    "selected_region = nuts3_gdf[nuts3_gdf[\"NUTS_ID\"] == \"PL523\"]  # Replace with actual column name & NUTS3 code\n",
    "\n",
    "# Check if the region exists\n",
    "if selected_region.empty:\n",
    "    raise ValueError(\"NUTS3 region not found! Check the NUTS3 code.\")\n",
    "\n",
    "# Reproject NUTS3 polygon to match raster CRS (ESRI:54009)\n",
    "selected_region = selected_region.to_crs(\"ESRI:54009\")\n",
    "print(\"Reprojected CRS:\", selected_region.crs)\n",
    "\n",
    "# Load the population density raster (which is in ESRI:54009)\n",
    "with rasterio.open(\"GHS_POP_E2020_GLOBE_R2023A_54009_100_V1_0.tif\") as src:\n",
    "    print(\"Raster CRS:\", src.crs)\n",
    "\n",
    "    # Clip the raster using the selected NUTS3 region\n",
    "    out_image, out_transform = mask(src, [mapping(selected_region.geometry.iloc[0])], crop=True)\n",
    "\n",
    "# Convert NoData values to NaN\n",
    "out_image = np.where(out_image == src.nodata, np.nan, out_image)\n",
    "\n",
    "# Calculate total population in the NUTS3 region\n",
    "total_population = np.nansum(out_image)\n",
    "\n",
    "print(f\"Total Population in NUTS3 region: {total_population}\")\n"
   ]
  },
  {
   "cell_type": "code",
   "execution_count": null,
   "id": "43f39220-c249-41be-875b-ff984d8842c7",
   "metadata": {},
   "outputs": [],
   "source": []
  }
 ],
 "metadata": {
  "kernelspec": {
   "display_name": "Python 3 (ipykernel)",
   "language": "python",
   "name": "python3"
  },
  "language_info": {
   "codemirror_mode": {
    "name": "ipython",
    "version": 3
   },
   "file_extension": ".py",
   "mimetype": "text/x-python",
   "name": "python",
   "nbconvert_exporter": "python",
   "pygments_lexer": "ipython3",
   "version": "3.10.12"
  }
 },
 "nbformat": 4,
 "nbformat_minor": 5
}
