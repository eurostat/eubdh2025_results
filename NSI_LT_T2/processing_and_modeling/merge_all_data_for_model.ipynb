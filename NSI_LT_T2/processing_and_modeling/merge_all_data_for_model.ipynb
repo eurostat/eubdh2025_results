{
 "cells": [
  {
   "cell_type": "code",
   "execution_count": 1,
   "id": "f74857e9-814b-4939-bcd6-6a63254f0f3f",
   "metadata": {},
   "outputs": [],
   "source": [
    "import pandas as pd\n",
    "import geopandas as gpd"
   ]
  },
  {
   "cell_type": "code",
   "execution_count": null,
   "id": "829e80f2-9cac-492d-92f6-b4e1d9d1c657",
   "metadata": {},
   "outputs": [],
   "source": [
    "build_embeds = [\n",
    "    '../data/lt_2020_out/lt_2020_combined.geojson',\n",
    "    '../data/lt_2024_out/lt_2024_combined.geojson',\n",
    "    '../data/ee_2020_out/ee_2020_combined.geojson',\n",
    "    '../data/ee_2024_out/ee_2024_combined.geojson',\n",
    "]\n",
    "shelter_data = [\n",
    "    '../data/LT/buildings/shelter_buildings_lt.geojson',\n",
    "    '../data/LT/buildings/shelter_buildings_lt.geojson',\n",
    "    '../data/EE/buildings/shelter_buildings_ee.geojson',\n",
    "    '../data/EE/buildings/shelter_buildings_ee.geojson',\n",
    "]\n",
    "shelters_out = []\n",
    "\n",
    "for embeds, shelts in zip(build_embeds, shelter_data):\n",
    "    builds = gpd.read_file(embeds)[['type', 'Shape_Length', 'Shape_Area', 'resnet50_emb', 'geometry']]\n",
    "    factual_shelters = gpd.read_file(shelts)[['geometry']]\n",
    "    factual_shelters['is_shelter'] = 1\n",
    "    \n",
    "    if builds.crs != factual_shelters.crs:\n",
    "        factual_shelters = factual_shelters.to_crs(builds.crs)\n",
    "    \n",
    "    shelters_embeds = gpd.sjoin(builds, factual_shelters, predicate='intersects', how='left').drop_duplicates()\n",
    "    shelters_embeds['is_shelter'] = shelters_embeds['is_shelter'].fillna(0)\n",
    "    shelters_out.append(shelters_embeds)\n",
    "\n",
    "shelters_gdf = gpd.GeoDataFrame(pd.concat(shelters_out, ignore_index=True))\n",
    "shelters_gdf.set_crs(shelters_out[0].crs, inplace=True)\n",
    "shelters_gdf = shelters_gdf.drop('index_right', axis=1)\n",
    "\n",
    "shelters_gdf.to_file('../data/lt_ee_data_for_model.geojson', driver='GeoJSON')"
   ]
  }
 ],
 "metadata": {
  "kernelspec": {
   "display_name": "Python 3 (ipykernel)",
   "language": "python",
   "name": "python3"
  },
  "language_info": {
   "codemirror_mode": {
    "name": "ipython",
    "version": 3
   },
   "file_extension": ".py",
   "mimetype": "text/x-python",
   "name": "python",
   "nbconvert_exporter": "python",
   "pygments_lexer": "ipython3",
   "version": "3.10.12"
  }
 },
 "nbformat": 4,
 "nbformat_minor": 5
}
