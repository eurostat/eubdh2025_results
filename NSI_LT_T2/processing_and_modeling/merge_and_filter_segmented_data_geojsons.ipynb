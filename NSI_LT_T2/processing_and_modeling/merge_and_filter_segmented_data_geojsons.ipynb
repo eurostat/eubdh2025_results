{
 "cells": [
  {
   "cell_type": "code",
   "execution_count": null,
   "id": "2e01c8ad-65b3-481f-ab88-41915b159454",
   "metadata": {},
   "outputs": [],
   "source": [
    "import geopandas as gpd\n",
    "import os\n",
    "import glob\n",
    "import pandas as pd"
   ]
  },
  {
   "cell_type": "code",
   "execution_count": null,
   "id": "7b13fa7c-422c-42b3-b964-81a3e05a170d",
   "metadata": {},
   "outputs": [],
   "source": [
    "def merge_geojsons(directory):\n",
    "    \"\"\"\n",
    "    Reads all GeoJSON files in the specified directory and concatenates them into a single GeoDataFrame.\n",
    "\n",
    "    Parameters:\n",
    "    - directory (str): Path to the directory containing GeoJSON files.\n",
    "\n",
    "    Returns:\n",
    "    - gpd.GeoDataFrame: Merged GeoDataFrame containing all records.\n",
    "    \"\"\"\n",
    "    geojson_files = glob.glob(os.path.join(directory, '*.geojson'))\n",
    "    gdfs = []\n",
    "\n",
    "    for file in geojson_files:\n",
    "        try:\n",
    "            gdf = gpd.read_file(file)\n",
    "            gdfs.append(gdf)\n",
    "        except Exception as e:\n",
    "            print(f\"Error reading {file}: {e}\")\n",
    "\n",
    "    if gdfs:\n",
    "        merged_gdf = gpd.GeoDataFrame(pd.concat(gdfs, ignore_index=True))\n",
    "        merged_gdf.set_crs(gdfs[0].crs, inplace=True)\n",
    "        return merged_gdf\n",
    "    else:\n",
    "        print('No GeoJSON files found.')\n",
    "        return gpd.GeoDataFrame()"
   ]
  },
  {
   "cell_type": "code",
   "execution_count": null,
   "id": "db8f7858-bc33-464c-bf31-ea4f3dcb5800",
   "metadata": {},
   "outputs": [],
   "source": [
    "def process_segmented_geojsons(input_path, osm_data_path, output_path):\n",
    "    gdf = merge_geojsons(input_path)\n",
    "    osm_buildings = gpd.read_file(osm_data_path)\n",
    "    gdf = gpd.sjoin(gdf, osm_buildings, how='left', predicate='intersects')\n",
    "    gdf = gdf[gdf['index_right'].isna()].drop('index_right', axis=1)\n",
    "    gdf.to_file(output_path, driver='GeoJSON')"
   ]
  },
  {
   "cell_type": "code",
   "execution_count": null,
   "id": "41cd062e-5421-49d0-8675-f18ce9ec9404",
   "metadata": {},
   "outputs": [],
   "source": [
    "data = [\n",
    "    {'input_path': '../data/sliced/EE/2020_jsons', 'osm_data_path': '../data/EE/buildings/osm_buildings_ee.geojson', 'output_path': '../data/sliced/EE/2020_combined.geojson'},\n",
    "    {'input_path': '../data/sliced/EE/2024_jsons', 'osm_data_path': '../data/EE/buildings/osm_buildings_ee.geojson', 'output_path': '../data/sliced/EE/2024_combined.geojson'},\n",
    "    {'input_path': '../data/sliced/LT/2020_jsons', 'osm_data_path': '../data/LT/buildings/osm_buildings_lt.geojson', 'output_path': '../data/sliced/LT/2020_combined.geojson'},\n",
    "    {'input_path': '../data/sliced/LT/2024_jsons', 'osm_data_path': '../data/LT/buildings/osm_buildings_lt.geojson', 'output_path': '../data/sliced/LT/2024_combined.geojson'},\n",
    "]\n",
    "\n",
    "for dataset in data:\n",
    "    process_segmented_geojsons(**dataset)"
   ]
  },
  {
   "cell_type": "code",
   "execution_count": null,
   "id": "5bdbb9eb-535d-4084-9238-f0375ed32949",
   "metadata": {},
   "outputs": [],
   "source": []
  }
 ],
 "metadata": {
  "kernelspec": {
   "display_name": "Python 3 (ipykernel)",
   "language": "python",
   "name": "python3"
  },
  "language_info": {
   "codemirror_mode": {
    "name": "ipython",
    "version": 3
   },
   "file_extension": ".py",
   "mimetype": "text/x-python",
   "name": "python",
   "nbconvert_exporter": "python",
   "pygments_lexer": "ipython3",
   "version": "3.10.12"
  }
 },
 "nbformat": 4,
 "nbformat_minor": 5
}
